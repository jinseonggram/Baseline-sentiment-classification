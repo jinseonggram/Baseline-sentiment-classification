{
  "cells": [
    {
      "cell_type": "markdown",
      "metadata": {
        "id": "TH32rzgprvgM"
      },
      "source": [
        "# Import requirements"
      ]
    },
    {
      "cell_type": "code",
      "execution_count": 1,
      "metadata": {
        "colab": {
          "base_uri": "https://localhost:8080/"
        },
        "id": "G9EvC1HBuf41",
        "outputId": "3763d390-63ab-4038-90f4-57adf8740d7e"
      },
      "outputs": [
        {
          "output_type": "stream",
          "name": "stdout",
          "text": [
            "Looking in indexes: https://pypi.org/simple, https://us-python.pkg.dev/colab-wheels/public/simple/\n",
            "Collecting Sentencepiece\n",
            "  Downloading sentencepiece-0.1.97-cp37-cp37m-manylinux_2_17_x86_64.manylinux2014_x86_64.whl (1.3 MB)\n",
            "\u001b[K     |████████████████████████████████| 1.3 MB 16.3 MB/s \n",
            "\u001b[?25hInstalling collected packages: Sentencepiece\n",
            "Successfully installed Sentencepiece-0.1.97\n",
            "Looking in indexes: https://pypi.org/simple, https://us-python.pkg.dev/colab-wheels/public/simple/\n",
            "Collecting transformers\n",
            "  Downloading transformers-4.22.2-py3-none-any.whl (4.9 MB)\n",
            "\u001b[K     |████████████████████████████████| 4.9 MB 14.0 MB/s \n",
            "\u001b[?25hRequirement already satisfied: numpy>=1.17 in /usr/local/lib/python3.7/dist-packages (from transformers) (1.21.6)\n",
            "Requirement already satisfied: requests in /usr/local/lib/python3.7/dist-packages (from transformers) (2.23.0)\n",
            "Requirement already satisfied: importlib-metadata in /usr/local/lib/python3.7/dist-packages (from transformers) (4.12.0)\n",
            "Requirement already satisfied: regex!=2019.12.17 in /usr/local/lib/python3.7/dist-packages (from transformers) (2022.6.2)\n",
            "Collecting huggingface-hub<1.0,>=0.9.0\n",
            "  Downloading huggingface_hub-0.10.0-py3-none-any.whl (163 kB)\n",
            "\u001b[K     |████████████████████████████████| 163 kB 91.7 MB/s \n",
            "\u001b[?25hRequirement already satisfied: filelock in /usr/local/lib/python3.7/dist-packages (from transformers) (3.8.0)\n",
            "Requirement already satisfied: packaging>=20.0 in /usr/local/lib/python3.7/dist-packages (from transformers) (21.3)\n",
            "Requirement already satisfied: tqdm>=4.27 in /usr/local/lib/python3.7/dist-packages (from transformers) (4.64.1)\n",
            "Requirement already satisfied: pyyaml>=5.1 in /usr/local/lib/python3.7/dist-packages (from transformers) (6.0)\n",
            "Collecting tokenizers!=0.11.3,<0.13,>=0.11.1\n",
            "  Downloading tokenizers-0.12.1-cp37-cp37m-manylinux_2_12_x86_64.manylinux2010_x86_64.whl (6.6 MB)\n",
            "\u001b[K     |████████████████████████████████| 6.6 MB 79.4 MB/s \n",
            "\u001b[?25hRequirement already satisfied: typing-extensions>=3.7.4.3 in /usr/local/lib/python3.7/dist-packages (from huggingface-hub<1.0,>=0.9.0->transformers) (4.1.1)\n",
            "Requirement already satisfied: pyparsing!=3.0.5,>=2.0.2 in /usr/local/lib/python3.7/dist-packages (from packaging>=20.0->transformers) (3.0.9)\n",
            "Requirement already satisfied: zipp>=0.5 in /usr/local/lib/python3.7/dist-packages (from importlib-metadata->transformers) (3.8.1)\n",
            "Requirement already satisfied: urllib3!=1.25.0,!=1.25.1,<1.26,>=1.21.1 in /usr/local/lib/python3.7/dist-packages (from requests->transformers) (1.24.3)\n",
            "Requirement already satisfied: idna<3,>=2.5 in /usr/local/lib/python3.7/dist-packages (from requests->transformers) (2.10)\n",
            "Requirement already satisfied: chardet<4,>=3.0.2 in /usr/local/lib/python3.7/dist-packages (from requests->transformers) (3.0.4)\n",
            "Requirement already satisfied: certifi>=2017.4.17 in /usr/local/lib/python3.7/dist-packages (from requests->transformers) (2022.6.15)\n",
            "Installing collected packages: tokenizers, huggingface-hub, transformers\n",
            "Successfully installed huggingface-hub-0.10.0 tokenizers-0.12.1 transformers-4.22.2\n"
          ]
        }
      ],
      "source": [
        "!pip install Sentencepiece\n",
        "!pip install transformers"
      ]
    },
    {
      "cell_type": "code",
      "execution_count": 2,
      "metadata": {
        "id": "AAdLxrUZrvgP"
      },
      "outputs": [],
      "source": [
        "import os\n",
        "import pdb\n",
        "import argparse\n",
        "from dataclasses import dataclass, field\n",
        "from typing import Optional\n",
        "from collections import defaultdict\n",
        "\n",
        "import torch\n",
        "from torch.nn.utils.rnn import pad_sequence\n",
        "\n",
        "import numpy as np\n",
        "from tqdm import tqdm, trange\n",
        "\n",
        "from transformers import (\n",
        "    BertForSequenceClassification,\n",
        "    BertTokenizer,\n",
        "    AutoConfig,\n",
        "    AdamW,\n",
        "    \n",
        "    AlbertTokenizer, AlbertForSequenceClassification\n",
        ")"
      ]
    },
    {
      "cell_type": "markdown",
      "metadata": {
        "id": "ASWOOmXqrvgQ"
      },
      "source": [
        "# 1. Preprocess"
      ]
    },
    {
      "cell_type": "code",
      "execution_count": 3,
      "metadata": {
        "id": "RAnU6w29rvgR"
      },
      "outputs": [],
      "source": [
        "def make_id_file(task, tokenizer):\n",
        "    def make_data_strings(file_name):\n",
        "        data_strings = []\n",
        "        with open(os.path.join(file_name), 'r', encoding='utf-8') as f:\n",
        "            id_file_data = [tokenizer.encode(line.lower()) for line in f.readlines()]\n",
        "        for item in id_file_data:\n",
        "            data_strings.append(' '.join([str(k) for k in item]))\n",
        "        return data_strings\n",
        "    \n",
        "    print('it will take some times...')\n",
        "    train_pos = make_data_strings('sentiment.train.1')\n",
        "    train_neg = make_data_strings('sentiment.train.0')\n",
        "    dev_pos = make_data_strings('sentiment.dev.1')\n",
        "    dev_neg = make_data_strings('sentiment.dev.0')\n",
        "\n",
        "    print('make id file finished!')\n",
        "    return train_pos, train_neg, dev_pos, dev_neg"
      ]
    },
    {
      "cell_type": "code",
      "execution_count": 4,
      "metadata": {
        "colab": {
          "base_uri": "https://localhost:8080/",
          "height": 81,
          "referenced_widgets": [
            "427d76d4ce4d44db82937cd83b349f90",
            "abfc63e031f84a32996403a27c6fd7a7",
            "7dfefc76d3824a41a45693b24b9eb395",
            "53844dc5ad93451e82ab4859b0ef7d5f",
            "44e24f3768b142b89ca8a92ae515e10c",
            "c8c5fa400f3a424caf37f54218af60f3",
            "a4c7c6f5be9f414cb507bc1f9ad9bb09",
            "3e8bf6f7e5574d27b3e0b00d9102c7e5",
            "f76b1bdea1e64fa7b3ffc4c8101967b5",
            "2d2ae65d28ef46d5aef91e1a2a84fe90",
            "ec98a909d102452c92ee5578df0de151",
            "b07ac90f093e46629da8db311b203865",
            "4dd6ab81ea4b44afa2c1afd1183d141c",
            "ad2a78f01b4740a899059413cee19a87",
            "c6636a2c4c8b426aaabda78db1898033",
            "000ece615402493ea91c40925afcc708",
            "6f05a4935c5349248248daca41fb53ce",
            "469c430709ec43c5aa88914244fc9e5d",
            "db97e0d170174ababbd741235c271bf4",
            "1f0ae4fd3b404e7f8ec808006fee0f5e",
            "427f2ee33dae4b8698f866042269deb7",
            "44eeb8e10395459c824e7a2911361562"
          ]
        },
        "id": "Ui2HOCflrvgR",
        "outputId": "13026924-d165-4266-9b16-79f1f45bf044"
      },
      "outputs": [
        {
          "output_type": "display_data",
          "data": {
            "text/plain": [
              "Downloading:   0%|          | 0.00/760k [00:00<?, ?B/s]"
            ],
            "application/vnd.jupyter.widget-view+json": {
              "version_major": 2,
              "version_minor": 0,
              "model_id": "427d76d4ce4d44db82937cd83b349f90"
            }
          },
          "metadata": {}
        },
        {
          "output_type": "display_data",
          "data": {
            "text/plain": [
              "Downloading:   0%|          | 0.00/684 [00:00<?, ?B/s]"
            ],
            "application/vnd.jupyter.widget-view+json": {
              "version_major": 2,
              "version_minor": 0,
              "model_id": "b07ac90f093e46629da8db311b203865"
            }
          },
          "metadata": {}
        }
      ],
      "source": [
        "# tokenizer = BertTokenizer.from_pretrained('bert-base-uncased')\n",
        "tokenizer = AlbertTokenizer.from_pretrained(\"albert-base-v2\")"
      ]
    },
    {
      "cell_type": "code",
      "execution_count": 5,
      "metadata": {
        "colab": {
          "base_uri": "https://localhost:8080/",
          "height": 218
        },
        "id": "4jVuK-V1uq3L",
        "outputId": "cd73c9ab-0768-4a63-f269-57b92c7d5ed6"
      },
      "outputs": [
        {
          "output_type": "display_data",
          "data": {
            "text/plain": [
              "<IPython.core.display.HTML object>"
            ],
            "text/html": [
              "\n",
              "     <input type=\"file\" id=\"files-f8b16d1d-e829-47d5-9037-db87d5ebc9d6\" name=\"files[]\" multiple disabled\n",
              "        style=\"border:none\" />\n",
              "     <output id=\"result-f8b16d1d-e829-47d5-9037-db87d5ebc9d6\">\n",
              "      Upload widget is only available when the cell has been executed in the\n",
              "      current browser session. Please rerun this cell to enable.\n",
              "      </output>\n",
              "      <script>// Copyright 2017 Google LLC\n",
              "//\n",
              "// Licensed under the Apache License, Version 2.0 (the \"License\");\n",
              "// you may not use this file except in compliance with the License.\n",
              "// You may obtain a copy of the License at\n",
              "//\n",
              "//      http://www.apache.org/licenses/LICENSE-2.0\n",
              "//\n",
              "// Unless required by applicable law or agreed to in writing, software\n",
              "// distributed under the License is distributed on an \"AS IS\" BASIS,\n",
              "// WITHOUT WARRANTIES OR CONDITIONS OF ANY KIND, either express or implied.\n",
              "// See the License for the specific language governing permissions and\n",
              "// limitations under the License.\n",
              "\n",
              "/**\n",
              " * @fileoverview Helpers for google.colab Python module.\n",
              " */\n",
              "(function(scope) {\n",
              "function span(text, styleAttributes = {}) {\n",
              "  const element = document.createElement('span');\n",
              "  element.textContent = text;\n",
              "  for (const key of Object.keys(styleAttributes)) {\n",
              "    element.style[key] = styleAttributes[key];\n",
              "  }\n",
              "  return element;\n",
              "}\n",
              "\n",
              "// Max number of bytes which will be uploaded at a time.\n",
              "const MAX_PAYLOAD_SIZE = 100 * 1024;\n",
              "\n",
              "function _uploadFiles(inputId, outputId) {\n",
              "  const steps = uploadFilesStep(inputId, outputId);\n",
              "  const outputElement = document.getElementById(outputId);\n",
              "  // Cache steps on the outputElement to make it available for the next call\n",
              "  // to uploadFilesContinue from Python.\n",
              "  outputElement.steps = steps;\n",
              "\n",
              "  return _uploadFilesContinue(outputId);\n",
              "}\n",
              "\n",
              "// This is roughly an async generator (not supported in the browser yet),\n",
              "// where there are multiple asynchronous steps and the Python side is going\n",
              "// to poll for completion of each step.\n",
              "// This uses a Promise to block the python side on completion of each step,\n",
              "// then passes the result of the previous step as the input to the next step.\n",
              "function _uploadFilesContinue(outputId) {\n",
              "  const outputElement = document.getElementById(outputId);\n",
              "  const steps = outputElement.steps;\n",
              "\n",
              "  const next = steps.next(outputElement.lastPromiseValue);\n",
              "  return Promise.resolve(next.value.promise).then((value) => {\n",
              "    // Cache the last promise value to make it available to the next\n",
              "    // step of the generator.\n",
              "    outputElement.lastPromiseValue = value;\n",
              "    return next.value.response;\n",
              "  });\n",
              "}\n",
              "\n",
              "/**\n",
              " * Generator function which is called between each async step of the upload\n",
              " * process.\n",
              " * @param {string} inputId Element ID of the input file picker element.\n",
              " * @param {string} outputId Element ID of the output display.\n",
              " * @return {!Iterable<!Object>} Iterable of next steps.\n",
              " */\n",
              "function* uploadFilesStep(inputId, outputId) {\n",
              "  const inputElement = document.getElementById(inputId);\n",
              "  inputElement.disabled = false;\n",
              "\n",
              "  const outputElement = document.getElementById(outputId);\n",
              "  outputElement.innerHTML = '';\n",
              "\n",
              "  const pickedPromise = new Promise((resolve) => {\n",
              "    inputElement.addEventListener('change', (e) => {\n",
              "      resolve(e.target.files);\n",
              "    });\n",
              "  });\n",
              "\n",
              "  const cancel = document.createElement('button');\n",
              "  inputElement.parentElement.appendChild(cancel);\n",
              "  cancel.textContent = 'Cancel upload';\n",
              "  const cancelPromise = new Promise((resolve) => {\n",
              "    cancel.onclick = () => {\n",
              "      resolve(null);\n",
              "    };\n",
              "  });\n",
              "\n",
              "  // Wait for the user to pick the files.\n",
              "  const files = yield {\n",
              "    promise: Promise.race([pickedPromise, cancelPromise]),\n",
              "    response: {\n",
              "      action: 'starting',\n",
              "    }\n",
              "  };\n",
              "\n",
              "  cancel.remove();\n",
              "\n",
              "  // Disable the input element since further picks are not allowed.\n",
              "  inputElement.disabled = true;\n",
              "\n",
              "  if (!files) {\n",
              "    return {\n",
              "      response: {\n",
              "        action: 'complete',\n",
              "      }\n",
              "    };\n",
              "  }\n",
              "\n",
              "  for (const file of files) {\n",
              "    const li = document.createElement('li');\n",
              "    li.append(span(file.name, {fontWeight: 'bold'}));\n",
              "    li.append(span(\n",
              "        `(${file.type || 'n/a'}) - ${file.size} bytes, ` +\n",
              "        `last modified: ${\n",
              "            file.lastModifiedDate ? file.lastModifiedDate.toLocaleDateString() :\n",
              "                                    'n/a'} - `));\n",
              "    const percent = span('0% done');\n",
              "    li.appendChild(percent);\n",
              "\n",
              "    outputElement.appendChild(li);\n",
              "\n",
              "    const fileDataPromise = new Promise((resolve) => {\n",
              "      const reader = new FileReader();\n",
              "      reader.onload = (e) => {\n",
              "        resolve(e.target.result);\n",
              "      };\n",
              "      reader.readAsArrayBuffer(file);\n",
              "    });\n",
              "    // Wait for the data to be ready.\n",
              "    let fileData = yield {\n",
              "      promise: fileDataPromise,\n",
              "      response: {\n",
              "        action: 'continue',\n",
              "      }\n",
              "    };\n",
              "\n",
              "    // Use a chunked sending to avoid message size limits. See b/62115660.\n",
              "    let position = 0;\n",
              "    do {\n",
              "      const length = Math.min(fileData.byteLength - position, MAX_PAYLOAD_SIZE);\n",
              "      const chunk = new Uint8Array(fileData, position, length);\n",
              "      position += length;\n",
              "\n",
              "      const base64 = btoa(String.fromCharCode.apply(null, chunk));\n",
              "      yield {\n",
              "        response: {\n",
              "          action: 'append',\n",
              "          file: file.name,\n",
              "          data: base64,\n",
              "        },\n",
              "      };\n",
              "\n",
              "      let percentDone = fileData.byteLength === 0 ?\n",
              "          100 :\n",
              "          Math.round((position / fileData.byteLength) * 100);\n",
              "      percent.textContent = `${percentDone}% done`;\n",
              "\n",
              "    } while (position < fileData.byteLength);\n",
              "  }\n",
              "\n",
              "  // All done.\n",
              "  yield {\n",
              "    response: {\n",
              "      action: 'complete',\n",
              "    }\n",
              "  };\n",
              "}\n",
              "\n",
              "scope.google = scope.google || {};\n",
              "scope.google.colab = scope.google.colab || {};\n",
              "scope.google.colab._files = {\n",
              "  _uploadFiles,\n",
              "  _uploadFilesContinue,\n",
              "};\n",
              "})(self);\n",
              "</script> "
            ]
          },
          "metadata": {}
        },
        {
          "output_type": "stream",
          "name": "stdout",
          "text": [
            "Saving sentiment.train.0 to sentiment.train.0\n",
            "Saving sentiment.train.1 to sentiment.train.1\n",
            "Saving test_no_label.csv to test_no_label.csv\n",
            "Saving sentiment.dev.1 to sentiment.dev.1\n",
            "Saving sentiment.dev.0 to sentiment.dev.0\n"
          ]
        }
      ],
      "source": [
        "from google.colab import files\n",
        "uploaded = files.upload()"
      ]
    },
    {
      "cell_type": "code",
      "execution_count": 6,
      "metadata": {
        "colab": {
          "base_uri": "https://localhost:8080/"
        },
        "id": "ttzRlY4Ov0jZ",
        "outputId": "31a98472-804f-48e4-f6ad-98cca12b6d43"
      },
      "outputs": [
        {
          "output_type": "stream",
          "name": "stdout",
          "text": [
            "sample_data\t sentiment.dev.1    sentiment.train.1\n",
            "sentiment.dev.0  sentiment.train.0  test_no_label.csv\n"
          ]
        }
      ],
      "source": [
        "!ls"
      ]
    },
    {
      "cell_type": "code",
      "execution_count": 6,
      "metadata": {
        "colab": {
          "base_uri": "https://localhost:8080/"
        },
        "id": "BAgztXIBrvgS",
        "outputId": "e12e0e69-d0d9-45ba-bdbc-5b546c52f7e6"
      },
      "outputs": [
        {
          "output_type": "stream",
          "name": "stdout",
          "text": [
            "it will take some times...\n",
            "make id file finished!\n"
          ]
        }
      ],
      "source": [
        "train_pos, train_neg, dev_pos, dev_neg = make_id_file('yelp', tokenizer)"
      ]
    },
    {
      "cell_type": "code",
      "execution_count": 7,
      "metadata": {
        "colab": {
          "base_uri": "https://localhost:8080/"
        },
        "id": "wRh2WjGRrvgS",
        "outputId": "9eaf75e4-af66-4c5f-9c48-5d8f1b771aea"
      },
      "outputs": [
        {
          "output_type": "execute_result",
          "data": {
            "text/plain": [
              "['2 5977 950 13 9 3',\n",
              " '2 18656 7705 365 13 9 3',\n",
              " '2 59 67 57 1954 621 18 17 1392 5262 56 25 510 254 13 9 3',\n",
              " '2 32 13 22 18 21 254 13865 69 20538 7298 13 9 3',\n",
              " '2 14 1138 25 4753 13 9 3',\n",
              " '2 254 748 950 13 9 3',\n",
              " '2 254 365 13 9 3',\n",
              " '2 11554 16 208 25 27269 17 7503 16 621 18 13 9 3',\n",
              " '2 374 209 26 4311 54 748 16385 18 17 3911 13 9 3',\n",
              " '2 14 78 978 1879 5289 13 9 3']"
            ]
          },
          "metadata": {},
          "execution_count": 7
        }
      ],
      "source": [
        "train_pos[:10]"
      ]
    },
    {
      "cell_type": "code",
      "execution_count": 8,
      "metadata": {
        "id": "JdpQQQMUrvgT"
      },
      "outputs": [],
      "source": [
        "class SentimentDataset(object):\n",
        "    def __init__(self, tokenizer, pos, neg):\n",
        "        self.tokenizer = tokenizer\n",
        "        self.data = []\n",
        "        self.label = []\n",
        "\n",
        "        for pos_sent in pos:\n",
        "            self.data += [self._cast_to_int(pos_sent.strip().split())]\n",
        "            self.label += [[1]]\n",
        "            # print('pos_sent: ', self.label, pos_sent)\n",
        "        for neg_sent in neg:\n",
        "            self.data += [self._cast_to_int(neg_sent.strip().split())]\n",
        "            self.label += [[0]]\n",
        "\n",
        "    def _cast_to_int(self, sample):\n",
        "        return [int(word_id) for word_id in sample]\n",
        "\n",
        "    def __len__(self):\n",
        "        return len(self.data)\n",
        "\n",
        "    def __getitem__(self, index):\n",
        "        sample = self.data[index]\n",
        "        return np.array(sample), np.array(self.label[index])"
      ]
    },
    {
      "cell_type": "code",
      "execution_count": 9,
      "metadata": {
        "id": "wCz5ey8xrvgU"
      },
      "outputs": [],
      "source": [
        "train_dataset = SentimentDataset(tokenizer, train_pos, train_neg)\n",
        "dev_dataset = SentimentDataset(tokenizer, dev_pos, dev_neg)"
      ]
    },
    {
      "cell_type": "code",
      "execution_count": 11,
      "metadata": {
        "id": "UuvkMczvrvgU"
      },
      "outputs": [],
      "source": [
        "# for i, item in reversed(list(enumerate(train_dataset))):\n",
        "#     print(item)\n",
        "#     if i == 1:\n",
        "#         break\n",
        "\n",
        "# for i, item in enumerate(train_dataset):\n",
        "#     print(item)\n",
        "#     if i == 1:\n",
        "#         break"
      ]
    },
    {
      "cell_type": "code",
      "execution_count": 10,
      "metadata": {
        "id": "B0wRUBYSrvgU"
      },
      "outputs": [],
      "source": [
        "# def collate_fn_style(samples):\n",
        "#     # print('samples : ',samples)\n",
        "#     input_ids, labels = zip(*samples)\n",
        "#     # print('inputs : ', input_ids)\n",
        "#     # print('labels : ', labels)\n",
        "\n",
        "#     # batch 사이즈중 가장 긴 문장의 길이 추출\n",
        "#     max_len = max(len(input_id) for input_id in input_ids)\n",
        "\n",
        "#     # 조금 더 잘 pad 를 하기 위해 문장 정리\n",
        "#     sorted_indices = np.argsort([len(input_id) for input_id in input_ids])[::-1]\n",
        "    \n",
        "#     # 위에 오류\n",
        "#     # sorted_indices = range(len(input_ids))\n",
        "\n",
        "#     # https://pytorch.org/docs/stable/generated/torch.nn.utils.rnn.pad_sequence.html, 길이를 맞추기 위해 pad 를 해줌. 전체적인 dim 이 같아짐.\n",
        "#     input_ids = pad_sequence([torch.tensor(input_ids[index]) for index in sorted_indices],\n",
        "#                              batch_first=True)\n",
        "    \n",
        "#     # 불필요한 영역에는 attention 을 두지 않도록 attention mask 생성.\n",
        "#     attention_mask = torch.tensor(\n",
        "#         [[1] * len(input_ids[index]) + [0] * (max_len - len(input_ids[index])) for index in\n",
        "#          sorted_indices])\n",
        "\n",
        "#     # attention_mask = []\n",
        "#     # for seq in input_ids:\n",
        "#     #   seq_mask = [float(i>0) for i in seq]\n",
        "#     #   attention_mask.append(seq_mask)\n",
        "    \n",
        "#     # attention_mask = torch.tensor(attention_mask)\n",
        "      \n",
        "#     token_type_ids = torch.tensor([[0] * len(input_ids[index]) for index in sorted_indices])\n",
        "#     position_ids = torch.tensor([list(range(len(input_ids[index]))) for index  in sorted_indices])\n",
        "#     labels = torch.tensor(np.stack(labels, axis=0)[sorted_indices])\n",
        "\n",
        "#     return input_ids, attention_mask, token_type_ids, position_ids, labels\n",
        "\n",
        "\n",
        "def collate_fn_style(samples):\n",
        "    input_ids, labels = zip(*samples)\n",
        "    max_len = max(len(input_id) for input_id in input_ids)\n",
        "    # sorted_indices = np.argsort([len(input_id) for input_id in input_ids])[::-1] \n",
        "    sorted_indices = range(len(input_ids))\n",
        "\n",
        "    input_ids = pad_sequence([torch.tensor(input_ids[index]) for index in sorted_indices],\n",
        "                             batch_first=True)\n",
        "    # attention_mask = torch.tensor(\n",
        "    #     [[1] * len(input_ids[index]) + [0] * (max_len - len(input_ids[index])) for index in\n",
        "    #      sorted_indices])\n",
        "    \n",
        "    attention_mask = []\n",
        "    for seq in input_ids:\n",
        "      seq_mask = [float(i>0) for i in seq]\n",
        "      attention_mask.append(seq_mask)\n",
        "    attention_mask = torch.tensor(attention_mask)\n",
        "\n",
        "    token_type_ids = torch.tensor([[0] * len(input_ids[index]) for index in sorted_indices])\n",
        "    position_ids = torch.tensor([list(range(len(input_ids[index]))) for index in sorted_indices])\n",
        "    labels = torch.tensor(np.stack(labels, axis=0)[sorted_indices])\n",
        "    # labels = torch.tensor(labels)\n",
        "    \n",
        "\n",
        "    return input_ids, attention_mask, token_type_ids, position_ids, labels"
      ]
    },
    {
      "cell_type": "code",
      "execution_count": 11,
      "metadata": {
        "id": "5saagig0rvgV"
      },
      "outputs": [],
      "source": [
        "train_batch_size=128 # 32-> 128\n",
        "eval_batch_size=256 # 64-> 256\n",
        "\n",
        "train_loader = torch.utils.data.DataLoader(train_dataset,\n",
        "                                           batch_size=train_batch_size,\n",
        "                                           shuffle=True, collate_fn=collate_fn_style,\n",
        "                                           pin_memory=True, num_workers=2)\n",
        "dev_loader = torch.utils.data.DataLoader(dev_dataset, batch_size=eval_batch_size,\n",
        "                                         shuffle=False, collate_fn=collate_fn_style,\n",
        "                                         num_workers=2)"
      ]
    },
    {
      "cell_type": "code",
      "execution_count": 12,
      "metadata": {
        "colab": {
          "base_uri": "https://localhost:8080/"
        },
        "id": "A9LCKfZPyXd3",
        "outputId": "fb652a5b-568d-4ff3-a888-d9f6226c09f8"
      },
      "outputs": [
        {
          "output_type": "stream",
          "name": "stdout",
          "text": [
            "[tensor([[    2,    31,   129,  ...,     0,     0,     0],\n",
            "        [    2,  1900,   840,  ...,     0,     0,     0],\n",
            "        [    2,   868,   976,  ...,     0,     0,     0],\n",
            "        ...,\n",
            "        [    2,    17, 11513,  ...,     0,     0,     0],\n",
            "        [    2,  8387,     3,  ...,     0,     0,     0],\n",
            "        [    2,   148,  2260,  ...,     0,     0,     0]]), tensor([[1., 1., 1.,  ..., 0., 0., 0.],\n",
            "        [1., 1., 1.,  ..., 0., 0., 0.],\n",
            "        [1., 1., 1.,  ..., 0., 0., 0.],\n",
            "        ...,\n",
            "        [1., 1., 1.,  ..., 0., 0., 0.],\n",
            "        [1., 1., 1.,  ..., 0., 0., 0.],\n",
            "        [1., 1., 1.,  ..., 0., 0., 0.]]), tensor([[0, 0, 0,  ..., 0, 0, 0],\n",
            "        [0, 0, 0,  ..., 0, 0, 0],\n",
            "        [0, 0, 0,  ..., 0, 0, 0],\n",
            "        ...,\n",
            "        [0, 0, 0,  ..., 0, 0, 0],\n",
            "        [0, 0, 0,  ..., 0, 0, 0],\n",
            "        [0, 0, 0,  ..., 0, 0, 0]]), tensor([[ 0,  1,  2,  ..., 20, 21, 22],\n",
            "        [ 0,  1,  2,  ..., 20, 21, 22],\n",
            "        [ 0,  1,  2,  ..., 20, 21, 22],\n",
            "        ...,\n",
            "        [ 0,  1,  2,  ..., 20, 21, 22],\n",
            "        [ 0,  1,  2,  ..., 20, 21, 22],\n",
            "        [ 0,  1,  2,  ..., 20, 21, 22]]), tensor([[1],\n",
            "        [0],\n",
            "        [0],\n",
            "        [1],\n",
            "        [1],\n",
            "        [1],\n",
            "        [0],\n",
            "        [1],\n",
            "        [0],\n",
            "        [1],\n",
            "        [0],\n",
            "        [0],\n",
            "        [1],\n",
            "        [0],\n",
            "        [0],\n",
            "        [1],\n",
            "        [1],\n",
            "        [0],\n",
            "        [1],\n",
            "        [1],\n",
            "        [1],\n",
            "        [0],\n",
            "        [1],\n",
            "        [1],\n",
            "        [1],\n",
            "        [1],\n",
            "        [1],\n",
            "        [1],\n",
            "        [0],\n",
            "        [1],\n",
            "        [0],\n",
            "        [1],\n",
            "        [0],\n",
            "        [1],\n",
            "        [1],\n",
            "        [0],\n",
            "        [1],\n",
            "        [1],\n",
            "        [1],\n",
            "        [0],\n",
            "        [0],\n",
            "        [1],\n",
            "        [1],\n",
            "        [1],\n",
            "        [0],\n",
            "        [1],\n",
            "        [0],\n",
            "        [0],\n",
            "        [0],\n",
            "        [0],\n",
            "        [0],\n",
            "        [1],\n",
            "        [1],\n",
            "        [0],\n",
            "        [0],\n",
            "        [1],\n",
            "        [0],\n",
            "        [1],\n",
            "        [0],\n",
            "        [0],\n",
            "        [0],\n",
            "        [0],\n",
            "        [0],\n",
            "        [1],\n",
            "        [0],\n",
            "        [0],\n",
            "        [1],\n",
            "        [0],\n",
            "        [1],\n",
            "        [0],\n",
            "        [1],\n",
            "        [1],\n",
            "        [1],\n",
            "        [0],\n",
            "        [0],\n",
            "        [0],\n",
            "        [1],\n",
            "        [0],\n",
            "        [1],\n",
            "        [1],\n",
            "        [1],\n",
            "        [1],\n",
            "        [1],\n",
            "        [1],\n",
            "        [1],\n",
            "        [0],\n",
            "        [1],\n",
            "        [1],\n",
            "        [1],\n",
            "        [0],\n",
            "        [0],\n",
            "        [0],\n",
            "        [0],\n",
            "        [1],\n",
            "        [1],\n",
            "        [0],\n",
            "        [0],\n",
            "        [1],\n",
            "        [1],\n",
            "        [0],\n",
            "        [1],\n",
            "        [0],\n",
            "        [1],\n",
            "        [0],\n",
            "        [1],\n",
            "        [1],\n",
            "        [1],\n",
            "        [0],\n",
            "        [1],\n",
            "        [1],\n",
            "        [0],\n",
            "        [1],\n",
            "        [0],\n",
            "        [0],\n",
            "        [1],\n",
            "        [0],\n",
            "        [1],\n",
            "        [0],\n",
            "        [1],\n",
            "        [1],\n",
            "        [1],\n",
            "        [1],\n",
            "        [1],\n",
            "        [1],\n",
            "        [1],\n",
            "        [0],\n",
            "        [0],\n",
            "        [1]])]\n"
          ]
        }
      ],
      "source": [
        "for idx, i in enumerate(train_loader):\n",
        "    input_ids, attention_mask, token_type_ids, position_ids, labels = i\n",
        "    print(i)\n",
        "    if idx == 0:\n",
        "      break"
      ]
    },
    {
      "cell_type": "code",
      "execution_count": 13,
      "metadata": {
        "colab": {
          "base_uri": "https://localhost:8080/",
          "height": 895,
          "referenced_widgets": [
            "159ff9fb34224d3e812ed435ea319c12",
            "dcd4828afc784f65a30eabe607609999",
            "f2d1c37e0fa34fccbfeaae801825f379",
            "0b8269f4ab2b4db29601936144c57d5d",
            "f6aa4cde57d54d1dbcc1fb6d2e54427f",
            "dd9465f3193645029fab820f60de140c",
            "237455ec43dd47d9b5357720bccee5b6",
            "949fd5022fb941e79700eb57affe402e",
            "d23081f1b8c946b1bb0190f68ed5f204",
            "7499a192a8fe4e6686a82124baa3cba2",
            "84df4ace8ebc4519b5d7ea6cfb5b2cfb"
          ]
        },
        "id": "zvFqCaCnrvgW",
        "outputId": "9a7fd338-de2c-484f-e264-2f6932af8227"
      },
      "outputs": [
        {
          "output_type": "display_data",
          "data": {
            "text/plain": [
              "Downloading:   0%|          | 0.00/47.4M [00:00<?, ?B/s]"
            ],
            "application/vnd.jupyter.widget-view+json": {
              "version_major": 2,
              "version_minor": 0,
              "model_id": "159ff9fb34224d3e812ed435ea319c12"
            }
          },
          "metadata": {}
        },
        {
          "output_type": "stream",
          "name": "stderr",
          "text": [
            "Some weights of the model checkpoint at albert-base-v2 were not used when initializing AlbertForSequenceClassification: ['predictions.dense.bias', 'predictions.LayerNorm.bias', 'predictions.dense.weight', 'predictions.LayerNorm.weight', 'predictions.bias', 'predictions.decoder.bias', 'predictions.decoder.weight']\n",
            "- This IS expected if you are initializing AlbertForSequenceClassification from the checkpoint of a model trained on another task or with another architecture (e.g. initializing a BertForSequenceClassification model from a BertForPreTraining model).\n",
            "- This IS NOT expected if you are initializing AlbertForSequenceClassification from the checkpoint of a model that you expect to be exactly identical (initializing a BertForSequenceClassification model from a BertForSequenceClassification model).\n",
            "Some weights of AlbertForSequenceClassification were not initialized from the model checkpoint at albert-base-v2 and are newly initialized: ['classifier.bias', 'classifier.weight']\n",
            "You should probably TRAIN this model on a down-stream task to be able to use it for predictions and inference.\n"
          ]
        },
        {
          "output_type": "execute_result",
          "data": {
            "text/plain": [
              "AlbertForSequenceClassification(\n",
              "  (albert): AlbertModel(\n",
              "    (embeddings): AlbertEmbeddings(\n",
              "      (word_embeddings): Embedding(30000, 128, padding_idx=0)\n",
              "      (position_embeddings): Embedding(512, 128)\n",
              "      (token_type_embeddings): Embedding(2, 128)\n",
              "      (LayerNorm): LayerNorm((128,), eps=1e-12, elementwise_affine=True)\n",
              "      (dropout): Dropout(p=0, inplace=False)\n",
              "    )\n",
              "    (encoder): AlbertTransformer(\n",
              "      (embedding_hidden_mapping_in): Linear(in_features=128, out_features=768, bias=True)\n",
              "      (albert_layer_groups): ModuleList(\n",
              "        (0): AlbertLayerGroup(\n",
              "          (albert_layers): ModuleList(\n",
              "            (0): AlbertLayer(\n",
              "              (full_layer_layer_norm): LayerNorm((768,), eps=1e-12, elementwise_affine=True)\n",
              "              (attention): AlbertAttention(\n",
              "                (query): Linear(in_features=768, out_features=768, bias=True)\n",
              "                (key): Linear(in_features=768, out_features=768, bias=True)\n",
              "                (value): Linear(in_features=768, out_features=768, bias=True)\n",
              "                (attention_dropout): Dropout(p=0, inplace=False)\n",
              "                (output_dropout): Dropout(p=0, inplace=False)\n",
              "                (dense): Linear(in_features=768, out_features=768, bias=True)\n",
              "                (LayerNorm): LayerNorm((768,), eps=1e-12, elementwise_affine=True)\n",
              "              )\n",
              "              (ffn): Linear(in_features=768, out_features=3072, bias=True)\n",
              "              (ffn_output): Linear(in_features=3072, out_features=768, bias=True)\n",
              "              (activation): NewGELUActivation()\n",
              "              (dropout): Dropout(p=0, inplace=False)\n",
              "            )\n",
              "          )\n",
              "        )\n",
              "      )\n",
              "    )\n",
              "    (pooler): Linear(in_features=768, out_features=768, bias=True)\n",
              "    (pooler_activation): Tanh()\n",
              "  )\n",
              "  (dropout): Dropout(p=0.1, inplace=False)\n",
              "  (classifier): Linear(in_features=768, out_features=2, bias=True)\n",
              ")"
            ]
          },
          "metadata": {},
          "execution_count": 13
        }
      ],
      "source": [
        "# random seed\n",
        "random_seed=33 # 42 -> 33\n",
        "np.random.seed(random_seed)\n",
        "torch.manual_seed(random_seed)\n",
        "\n",
        "device = torch.device('cuda' if torch.cuda.is_available() else 'cpu')\n",
        "\n",
        "model = AlbertForSequenceClassification.from_pretrained('albert-base-v2')\n",
        "# model = BertForSequenceClassification.from_pretrained('bert-base-uncased')\n",
        "\n",
        "# GPU 에 얹어주는 작업\n",
        "model.to(device)"
      ]
    },
    {
      "cell_type": "code",
      "execution_count": 14,
      "metadata": {
        "colab": {
          "base_uri": "https://localhost:8080/"
        },
        "id": "dWwhmyMyrvgW",
        "outputId": "49728183-70e0-432d-aa77-d62ef6116609"
      },
      "outputs": [
        {
          "output_type": "stream",
          "name": "stderr",
          "text": [
            "/usr/local/lib/python3.7/dist-packages/transformers/optimization.py:310: FutureWarning: This implementation of AdamW is deprecated and will be removed in a future version. Use the PyTorch implementation torch.optim.AdamW instead, or set `no_deprecation_warning=True` to disable this warning\n",
            "  FutureWarning,\n"
          ]
        }
      ],
      "source": [
        "model.train()\n",
        "learning_rate = 5e-5\n",
        "optimizer = AdamW(model.parameters(), lr=learning_rate)"
      ]
    },
    {
      "cell_type": "code",
      "execution_count": 15,
      "metadata": {
        "id": "MztU-L83rvgW"
      },
      "outputs": [],
      "source": [
        "def compute_acc(predictions, target_labels):\n",
        "    return (np.array(predictions) == np.array(target_labels)).mean()"
      ]
    },
    {
      "cell_type": "code",
      "execution_count": 16,
      "metadata": {
        "id": "DuZfvzpGrvgW",
        "colab": {
          "base_uri": "https://localhost:8080/"
        },
        "outputId": "d7ddd306-746e-49eb-c36b-c4a3163369f1"
      },
      "outputs": [
        {
          "output_type": "stream",
          "name": "stderr",
          "text": [
            "Epoch 0:  20%|█▉        | 692/3463 [02:00<07:36,  6.08batch/s, loss=0.0352]\n",
            "Eval:   0%|          | 0/16 [00:00<?, ?it/s]\u001b[A\n",
            "Eval:   6%|▋         | 1/16 [00:00<00:03,  4.57it/s]\u001b[A\n",
            "Eval:  12%|█▎        | 2/16 [00:00<00:02,  6.01it/s]\u001b[A\n",
            "Eval:  19%|█▉        | 3/16 [00:00<00:01,  6.60it/s]\u001b[A\n",
            "Eval:  25%|██▌       | 4/16 [00:00<00:01,  6.97it/s]\u001b[A\n",
            "Eval:  31%|███▏      | 5/16 [00:00<00:01,  7.20it/s]\u001b[A\n",
            "Eval:  38%|███▊      | 6/16 [00:00<00:01,  7.27it/s]\u001b[A\n",
            "Eval:  44%|████▍     | 7/16 [00:01<00:01,  7.47it/s]\u001b[A\n",
            "Eval:  50%|█████     | 8/16 [00:01<00:01,  7.60it/s]\u001b[A\n",
            "Eval:  56%|█████▋    | 9/16 [00:01<00:00,  7.63it/s]\u001b[A\n",
            "Eval:  62%|██████▎   | 10/16 [00:01<00:00,  7.14it/s]\u001b[A\n",
            "Eval:  69%|██████▉   | 11/16 [00:01<00:00,  7.24it/s]\u001b[A\n",
            "Eval:  75%|███████▌  | 12/16 [00:01<00:00,  7.28it/s]\u001b[A\n",
            "Eval:  81%|████████▏ | 13/16 [00:01<00:00,  7.31it/s]\u001b[A\n",
            "Eval:  88%|████████▊ | 14/16 [00:01<00:00,  6.88it/s]\u001b[A\n",
            "Eval:  94%|█████████▍| 15/16 [00:02<00:00,  7.04it/s]\u001b[A\n",
            "Epoch 0:  20%|██        | 693/3463 [02:02<40:55,  1.13batch/s, loss=0.0352]"
          ]
        },
        {
          "output_type": "stream",
          "name": "stdout",
          "text": [
            "Acc for model which have lower valid loss:  0.97175\n"
          ]
        },
        {
          "output_type": "stream",
          "name": "stderr",
          "text": [
            "Epoch 0:  40%|███▉      | 1384/3463 [03:59<05:39,  6.13batch/s, loss=0.052] \n",
            "Eval:   0%|          | 0/16 [00:00<?, ?it/s]\u001b[A\n",
            "Eval:   6%|▋         | 1/16 [00:00<00:03,  4.58it/s]\u001b[A\n",
            "Eval:  12%|█▎        | 2/16 [00:00<00:02,  6.02it/s]\u001b[A\n",
            "Eval:  19%|█▉        | 3/16 [00:00<00:01,  6.62it/s]\u001b[A\n",
            "Eval:  25%|██▌       | 4/16 [00:00<00:01,  6.97it/s]\u001b[A\n",
            "Eval:  31%|███▏      | 5/16 [00:00<00:01,  7.19it/s]\u001b[A\n",
            "Eval:  38%|███▊      | 6/16 [00:00<00:01,  7.26it/s]\u001b[A\n",
            "Eval:  44%|████▍     | 7/16 [00:01<00:01,  7.48it/s]\u001b[A\n",
            "Eval:  50%|█████     | 8/16 [00:01<00:01,  7.62it/s]\u001b[A\n",
            "Eval:  56%|█████▋    | 9/16 [00:01<00:00,  7.65it/s]\u001b[A\n",
            "Eval:  62%|██████▎   | 10/16 [00:01<00:00,  7.15it/s]\u001b[A\n",
            "Eval:  69%|██████▉   | 11/16 [00:01<00:00,  7.25it/s]\u001b[A\n",
            "Eval:  75%|███████▌  | 12/16 [00:01<00:00,  7.30it/s]\u001b[A\n",
            "Eval:  81%|████████▏ | 13/16 [00:01<00:00,  7.32it/s]\u001b[A\n",
            "Eval:  88%|████████▊ | 14/16 [00:01<00:00,  6.92it/s]\u001b[A\n",
            "Eval:  94%|█████████▍| 15/16 [00:02<00:00,  7.10it/s]\u001b[A\n",
            "Epoch 0:  40%|███▉      | 1385/3463 [04:01<30:26,  1.14batch/s, loss=0.052]"
          ]
        },
        {
          "output_type": "stream",
          "name": "stdout",
          "text": [
            "Acc for model which have lower valid loss:  0.97375\n"
          ]
        },
        {
          "output_type": "stream",
          "name": "stderr",
          "text": [
            "Epoch 0:  60%|█████▉    | 2076/3463 [05:59<03:44,  6.16batch/s, loss=0.0405]\n",
            "Eval:   0%|          | 0/16 [00:00<?, ?it/s]\u001b[A\n",
            "Eval:   6%|▋         | 1/16 [00:00<00:03,  4.45it/s]\u001b[A\n",
            "Eval:  12%|█▎        | 2/16 [00:00<00:02,  5.89it/s]\u001b[A\n",
            "Eval:  19%|█▉        | 3/16 [00:00<00:01,  6.55it/s]\u001b[A\n",
            "Eval:  25%|██▌       | 4/16 [00:00<00:01,  6.90it/s]\u001b[A\n",
            "Eval:  31%|███▏      | 5/16 [00:00<00:01,  7.10it/s]\u001b[A\n",
            "Eval:  38%|███▊      | 6/16 [00:00<00:01,  7.18it/s]\u001b[A\n",
            "Eval:  44%|████▍     | 7/16 [00:01<00:01,  7.41it/s]\u001b[A\n",
            "Eval:  50%|█████     | 8/16 [00:01<00:01,  7.54it/s]\u001b[A\n",
            "Eval:  56%|█████▋    | 9/16 [00:01<00:00,  7.58it/s]\u001b[A\n",
            "Eval:  62%|██████▎   | 10/16 [00:01<00:00,  7.08it/s]\u001b[A\n",
            "Eval:  69%|██████▉   | 11/16 [00:01<00:00,  7.20it/s]\u001b[A\n",
            "Eval:  75%|███████▌  | 12/16 [00:01<00:00,  7.24it/s]\u001b[A\n",
            "Eval:  81%|████████▏ | 13/16 [00:01<00:00,  7.28it/s]\u001b[A\n",
            "Eval:  88%|████████▊ | 14/16 [00:02<00:00,  6.91it/s]\u001b[A\n",
            "Eval:  94%|█████████▍| 15/16 [00:02<00:00,  7.07it/s]\u001b[A\n",
            "Epoch 0:  60%|█████▉    | 2077/3463 [06:01<20:09,  1.15batch/s, loss=0.0405]"
          ]
        },
        {
          "output_type": "stream",
          "name": "stdout",
          "text": [
            "Acc for model which have lower valid loss:  0.97525\n"
          ]
        },
        {
          "output_type": "stream",
          "name": "stderr",
          "text": [
            "Epoch 0:  80%|███████▉  | 2768/3463 [07:58<01:54,  6.05batch/s, loss=0.0292]\n",
            "Eval:   0%|          | 0/16 [00:00<?, ?it/s]\u001b[A\n",
            "Eval:   6%|▋         | 1/16 [00:00<00:03,  4.59it/s]\u001b[A\n",
            "Eval:  12%|█▎        | 2/16 [00:00<00:02,  6.02it/s]\u001b[A\n",
            "Eval:  19%|█▉        | 3/16 [00:00<00:01,  6.60it/s]\u001b[A\n",
            "Eval:  25%|██▌       | 4/16 [00:00<00:01,  6.95it/s]\u001b[A\n",
            "Eval:  31%|███▏      | 5/16 [00:00<00:01,  7.19it/s]\u001b[A\n",
            "Eval:  38%|███▊      | 6/16 [00:00<00:01,  7.29it/s]\u001b[A\n",
            "Eval:  44%|████▍     | 7/16 [00:01<00:01,  7.52it/s]\u001b[A\n",
            "Eval:  50%|█████     | 8/16 [00:01<00:01,  7.67it/s]\u001b[A\n",
            "Eval:  56%|█████▋    | 9/16 [00:01<00:00,  7.70it/s]\u001b[A\n",
            "Eval:  62%|██████▎   | 10/16 [00:01<00:00,  7.16it/s]\u001b[A\n",
            "Eval:  69%|██████▉   | 11/16 [00:01<00:00,  7.27it/s]\u001b[A\n",
            "Eval:  75%|███████▌  | 12/16 [00:01<00:00,  7.32it/s]\u001b[A\n",
            "Eval:  81%|████████▏ | 13/16 [00:01<00:00,  7.34it/s]\u001b[A\n",
            "Eval:  88%|████████▊ | 14/16 [00:01<00:00,  6.93it/s]\u001b[A\n",
            "Eval:  94%|█████████▍| 15/16 [00:02<00:00,  7.10it/s]\u001b[A\n",
            "Epoch 0:  80%|███████▉  | 2769/3463 [08:00<10:07,  1.14batch/s, loss=0.0292]"
          ]
        },
        {
          "output_type": "stream",
          "name": "stdout",
          "text": [
            "Acc for model which have lower valid loss:  0.97675\n"
          ]
        },
        {
          "output_type": "stream",
          "name": "stderr",
          "text": [
            "Epoch 0: 100%|█████████▉| 3460/3463 [09:58<00:00,  5.26batch/s, loss=0.0502]\n",
            "Eval:   0%|          | 0/16 [00:00<?, ?it/s]\u001b[A\n",
            "Eval:   6%|▋         | 1/16 [00:00<00:03,  4.59it/s]\u001b[A\n",
            "Eval:  12%|█▎        | 2/16 [00:00<00:02,  6.00it/s]\u001b[A\n",
            "Eval:  19%|█▉        | 3/16 [00:00<00:01,  6.62it/s]\u001b[A\n",
            "Eval:  25%|██▌       | 4/16 [00:00<00:01,  6.98it/s]\u001b[A\n",
            "Eval:  31%|███▏      | 5/16 [00:00<00:01,  7.17it/s]\u001b[A\n",
            "Eval:  38%|███▊      | 6/16 [00:00<00:01,  7.22it/s]\u001b[A\n",
            "Eval:  44%|████▍     | 7/16 [00:01<00:01,  7.40it/s]\u001b[A\n",
            "Eval:  50%|█████     | 8/16 [00:01<00:01,  7.56it/s]\u001b[A\n",
            "Eval:  56%|█████▋    | 9/16 [00:01<00:00,  7.55it/s]\u001b[A\n",
            "Eval:  62%|██████▎   | 10/16 [00:01<00:00,  7.07it/s]\u001b[A\n",
            "Eval:  69%|██████▉   | 11/16 [00:01<00:00,  7.18it/s]\u001b[A\n",
            "Eval:  75%|███████▌  | 12/16 [00:01<00:00,  7.23it/s]\u001b[A\n",
            "Eval:  81%|████████▏ | 13/16 [00:01<00:00,  7.27it/s]\u001b[A\n",
            "Eval:  88%|████████▊ | 14/16 [00:02<00:00,  6.90it/s]\u001b[A\n",
            "Eval:  94%|█████████▍| 15/16 [00:02<00:00,  7.06it/s]\u001b[A\n",
            "Epoch 0: 100%|█████████▉| 3461/3463 [10:00<00:01,  1.10batch/s, loss=0.0502]"
          ]
        },
        {
          "output_type": "stream",
          "name": "stdout",
          "text": [
            "Acc for model which have lower valid loss:  0.9795\n"
          ]
        },
        {
          "output_type": "stream",
          "name": "stderr",
          "text": [
            "Epoch 0: 100%|██████████| 3463/3463 [10:00<00:00,  5.76batch/s, loss=0.0595]\n",
            "Epoch 1:  20%|█▉        | 692/3463 [01:57<07:33,  6.11batch/s, loss=0.144] \n",
            "Eval:   0%|          | 0/16 [00:00<?, ?it/s]\u001b[A\n",
            "Eval:   6%|▋         | 1/16 [00:00<00:03,  4.34it/s]\u001b[A\n",
            "Eval:  12%|█▎        | 2/16 [00:00<00:02,  5.82it/s]\u001b[A\n",
            "Eval:  19%|█▉        | 3/16 [00:00<00:01,  6.50it/s]\u001b[A\n",
            "Eval:  25%|██▌       | 4/16 [00:00<00:01,  6.85it/s]\u001b[A\n",
            "Eval:  31%|███▏      | 5/16 [00:00<00:01,  7.11it/s]\u001b[A\n",
            "Eval:  38%|███▊      | 6/16 [00:00<00:01,  7.20it/s]\u001b[A\n",
            "Eval:  44%|████▍     | 7/16 [00:01<00:01,  7.41it/s]\u001b[A\n",
            "Eval:  50%|█████     | 8/16 [00:01<00:01,  7.59it/s]\u001b[A\n",
            "Eval:  56%|█████▋    | 9/16 [00:01<00:00,  7.66it/s]\u001b[A\n",
            "Eval:  62%|██████▎   | 10/16 [00:01<00:00,  7.13it/s]\u001b[A\n",
            "Eval:  69%|██████▉   | 11/16 [00:01<00:00,  7.21it/s]\u001b[A\n",
            "Eval:  75%|███████▌  | 12/16 [00:01<00:00,  7.24it/s]\u001b[A\n",
            "Eval:  81%|████████▏ | 13/16 [00:01<00:00,  7.28it/s]\u001b[A\n",
            "Eval:  88%|████████▊ | 14/16 [00:02<00:00,  6.87it/s]\u001b[A\n",
            "Eval:  94%|█████████▍| 15/16 [00:02<00:00,  7.02it/s]\u001b[A\n",
            "Epoch 1:  20%|██        | 693/3463 [02:00<41:22,  1.12batch/s, loss=0.144]"
          ]
        },
        {
          "output_type": "stream",
          "name": "stdout",
          "text": [
            "Acc for model which have lower valid loss:  0.97625\n"
          ]
        },
        {
          "output_type": "stream",
          "name": "stderr",
          "text": [
            "Epoch 1:  40%|███▉      | 1384/3463 [03:56<06:15,  5.54batch/s, loss=0.0547]\n",
            "Eval:   0%|          | 0/16 [00:00<?, ?it/s]\u001b[A\n",
            "Eval:   6%|▋         | 1/16 [00:00<00:03,  4.41it/s]\u001b[A\n",
            "Eval:  12%|█▎        | 2/16 [00:00<00:02,  5.84it/s]\u001b[A\n",
            "Eval:  19%|█▉        | 3/16 [00:00<00:02,  6.48it/s]\u001b[A\n",
            "Eval:  25%|██▌       | 4/16 [00:00<00:01,  6.93it/s]\u001b[A\n",
            "Eval:  31%|███▏      | 5/16 [00:00<00:01,  7.16it/s]\u001b[A\n",
            "Eval:  38%|███▊      | 6/16 [00:00<00:01,  7.24it/s]\u001b[A\n",
            "Eval:  44%|████▍     | 7/16 [00:01<00:01,  7.45it/s]\u001b[A\n",
            "Eval:  50%|█████     | 8/16 [00:01<00:01,  7.58it/s]\u001b[A\n",
            "Eval:  56%|█████▋    | 9/16 [00:01<00:00,  7.59it/s]\u001b[A\n",
            "Eval:  62%|██████▎   | 10/16 [00:01<00:00,  7.07it/s]\u001b[A\n",
            "Eval:  69%|██████▉   | 11/16 [00:01<00:00,  7.14it/s]\u001b[A\n",
            "Eval:  75%|███████▌  | 12/16 [00:01<00:00,  7.16it/s]\u001b[A\n",
            "Eval:  81%|████████▏ | 13/16 [00:01<00:00,  7.19it/s]\u001b[A\n",
            "Eval:  88%|████████▊ | 14/16 [00:02<00:00,  6.80it/s]\u001b[A\n",
            "Eval:  94%|█████████▍| 15/16 [00:02<00:00,  6.99it/s]\u001b[A\n",
            "Epoch 1:  40%|███▉      | 1385/3463 [03:59<31:06,  1.11batch/s, loss=0.0547]"
          ]
        },
        {
          "output_type": "stream",
          "name": "stdout",
          "text": [
            "Acc for model which have lower valid loss:  0.9755\n"
          ]
        },
        {
          "output_type": "stream",
          "name": "stderr",
          "text": [
            "Epoch 1:  60%|█████▉    | 2076/3463 [05:56<03:51,  5.99batch/s, loss=0.151]\n",
            "Eval:   0%|          | 0/16 [00:00<?, ?it/s]\u001b[A\n",
            "Eval:   6%|▋         | 1/16 [00:00<00:03,  4.46it/s]\u001b[A\n",
            "Eval:  12%|█▎        | 2/16 [00:00<00:02,  5.94it/s]\u001b[A\n",
            "Eval:  19%|█▉        | 3/16 [00:00<00:01,  6.51it/s]\u001b[A\n",
            "Eval:  25%|██▌       | 4/16 [00:00<00:01,  6.89it/s]\u001b[A\n",
            "Eval:  31%|███▏      | 5/16 [00:00<00:01,  7.14it/s]\u001b[A\n",
            "Eval:  38%|███▊      | 6/16 [00:00<00:01,  7.23it/s]\u001b[A\n",
            "Eval:  44%|████▍     | 7/16 [00:01<00:01,  7.45it/s]\u001b[A\n",
            "Eval:  50%|█████     | 8/16 [00:01<00:01,  7.60it/s]\u001b[A\n",
            "Eval:  56%|█████▋    | 9/16 [00:01<00:00,  7.61it/s]\u001b[A\n",
            "Eval:  62%|██████▎   | 10/16 [00:01<00:00,  7.11it/s]\u001b[A\n",
            "Eval:  69%|██████▉   | 11/16 [00:01<00:00,  7.24it/s]\u001b[A\n",
            "Eval:  75%|███████▌  | 12/16 [00:01<00:00,  7.26it/s]\u001b[A\n",
            "Eval:  81%|████████▏ | 13/16 [00:01<00:00,  7.32it/s]\u001b[A\n",
            "Eval:  88%|████████▊ | 14/16 [00:01<00:00,  6.92it/s]\u001b[A\n",
            "Eval:  94%|█████████▍| 15/16 [00:02<00:00,  7.07it/s]\u001b[A\n",
            "Epoch 1:  60%|█████▉    | 2077/3463 [05:58<20:27,  1.13batch/s, loss=0.151]"
          ]
        },
        {
          "output_type": "stream",
          "name": "stdout",
          "text": [
            "Acc for model which have lower valid loss:  0.977\n"
          ]
        },
        {
          "output_type": "stream",
          "name": "stderr",
          "text": [
            "Epoch 1:  80%|███████▉  | 2768/3463 [07:55<01:58,  5.85batch/s, loss=0.034] \n",
            "Eval:   0%|          | 0/16 [00:00<?, ?it/s]\u001b[A\n",
            "Eval:   6%|▋         | 1/16 [00:00<00:03,  4.32it/s]\u001b[A\n",
            "Eval:  12%|█▎        | 2/16 [00:00<00:02,  5.80it/s]\u001b[A\n",
            "Eval:  19%|█▉        | 3/16 [00:00<00:02,  6.46it/s]\u001b[A\n",
            "Eval:  25%|██▌       | 4/16 [00:00<00:01,  6.84it/s]\u001b[A\n",
            "Eval:  31%|███▏      | 5/16 [00:00<00:01,  7.08it/s]\u001b[A\n",
            "Eval:  38%|███▊      | 6/16 [00:00<00:01,  7.17it/s]\u001b[A\n",
            "Eval:  44%|████▍     | 7/16 [00:01<00:01,  7.37it/s]\u001b[A\n",
            "Eval:  50%|█████     | 8/16 [00:01<00:01,  7.51it/s]\u001b[A\n",
            "Eval:  56%|█████▋    | 9/16 [00:01<00:00,  7.55it/s]\u001b[A\n",
            "Eval:  62%|██████▎   | 10/16 [00:01<00:00,  7.06it/s]\u001b[A\n",
            "Eval:  69%|██████▉   | 11/16 [00:01<00:00,  7.19it/s]\u001b[A\n",
            "Eval:  75%|███████▌  | 12/16 [00:01<00:00,  7.24it/s]\u001b[A\n",
            "Eval:  81%|████████▏ | 13/16 [00:01<00:00,  7.27it/s]\u001b[A\n",
            "Eval:  88%|████████▊ | 14/16 [00:02<00:00,  6.87it/s]\u001b[A\n",
            "Eval:  94%|█████████▍| 15/16 [00:02<00:00,  7.05it/s]\u001b[A\n",
            "Epoch 1:  80%|███████▉  | 2769/3463 [07:58<10:18,  1.12batch/s, loss=0.034]"
          ]
        },
        {
          "output_type": "stream",
          "name": "stdout",
          "text": [
            "Acc for model which have lower valid loss:  0.978\n"
          ]
        },
        {
          "output_type": "stream",
          "name": "stderr",
          "text": [
            "Epoch 1: 100%|█████████▉| 3460/3463 [09:55<00:00,  5.75batch/s, loss=0.0707]\n",
            "Eval:   0%|          | 0/16 [00:00<?, ?it/s]\u001b[A\n",
            "Eval:   6%|▋         | 1/16 [00:00<00:03,  4.48it/s]\u001b[A\n",
            "Eval:  12%|█▎        | 2/16 [00:00<00:02,  5.92it/s]\u001b[A\n",
            "Eval:  19%|█▉        | 3/16 [00:00<00:01,  6.56it/s]\u001b[A\n",
            "Eval:  25%|██▌       | 4/16 [00:00<00:01,  6.93it/s]\u001b[A\n",
            "Eval:  31%|███▏      | 5/16 [00:00<00:01,  7.14it/s]\u001b[A\n",
            "Eval:  38%|███▊      | 6/16 [00:00<00:01,  7.23it/s]\u001b[A\n",
            "Eval:  44%|████▍     | 7/16 [00:01<00:01,  7.43it/s]\u001b[A\n",
            "Eval:  50%|█████     | 8/16 [00:01<00:01,  7.57it/s]\u001b[A\n",
            "Eval:  56%|█████▋    | 9/16 [00:01<00:00,  7.62it/s]\u001b[A\n",
            "Eval:  62%|██████▎   | 10/16 [00:01<00:00,  7.14it/s]\u001b[A\n",
            "Eval:  69%|██████▉   | 11/16 [00:01<00:00,  7.27it/s]\u001b[A\n",
            "Eval:  75%|███████▌  | 12/16 [00:01<00:00,  7.32it/s]\u001b[A\n",
            "Eval:  81%|████████▏ | 13/16 [00:01<00:00,  7.35it/s]\u001b[A\n",
            "Eval:  88%|████████▊ | 14/16 [00:01<00:00,  6.91it/s]\u001b[A\n",
            "Eval:  94%|█████████▍| 15/16 [00:02<00:00,  7.06it/s]\u001b[A\n",
            "Epoch 1: 100%|█████████▉| 3461/3463 [09:57<00:01,  1.13batch/s, loss=0.0707]"
          ]
        },
        {
          "output_type": "stream",
          "name": "stdout",
          "text": [
            "Acc for model which have lower valid loss:  0.97625\n"
          ]
        },
        {
          "output_type": "stream",
          "name": "stderr",
          "text": [
            "Epoch 1: 100%|██████████| 3463/3463 [09:57<00:00,  5.79batch/s, loss=0.0557]\n",
            "Epoch 2:  20%|█▉        | 692/3463 [01:57<07:41,  6.00batch/s, loss=0.0363]\n",
            "Eval:   0%|          | 0/16 [00:00<?, ?it/s]\u001b[A\n",
            "Eval:   6%|▋         | 1/16 [00:00<00:03,  4.13it/s]\u001b[A\n",
            "Eval:  12%|█▎        | 2/16 [00:00<00:02,  5.68it/s]\u001b[A\n",
            "Eval:  19%|█▉        | 3/16 [00:00<00:02,  6.39it/s]\u001b[A\n",
            "Eval:  25%|██▌       | 4/16 [00:00<00:01,  6.81it/s]\u001b[A\n",
            "Eval:  31%|███▏      | 5/16 [00:00<00:01,  7.08it/s]\u001b[A\n",
            "Eval:  38%|███▊      | 6/16 [00:00<00:01,  7.21it/s]\u001b[A\n",
            "Eval:  44%|████▍     | 7/16 [00:01<00:01,  7.45it/s]\u001b[A\n",
            "Eval:  50%|█████     | 8/16 [00:01<00:01,  7.59it/s]\u001b[A\n",
            "Eval:  56%|█████▋    | 9/16 [00:01<00:00,  7.62it/s]\u001b[A\n",
            "Eval:  62%|██████▎   | 10/16 [00:01<00:00,  7.12it/s]\u001b[A\n",
            "Eval:  69%|██████▉   | 11/16 [00:01<00:00,  7.24it/s]\u001b[A\n",
            "Eval:  75%|███████▌  | 12/16 [00:01<00:00,  7.30it/s]\u001b[A\n",
            "Eval:  81%|████████▏ | 13/16 [00:01<00:00,  7.33it/s]\u001b[A\n",
            "Eval:  88%|████████▊ | 14/16 [00:02<00:00,  6.94it/s]\u001b[A\n",
            "Eval:  94%|█████████▍| 15/16 [00:02<00:00,  7.10it/s]\u001b[A\n",
            "Epoch 2:  20%|██        | 693/3463 [01:59<41:19,  1.12batch/s, loss=0.0363]"
          ]
        },
        {
          "output_type": "stream",
          "name": "stdout",
          "text": [
            "Acc for model which have lower valid loss:  0.9795\n"
          ]
        },
        {
          "output_type": "stream",
          "name": "stderr",
          "text": [
            "Epoch 2:  40%|███▉      | 1384/3463 [03:56<05:47,  5.98batch/s, loss=0.0384]\n",
            "Eval:   0%|          | 0/16 [00:00<?, ?it/s]\u001b[A\n",
            "Eval:   6%|▋         | 1/16 [00:00<00:03,  4.53it/s]\u001b[A\n",
            "Eval:  12%|█▎        | 2/16 [00:00<00:02,  5.98it/s]\u001b[A\n",
            "Eval:  19%|█▉        | 3/16 [00:00<00:01,  6.62it/s]\u001b[A\n",
            "Eval:  25%|██▌       | 4/16 [00:00<00:01,  6.97it/s]\u001b[A\n",
            "Eval:  31%|███▏      | 5/16 [00:00<00:01,  7.19it/s]\u001b[A\n",
            "Eval:  38%|███▊      | 6/16 [00:00<00:01,  7.25it/s]\u001b[A\n",
            "Eval:  44%|████▍     | 7/16 [00:01<00:01,  7.45it/s]\u001b[A\n",
            "Eval:  50%|█████     | 8/16 [00:01<00:01,  7.59it/s]\u001b[A\n",
            "Eval:  56%|█████▋    | 9/16 [00:01<00:00,  7.61it/s]\u001b[A\n",
            "Eval:  62%|██████▎   | 10/16 [00:01<00:00,  7.07it/s]\u001b[A\n",
            "Eval:  69%|██████▉   | 11/16 [00:01<00:00,  7.19it/s]\u001b[A\n",
            "Eval:  75%|███████▌  | 12/16 [00:01<00:00,  7.25it/s]\u001b[A\n",
            "Eval:  81%|████████▏ | 13/16 [00:01<00:00,  7.30it/s]\u001b[A\n",
            "Eval:  88%|████████▊ | 14/16 [00:01<00:00,  6.91it/s]\u001b[A\n",
            "Eval:  94%|█████████▍| 15/16 [00:02<00:00,  7.08it/s]\u001b[A\n",
            "Epoch 2:  40%|███▉      | 1385/3463 [03:58<30:29,  1.14batch/s, loss=0.0384]"
          ]
        },
        {
          "output_type": "stream",
          "name": "stdout",
          "text": [
            "Acc for model which have lower valid loss:  0.9785\n"
          ]
        },
        {
          "output_type": "stream",
          "name": "stderr",
          "text": [
            "Epoch 2:  60%|█████▉    | 2076/3463 [05:56<03:55,  5.89batch/s, loss=0.0506]\n",
            "Eval:   0%|          | 0/16 [00:00<?, ?it/s]\u001b[A\n",
            "Eval:   6%|▋         | 1/16 [00:00<00:03,  4.51it/s]\u001b[A\n",
            "Eval:  12%|█▎        | 2/16 [00:00<00:02,  5.97it/s]\u001b[A\n",
            "Eval:  19%|█▉        | 3/16 [00:00<00:01,  6.57it/s]\u001b[A\n",
            "Eval:  25%|██▌       | 4/16 [00:00<00:01,  6.93it/s]\u001b[A\n",
            "Eval:  31%|███▏      | 5/16 [00:00<00:01,  7.15it/s]\u001b[A\n",
            "Eval:  38%|███▊      | 6/16 [00:00<00:01,  7.25it/s]\u001b[A\n",
            "Eval:  44%|████▍     | 7/16 [00:01<00:01,  7.49it/s]\u001b[A\n",
            "Eval:  50%|█████     | 8/16 [00:01<00:01,  7.64it/s]\u001b[A\n",
            "Eval:  56%|█████▋    | 9/16 [00:01<00:00,  7.67it/s]\u001b[A\n",
            "Eval:  62%|██████▎   | 10/16 [00:01<00:00,  7.17it/s]\u001b[A\n",
            "Eval:  69%|██████▉   | 11/16 [00:01<00:00,  7.29it/s]\u001b[A\n",
            "Eval:  75%|███████▌  | 12/16 [00:01<00:00,  7.32it/s]\u001b[A\n",
            "Eval:  81%|████████▏ | 13/16 [00:01<00:00,  7.35it/s]\u001b[A\n",
            "Eval:  88%|████████▊ | 14/16 [00:01<00:00,  6.93it/s]\u001b[A\n",
            "Eval:  94%|█████████▍| 15/16 [00:02<00:00,  7.10it/s]\u001b[A\n",
            "Epoch 2:  60%|█████▉    | 2077/3463 [05:58<20:25,  1.13batch/s, loss=0.0506]"
          ]
        },
        {
          "output_type": "stream",
          "name": "stdout",
          "text": [
            "Acc for model which have lower valid loss:  0.97925\n"
          ]
        },
        {
          "output_type": "stream",
          "name": "stderr",
          "text": [
            "Epoch 2:  80%|███████▉  | 2768/3463 [07:56<02:00,  5.78batch/s, loss=0.0426]\n",
            "Eval:   0%|          | 0/16 [00:00<?, ?it/s]\u001b[A\n",
            "Eval:   6%|▋         | 1/16 [00:00<00:03,  4.36it/s]\u001b[A\n",
            "Eval:  12%|█▎        | 2/16 [00:00<00:02,  5.85it/s]\u001b[A\n",
            "Eval:  19%|█▉        | 3/16 [00:00<00:02,  6.48it/s]\u001b[A\n",
            "Eval:  25%|██▌       | 4/16 [00:00<00:01,  6.88it/s]\u001b[A\n",
            "Eval:  31%|███▏      | 5/16 [00:00<00:01,  7.13it/s]\u001b[A\n",
            "Eval:  38%|███▊      | 6/16 [00:00<00:01,  7.22it/s]\u001b[A\n",
            "Eval:  44%|████▍     | 7/16 [00:01<00:01,  7.42it/s]\u001b[A\n",
            "Eval:  50%|█████     | 8/16 [00:01<00:01,  7.60it/s]\u001b[A\n",
            "Eval:  56%|█████▋    | 9/16 [00:01<00:00,  7.64it/s]\u001b[A\n",
            "Eval:  62%|██████▎   | 10/16 [00:01<00:00,  7.13it/s]\u001b[A\n",
            "Eval:  69%|██████▉   | 11/16 [00:01<00:00,  7.24it/s]\u001b[A\n",
            "Eval:  75%|███████▌  | 12/16 [00:01<00:00,  7.29it/s]\u001b[A\n",
            "Eval:  81%|████████▏ | 13/16 [00:01<00:00,  7.34it/s]\u001b[A\n",
            "Eval:  88%|████████▊ | 14/16 [00:02<00:00,  6.93it/s]\u001b[A\n",
            "Eval:  94%|█████████▍| 15/16 [00:02<00:00,  7.12it/s]\u001b[A\n",
            "Epoch 2:  80%|███████▉  | 2769/3463 [07:58<10:17,  1.12batch/s, loss=0.0426]"
          ]
        },
        {
          "output_type": "stream",
          "name": "stdout",
          "text": [
            "Acc for model which have lower valid loss:  0.97725\n"
          ]
        },
        {
          "output_type": "stream",
          "name": "stderr",
          "text": [
            "Epoch 2: 100%|█████████▉| 3460/3463 [09:55<00:00,  5.74batch/s, loss=0.0721]\n",
            "Eval:   0%|          | 0/16 [00:00<?, ?it/s]\u001b[A\n",
            "Eval:   6%|▋         | 1/16 [00:00<00:03,  4.43it/s]\u001b[A\n",
            "Eval:  12%|█▎        | 2/16 [00:00<00:02,  5.88it/s]\u001b[A\n",
            "Eval:  19%|█▉        | 3/16 [00:00<00:01,  6.52it/s]\u001b[A\n",
            "Eval:  25%|██▌       | 4/16 [00:00<00:01,  6.89it/s]\u001b[A\n",
            "Eval:  31%|███▏      | 5/16 [00:00<00:01,  7.13it/s]\u001b[A\n",
            "Eval:  38%|███▊      | 6/16 [00:00<00:01,  7.19it/s]\u001b[A\n",
            "Eval:  44%|████▍     | 7/16 [00:01<00:01,  7.42it/s]\u001b[A\n",
            "Eval:  50%|█████     | 8/16 [00:01<00:01,  7.57it/s]\u001b[A\n",
            "Eval:  56%|█████▋    | 9/16 [00:01<00:00,  7.60it/s]\u001b[A\n",
            "Eval:  62%|██████▎   | 10/16 [00:01<00:00,  7.09it/s]\u001b[A\n",
            "Eval:  69%|██████▉   | 11/16 [00:01<00:00,  7.20it/s]\u001b[A\n",
            "Eval:  75%|███████▌  | 12/16 [00:01<00:00,  7.26it/s]\u001b[A\n",
            "Eval:  81%|████████▏ | 13/16 [00:01<00:00,  7.30it/s]\u001b[A\n",
            "Eval:  88%|████████▊ | 14/16 [00:02<00:00,  6.89it/s]\u001b[A\n",
            "Eval:  94%|█████████▍| 15/16 [00:02<00:00,  7.05it/s]\u001b[A\n",
            "Epoch 2: 100%|█████████▉| 3461/3463 [09:57<00:01,  1.12batch/s, loss=0.0721]"
          ]
        },
        {
          "output_type": "stream",
          "name": "stdout",
          "text": [
            "Acc for model which have lower valid loss:  0.97925\n"
          ]
        },
        {
          "output_type": "stream",
          "name": "stderr",
          "text": [
            "Epoch 2: 100%|██████████| 3463/3463 [09:58<00:00,  5.79batch/s, loss=0.0934]\n"
          ]
        }
      ],
      "source": [
        "train_epoch = 3\n",
        "lowest_valid_loss = 9999.\n",
        "\n",
        "for epoch in range(train_epoch):\n",
        "\n",
        "    # tqdm 은 Bar 형태로 학습량을 알려주는 module.\n",
        "    with tqdm(train_loader, unit=\"batch\") as tepoch:\n",
        "\n",
        "\n",
        "        for iteration, (input_ids, attention_mask, token_type_ids, position_ids, labels) in enumerate(tepoch):\n",
        "            tepoch.set_description(f\"Epoch {epoch}\")\n",
        "\n",
        "            # 모든 데이터를 GPU 로 옮겨줌.\n",
        "            input_ids = input_ids.to(device)\n",
        "            attention_mask = attention_mask.to(device)\n",
        "            token_type_ids = token_type_ids.to(device)\n",
        "            position_ids = position_ids.to(device)\n",
        "            labels = labels.to(device, dtype=torch.long)\n",
        "\n",
        "            optimizer.zero_grad()\n",
        "\n",
        "            # forward-propagation 연산 진행\n",
        "            output = model(input_ids=input_ids,\n",
        "                           attention_mask=attention_mask,\n",
        "                           token_type_ids=token_type_ids,\n",
        "                           position_ids=position_ids,\n",
        "                           labels=labels)\n",
        "\n",
        "            loss = output.loss\n",
        "\n",
        "            # back-propagation 연산\n",
        "            loss.backward()\n",
        "\n",
        "            # 가중치 update\n",
        "            optimizer.step()  \n",
        "\n",
        "            # tqdm 에서 loss 를 출력하기 위해 loss 를 넣어줌.\n",
        "            tepoch.set_postfix(loss=loss.item())\n",
        "\n",
        "\n",
        "            # iteration : trainloader 의 전체 개수.\n",
        "            # int(len(train_loader) / 5) == 0 마다 validation set 으로 evaluate.\n",
        "            if iteration != 0 and iteration % int(len(train_loader) / 5) == 0:\n",
        "                # Evaluate the model five times per epoch\n",
        "                with torch.no_grad():\n",
        "                    model.eval()\n",
        "                    valid_losses = []\n",
        "                    predictions = []\n",
        "                    target_labels = []\n",
        "                    for input_ids, attention_mask, token_type_ids, position_ids, labels in tqdm(dev_loader,\n",
        "                                                                                                desc='Eval',\n",
        "                                                                                                position=1,\n",
        "                                                                                                leave=None):\n",
        "                        input_ids = input_ids.to(device)\n",
        "                        attention_mask = attention_mask.to(device)\n",
        "                        token_type_ids = token_type_ids.to(device)\n",
        "                        position_ids = position_ids.to(device)\n",
        "                        labels = labels.to(device, dtype=torch.long)\n",
        "\n",
        "                        output = model(input_ids=input_ids,\n",
        "                                       attention_mask=attention_mask,\n",
        "                                       token_type_ids=token_type_ids,\n",
        "                                       position_ids=position_ids,\n",
        "                                       labels=labels)\n",
        "\n",
        "                        logits = output.logits\n",
        "                        loss = output.loss\n",
        "                        valid_losses.append(loss.item())\n",
        "\n",
        "                        batch_predictions = [0 if example[0] > example[1] else 1 for example in logits]\n",
        "                        batch_labels = [int(example) for example in labels]\n",
        "\n",
        "                        predictions += batch_predictions\n",
        "                        target_labels += batch_labels\n",
        "\n",
        "                acc = compute_acc(predictions, target_labels)\n",
        "                valid_loss = sum(valid_losses) / len(valid_losses)\n",
        "                if lowest_valid_loss > valid_loss:\n",
        "                    print('Acc for model which have lower valid loss: ', acc)\n",
        "                    torch.save(model.state_dict(), \"./pytorch_model.bin\")"
      ]
    },
    {
      "cell_type": "code",
      "execution_count": 17,
      "metadata": {
        "id": "P95gtlnurvgX"
      },
      "outputs": [],
      "source": [
        "import pandas as pd\n",
        "test_df = pd.read_csv('test_no_label.csv')"
      ]
    },
    {
      "cell_type": "code",
      "execution_count": 18,
      "metadata": {
        "id": "cLDzC10ErvgX"
      },
      "outputs": [],
      "source": [
        "test_dataset = test_df['Id']"
      ]
    },
    {
      "cell_type": "code",
      "execution_count": 19,
      "metadata": {
        "id": "jnt693N0rvgX"
      },
      "outputs": [],
      "source": [
        "def make_id_file_test(tokenizer, test_dataset):\n",
        "    data_strings = []\n",
        "    id_file_data = [tokenizer.encode(sent.lower()) for sent in test_dataset]\n",
        "    for item in id_file_data:\n",
        "        data_strings.append(' '.join([str(k) for k in item]))\n",
        "    return data_strings"
      ]
    },
    {
      "cell_type": "code",
      "execution_count": 20,
      "metadata": {
        "id": "7C5PpXtlrvgY"
      },
      "outputs": [],
      "source": [
        "test = make_id_file_test(tokenizer, test_dataset)"
      ]
    },
    {
      "cell_type": "code",
      "execution_count": 21,
      "metadata": {
        "id": "1aqse7SHrvgY",
        "colab": {
          "base_uri": "https://localhost:8080/"
        },
        "outputId": "a3580541-865c-4b1a-a22f-7cd0c0e53a31"
      },
      "outputs": [
        {
          "output_type": "execute_result",
          "data": {
            "text/plain": [
              "['2 32 13 22 18 21 979 78 1496 17 78 11974 18 206 85 42 162 13 9 3',\n",
              " '2 86 17841 37 40 315 3839 13 9 3',\n",
              " '2 32 25 14 127 14351 7804 19 14 1152 13 9 3',\n",
              " '2 107 52 1676 21 9140 29 158 148 13 9 3',\n",
              " '2 31 23 4741 17 39 117 55 583 86 5733 17 5575 13 9 3',\n",
              " '2 14 104 584 95 420 30 23 1047 23 14 2364 13 9 3',\n",
              " '2 90 13 15 52 14 53 18 35 28 291 13 15 14 53 18 19 1630 183 13 9 3',\n",
              " '2 59 1499 32 70 431 26 42 17 50 253 15600 13 9 3',\n",
              " '2 3123 14 13533 144 13 103 22 38 166 143 184 20 170 14 1428 13 9 3',\n",
              " '2 59 57 40 5977 3155 16 22621 18 20 3538 37 13 9 3']"
            ]
          },
          "metadata": {},
          "execution_count": 21
        }
      ],
      "source": [
        "test[:10]"
      ]
    },
    {
      "cell_type": "code",
      "execution_count": 22,
      "metadata": {
        "id": "cZi14gnnrvgY"
      },
      "outputs": [],
      "source": [
        "class SentimentTestDataset(object):\n",
        "    def __init__(self, tokenizer, test):\n",
        "        self.tokenizer = tokenizer\n",
        "        self.data = []\n",
        "\n",
        "        for sent in test:\n",
        "            self.data += [self._cast_to_int(sent.strip().split())]\n",
        "\n",
        "    def _cast_to_int(self, sample):\n",
        "        return [int(word_id) for word_id in sample]\n",
        "\n",
        "    def __len__(self):\n",
        "        return len(self.data)\n",
        "\n",
        "    def __getitem__(self, index):\n",
        "        sample = self.data[index]\n",
        "        return np.array(sample)"
      ]
    },
    {
      "cell_type": "code",
      "execution_count": 23,
      "metadata": {
        "id": "erHjGE9rrvgY"
      },
      "outputs": [],
      "source": [
        "test_dataset = SentimentTestDataset(tokenizer, test)"
      ]
    },
    {
      "cell_type": "code",
      "execution_count": 24,
      "metadata": {
        "id": "y03-nDX9rvgZ"
      },
      "outputs": [],
      "source": [
        "def collate_fn_style_test(samples):\n",
        "    input_ids = samples\n",
        "    max_len = max(len(input_id) for input_id in input_ids)\n",
        "\n",
        "    # 버그.\n",
        "    # smaples 가 input id 만 가지고 있음. trainset 은 input_ids 와 labels 둘 다 가졌음. test_dataset 은 labels 이 없음.\n",
        "    # input 의 순서를 바꿔주면 kaggle 에 내가 모르는 labels set 과 순서가 얻 바뀌게 된다.\n",
        "    # sorted_indices = np.argsort([len(input_id) for input_id in input_ids])[::-1]\n",
        "    sorted_indices = range(len(input_ids))\n",
        "\n",
        "    input_ids = pad_sequence([torch.tensor(input_ids[index]) for index in sorted_indices],\n",
        "                             batch_first=True)\n",
        "    # attention_mask = torch.tensor(\n",
        "    #     [[1] * len(input_ids[index]) + [0] * (max_len - len(input_ids[index])) for index in\n",
        "    #      sorted_indices])\n",
        "\n",
        "    attention_mask = []\n",
        "    for seq in input_ids:\n",
        "        seq_mask = [float(i>0) for i in seq]\n",
        "        attention_mask.append(seq_mask)\n",
        "    attention_mask = torch.tensor(attention_mask)\n",
        "\n",
        "    token_type_ids = torch.tensor([[0] * len(input_ids[index]) for index in sorted_indices])\n",
        "    position_ids = torch.tensor([list(range(len(input_ids[index]))) for index in sorted_indices])\n",
        "\n",
        "    return input_ids, attention_mask, token_type_ids, position_ids"
      ]
    },
    {
      "cell_type": "code",
      "execution_count": 25,
      "metadata": {
        "id": "gZ0l1HparvgZ"
      },
      "outputs": [],
      "source": [
        "test_batch_size = 32\n",
        "test_loader = torch.utils.data.DataLoader(test_dataset, batch_size=test_batch_size,\n",
        "                                          shuffle=False, collate_fn=collate_fn_style_test,\n",
        "                                          num_workers=2)"
      ]
    },
    {
      "cell_type": "code",
      "execution_count": 26,
      "metadata": {
        "id": "XoSHTbJUrvgZ",
        "colab": {
          "base_uri": "https://localhost:8080/"
        },
        "outputId": "9c7d3a13-82cd-4822-ce51-67e0e33a916d"
      },
      "outputs": [
        {
          "output_type": "stream",
          "name": "stderr",
          "text": [
            "\n",
            "Test:   0%|          | 0/32 [00:00<?, ?it/s]\u001b[A\n",
            "Test:   3%|▎         | 1/32 [00:00<00:03,  9.20it/s]\u001b[A\n",
            "Test:  19%|█▉        | 6/32 [00:00<00:00, 29.91it/s]\u001b[A\n",
            "Test:  34%|███▍      | 11/32 [00:00<00:00, 36.96it/s]\u001b[A\n",
            "Test:  53%|█████▎    | 17/32 [00:00<00:00, 42.48it/s]\u001b[A\n",
            "Test:  69%|██████▉   | 22/32 [00:00<00:00, 44.44it/s]\u001b[A\n",
            "Test:  88%|████████▊ | 28/32 [00:00<00:00, 46.60it/s]\u001b[A\n",
            "                                                     \u001b[A"
          ]
        }
      ],
      "source": [
        "with torch.no_grad():\n",
        "    model.eval()\n",
        "    predictions = []\n",
        "    for input_ids, attention_mask, token_type_ids, position_ids in tqdm(test_loader,\n",
        "                                                                        desc='Test',\n",
        "                                                                        position=1,\n",
        "                                                                        leave=None):\n",
        "\n",
        "        input_ids = input_ids.to(device)\n",
        "        attention_mask = attention_mask.to(device)\n",
        "        token_type_ids = token_type_ids.to(device)\n",
        "        position_ids = position_ids.to(device)\n",
        "\n",
        "        output = model(input_ids=input_ids,\n",
        "                       attention_mask=attention_mask,\n",
        "                       token_type_ids=token_type_ids,\n",
        "                       position_ids=position_ids)\n",
        "\n",
        "        logits = output.logits\n",
        "        batch_predictions = [0 if example[0] > example[1] else 1 for example in logits]\n",
        "        predictions += batch_predictions"
      ]
    },
    {
      "cell_type": "code",
      "execution_count": 27,
      "metadata": {
        "id": "tGO3aS-VrvgZ"
      },
      "outputs": [],
      "source": [
        "test_df['Category'] = predictions"
      ]
    },
    {
      "cell_type": "code",
      "execution_count": 28,
      "metadata": {
        "id": "VndXxal3rvgZ"
      },
      "outputs": [],
      "source": [
        "test_df.to_csv('submission2.csv', index=False)"
      ]
    },
    {
      "cell_type": "markdown",
      "metadata": {
        "id": "UOKGZyyAGcxx"
      },
      "source": [
        "# 새 섹션"
      ]
    }
  ],
  "metadata": {
    "accelerator": "GPU",
    "colab": {
      "background_execution": "on",
      "collapsed_sections": [],
      "machine_shape": "hm",
      "provenance": []
    },
    "kernelspec": {
      "display_name": "Python 3",
      "language": "python",
      "name": "python3"
    },
    "language_info": {
      "codemirror_mode": {
        "name": "ipython",
        "version": 3
      },
      "file_extension": ".py",
      "mimetype": "text/x-python",
      "name": "python",
      "nbconvert_exporter": "python",
      "pygments_lexer": "ipython3",
      "version": "3.6.4"
    },
    "widgets": {
      "application/vnd.jupyter.widget-state+json": {
        "427d76d4ce4d44db82937cd83b349f90": {
          "model_module": "@jupyter-widgets/controls",
          "model_name": "HBoxModel",
          "model_module_version": "1.5.0",
          "state": {
            "_dom_classes": [],
            "_model_module": "@jupyter-widgets/controls",
            "_model_module_version": "1.5.0",
            "_model_name": "HBoxModel",
            "_view_count": null,
            "_view_module": "@jupyter-widgets/controls",
            "_view_module_version": "1.5.0",
            "_view_name": "HBoxView",
            "box_style": "",
            "children": [
              "IPY_MODEL_abfc63e031f84a32996403a27c6fd7a7",
              "IPY_MODEL_7dfefc76d3824a41a45693b24b9eb395",
              "IPY_MODEL_53844dc5ad93451e82ab4859b0ef7d5f"
            ],
            "layout": "IPY_MODEL_44e24f3768b142b89ca8a92ae515e10c"
          }
        },
        "abfc63e031f84a32996403a27c6fd7a7": {
          "model_module": "@jupyter-widgets/controls",
          "model_name": "HTMLModel",
          "model_module_version": "1.5.0",
          "state": {
            "_dom_classes": [],
            "_model_module": "@jupyter-widgets/controls",
            "_model_module_version": "1.5.0",
            "_model_name": "HTMLModel",
            "_view_count": null,
            "_view_module": "@jupyter-widgets/controls",
            "_view_module_version": "1.5.0",
            "_view_name": "HTMLView",
            "description": "",
            "description_tooltip": null,
            "layout": "IPY_MODEL_c8c5fa400f3a424caf37f54218af60f3",
            "placeholder": "​",
            "style": "IPY_MODEL_a4c7c6f5be9f414cb507bc1f9ad9bb09",
            "value": "Downloading: 100%"
          }
        },
        "7dfefc76d3824a41a45693b24b9eb395": {
          "model_module": "@jupyter-widgets/controls",
          "model_name": "FloatProgressModel",
          "model_module_version": "1.5.0",
          "state": {
            "_dom_classes": [],
            "_model_module": "@jupyter-widgets/controls",
            "_model_module_version": "1.5.0",
            "_model_name": "FloatProgressModel",
            "_view_count": null,
            "_view_module": "@jupyter-widgets/controls",
            "_view_module_version": "1.5.0",
            "_view_name": "ProgressView",
            "bar_style": "success",
            "description": "",
            "description_tooltip": null,
            "layout": "IPY_MODEL_3e8bf6f7e5574d27b3e0b00d9102c7e5",
            "max": 760289,
            "min": 0,
            "orientation": "horizontal",
            "style": "IPY_MODEL_f76b1bdea1e64fa7b3ffc4c8101967b5",
            "value": 760289
          }
        },
        "53844dc5ad93451e82ab4859b0ef7d5f": {
          "model_module": "@jupyter-widgets/controls",
          "model_name": "HTMLModel",
          "model_module_version": "1.5.0",
          "state": {
            "_dom_classes": [],
            "_model_module": "@jupyter-widgets/controls",
            "_model_module_version": "1.5.0",
            "_model_name": "HTMLModel",
            "_view_count": null,
            "_view_module": "@jupyter-widgets/controls",
            "_view_module_version": "1.5.0",
            "_view_name": "HTMLView",
            "description": "",
            "description_tooltip": null,
            "layout": "IPY_MODEL_2d2ae65d28ef46d5aef91e1a2a84fe90",
            "placeholder": "​",
            "style": "IPY_MODEL_ec98a909d102452c92ee5578df0de151",
            "value": " 760k/760k [00:00&lt;00:00, 610kB/s]"
          }
        },
        "44e24f3768b142b89ca8a92ae515e10c": {
          "model_module": "@jupyter-widgets/base",
          "model_name": "LayoutModel",
          "model_module_version": "1.2.0",
          "state": {
            "_model_module": "@jupyter-widgets/base",
            "_model_module_version": "1.2.0",
            "_model_name": "LayoutModel",
            "_view_count": null,
            "_view_module": "@jupyter-widgets/base",
            "_view_module_version": "1.2.0",
            "_view_name": "LayoutView",
            "align_content": null,
            "align_items": null,
            "align_self": null,
            "border": null,
            "bottom": null,
            "display": null,
            "flex": null,
            "flex_flow": null,
            "grid_area": null,
            "grid_auto_columns": null,
            "grid_auto_flow": null,
            "grid_auto_rows": null,
            "grid_column": null,
            "grid_gap": null,
            "grid_row": null,
            "grid_template_areas": null,
            "grid_template_columns": null,
            "grid_template_rows": null,
            "height": null,
            "justify_content": null,
            "justify_items": null,
            "left": null,
            "margin": null,
            "max_height": null,
            "max_width": null,
            "min_height": null,
            "min_width": null,
            "object_fit": null,
            "object_position": null,
            "order": null,
            "overflow": null,
            "overflow_x": null,
            "overflow_y": null,
            "padding": null,
            "right": null,
            "top": null,
            "visibility": null,
            "width": null
          }
        },
        "c8c5fa400f3a424caf37f54218af60f3": {
          "model_module": "@jupyter-widgets/base",
          "model_name": "LayoutModel",
          "model_module_version": "1.2.0",
          "state": {
            "_model_module": "@jupyter-widgets/base",
            "_model_module_version": "1.2.0",
            "_model_name": "LayoutModel",
            "_view_count": null,
            "_view_module": "@jupyter-widgets/base",
            "_view_module_version": "1.2.0",
            "_view_name": "LayoutView",
            "align_content": null,
            "align_items": null,
            "align_self": null,
            "border": null,
            "bottom": null,
            "display": null,
            "flex": null,
            "flex_flow": null,
            "grid_area": null,
            "grid_auto_columns": null,
            "grid_auto_flow": null,
            "grid_auto_rows": null,
            "grid_column": null,
            "grid_gap": null,
            "grid_row": null,
            "grid_template_areas": null,
            "grid_template_columns": null,
            "grid_template_rows": null,
            "height": null,
            "justify_content": null,
            "justify_items": null,
            "left": null,
            "margin": null,
            "max_height": null,
            "max_width": null,
            "min_height": null,
            "min_width": null,
            "object_fit": null,
            "object_position": null,
            "order": null,
            "overflow": null,
            "overflow_x": null,
            "overflow_y": null,
            "padding": null,
            "right": null,
            "top": null,
            "visibility": null,
            "width": null
          }
        },
        "a4c7c6f5be9f414cb507bc1f9ad9bb09": {
          "model_module": "@jupyter-widgets/controls",
          "model_name": "DescriptionStyleModel",
          "model_module_version": "1.5.0",
          "state": {
            "_model_module": "@jupyter-widgets/controls",
            "_model_module_version": "1.5.0",
            "_model_name": "DescriptionStyleModel",
            "_view_count": null,
            "_view_module": "@jupyter-widgets/base",
            "_view_module_version": "1.2.0",
            "_view_name": "StyleView",
            "description_width": ""
          }
        },
        "3e8bf6f7e5574d27b3e0b00d9102c7e5": {
          "model_module": "@jupyter-widgets/base",
          "model_name": "LayoutModel",
          "model_module_version": "1.2.0",
          "state": {
            "_model_module": "@jupyter-widgets/base",
            "_model_module_version": "1.2.0",
            "_model_name": "LayoutModel",
            "_view_count": null,
            "_view_module": "@jupyter-widgets/base",
            "_view_module_version": "1.2.0",
            "_view_name": "LayoutView",
            "align_content": null,
            "align_items": null,
            "align_self": null,
            "border": null,
            "bottom": null,
            "display": null,
            "flex": null,
            "flex_flow": null,
            "grid_area": null,
            "grid_auto_columns": null,
            "grid_auto_flow": null,
            "grid_auto_rows": null,
            "grid_column": null,
            "grid_gap": null,
            "grid_row": null,
            "grid_template_areas": null,
            "grid_template_columns": null,
            "grid_template_rows": null,
            "height": null,
            "justify_content": null,
            "justify_items": null,
            "left": null,
            "margin": null,
            "max_height": null,
            "max_width": null,
            "min_height": null,
            "min_width": null,
            "object_fit": null,
            "object_position": null,
            "order": null,
            "overflow": null,
            "overflow_x": null,
            "overflow_y": null,
            "padding": null,
            "right": null,
            "top": null,
            "visibility": null,
            "width": null
          }
        },
        "f76b1bdea1e64fa7b3ffc4c8101967b5": {
          "model_module": "@jupyter-widgets/controls",
          "model_name": "ProgressStyleModel",
          "model_module_version": "1.5.0",
          "state": {
            "_model_module": "@jupyter-widgets/controls",
            "_model_module_version": "1.5.0",
            "_model_name": "ProgressStyleModel",
            "_view_count": null,
            "_view_module": "@jupyter-widgets/base",
            "_view_module_version": "1.2.0",
            "_view_name": "StyleView",
            "bar_color": null,
            "description_width": ""
          }
        },
        "2d2ae65d28ef46d5aef91e1a2a84fe90": {
          "model_module": "@jupyter-widgets/base",
          "model_name": "LayoutModel",
          "model_module_version": "1.2.0",
          "state": {
            "_model_module": "@jupyter-widgets/base",
            "_model_module_version": "1.2.0",
            "_model_name": "LayoutModel",
            "_view_count": null,
            "_view_module": "@jupyter-widgets/base",
            "_view_module_version": "1.2.0",
            "_view_name": "LayoutView",
            "align_content": null,
            "align_items": null,
            "align_self": null,
            "border": null,
            "bottom": null,
            "display": null,
            "flex": null,
            "flex_flow": null,
            "grid_area": null,
            "grid_auto_columns": null,
            "grid_auto_flow": null,
            "grid_auto_rows": null,
            "grid_column": null,
            "grid_gap": null,
            "grid_row": null,
            "grid_template_areas": null,
            "grid_template_columns": null,
            "grid_template_rows": null,
            "height": null,
            "justify_content": null,
            "justify_items": null,
            "left": null,
            "margin": null,
            "max_height": null,
            "max_width": null,
            "min_height": null,
            "min_width": null,
            "object_fit": null,
            "object_position": null,
            "order": null,
            "overflow": null,
            "overflow_x": null,
            "overflow_y": null,
            "padding": null,
            "right": null,
            "top": null,
            "visibility": null,
            "width": null
          }
        },
        "ec98a909d102452c92ee5578df0de151": {
          "model_module": "@jupyter-widgets/controls",
          "model_name": "DescriptionStyleModel",
          "model_module_version": "1.5.0",
          "state": {
            "_model_module": "@jupyter-widgets/controls",
            "_model_module_version": "1.5.0",
            "_model_name": "DescriptionStyleModel",
            "_view_count": null,
            "_view_module": "@jupyter-widgets/base",
            "_view_module_version": "1.2.0",
            "_view_name": "StyleView",
            "description_width": ""
          }
        },
        "b07ac90f093e46629da8db311b203865": {
          "model_module": "@jupyter-widgets/controls",
          "model_name": "HBoxModel",
          "model_module_version": "1.5.0",
          "state": {
            "_dom_classes": [],
            "_model_module": "@jupyter-widgets/controls",
            "_model_module_version": "1.5.0",
            "_model_name": "HBoxModel",
            "_view_count": null,
            "_view_module": "@jupyter-widgets/controls",
            "_view_module_version": "1.5.0",
            "_view_name": "HBoxView",
            "box_style": "",
            "children": [
              "IPY_MODEL_4dd6ab81ea4b44afa2c1afd1183d141c",
              "IPY_MODEL_ad2a78f01b4740a899059413cee19a87",
              "IPY_MODEL_c6636a2c4c8b426aaabda78db1898033"
            ],
            "layout": "IPY_MODEL_000ece615402493ea91c40925afcc708"
          }
        },
        "4dd6ab81ea4b44afa2c1afd1183d141c": {
          "model_module": "@jupyter-widgets/controls",
          "model_name": "HTMLModel",
          "model_module_version": "1.5.0",
          "state": {
            "_dom_classes": [],
            "_model_module": "@jupyter-widgets/controls",
            "_model_module_version": "1.5.0",
            "_model_name": "HTMLModel",
            "_view_count": null,
            "_view_module": "@jupyter-widgets/controls",
            "_view_module_version": "1.5.0",
            "_view_name": "HTMLView",
            "description": "",
            "description_tooltip": null,
            "layout": "IPY_MODEL_6f05a4935c5349248248daca41fb53ce",
            "placeholder": "​",
            "style": "IPY_MODEL_469c430709ec43c5aa88914244fc9e5d",
            "value": "Downloading: 100%"
          }
        },
        "ad2a78f01b4740a899059413cee19a87": {
          "model_module": "@jupyter-widgets/controls",
          "model_name": "FloatProgressModel",
          "model_module_version": "1.5.0",
          "state": {
            "_dom_classes": [],
            "_model_module": "@jupyter-widgets/controls",
            "_model_module_version": "1.5.0",
            "_model_name": "FloatProgressModel",
            "_view_count": null,
            "_view_module": "@jupyter-widgets/controls",
            "_view_module_version": "1.5.0",
            "_view_name": "ProgressView",
            "bar_style": "success",
            "description": "",
            "description_tooltip": null,
            "layout": "IPY_MODEL_db97e0d170174ababbd741235c271bf4",
            "max": 684,
            "min": 0,
            "orientation": "horizontal",
            "style": "IPY_MODEL_1f0ae4fd3b404e7f8ec808006fee0f5e",
            "value": 684
          }
        },
        "c6636a2c4c8b426aaabda78db1898033": {
          "model_module": "@jupyter-widgets/controls",
          "model_name": "HTMLModel",
          "model_module_version": "1.5.0",
          "state": {
            "_dom_classes": [],
            "_model_module": "@jupyter-widgets/controls",
            "_model_module_version": "1.5.0",
            "_model_name": "HTMLModel",
            "_view_count": null,
            "_view_module": "@jupyter-widgets/controls",
            "_view_module_version": "1.5.0",
            "_view_name": "HTMLView",
            "description": "",
            "description_tooltip": null,
            "layout": "IPY_MODEL_427f2ee33dae4b8698f866042269deb7",
            "placeholder": "​",
            "style": "IPY_MODEL_44eeb8e10395459c824e7a2911361562",
            "value": " 684/684 [00:00&lt;00:00, 22.1kB/s]"
          }
        },
        "000ece615402493ea91c40925afcc708": {
          "model_module": "@jupyter-widgets/base",
          "model_name": "LayoutModel",
          "model_module_version": "1.2.0",
          "state": {
            "_model_module": "@jupyter-widgets/base",
            "_model_module_version": "1.2.0",
            "_model_name": "LayoutModel",
            "_view_count": null,
            "_view_module": "@jupyter-widgets/base",
            "_view_module_version": "1.2.0",
            "_view_name": "LayoutView",
            "align_content": null,
            "align_items": null,
            "align_self": null,
            "border": null,
            "bottom": null,
            "display": null,
            "flex": null,
            "flex_flow": null,
            "grid_area": null,
            "grid_auto_columns": null,
            "grid_auto_flow": null,
            "grid_auto_rows": null,
            "grid_column": null,
            "grid_gap": null,
            "grid_row": null,
            "grid_template_areas": null,
            "grid_template_columns": null,
            "grid_template_rows": null,
            "height": null,
            "justify_content": null,
            "justify_items": null,
            "left": null,
            "margin": null,
            "max_height": null,
            "max_width": null,
            "min_height": null,
            "min_width": null,
            "object_fit": null,
            "object_position": null,
            "order": null,
            "overflow": null,
            "overflow_x": null,
            "overflow_y": null,
            "padding": null,
            "right": null,
            "top": null,
            "visibility": null,
            "width": null
          }
        },
        "6f05a4935c5349248248daca41fb53ce": {
          "model_module": "@jupyter-widgets/base",
          "model_name": "LayoutModel",
          "model_module_version": "1.2.0",
          "state": {
            "_model_module": "@jupyter-widgets/base",
            "_model_module_version": "1.2.0",
            "_model_name": "LayoutModel",
            "_view_count": null,
            "_view_module": "@jupyter-widgets/base",
            "_view_module_version": "1.2.0",
            "_view_name": "LayoutView",
            "align_content": null,
            "align_items": null,
            "align_self": null,
            "border": null,
            "bottom": null,
            "display": null,
            "flex": null,
            "flex_flow": null,
            "grid_area": null,
            "grid_auto_columns": null,
            "grid_auto_flow": null,
            "grid_auto_rows": null,
            "grid_column": null,
            "grid_gap": null,
            "grid_row": null,
            "grid_template_areas": null,
            "grid_template_columns": null,
            "grid_template_rows": null,
            "height": null,
            "justify_content": null,
            "justify_items": null,
            "left": null,
            "margin": null,
            "max_height": null,
            "max_width": null,
            "min_height": null,
            "min_width": null,
            "object_fit": null,
            "object_position": null,
            "order": null,
            "overflow": null,
            "overflow_x": null,
            "overflow_y": null,
            "padding": null,
            "right": null,
            "top": null,
            "visibility": null,
            "width": null
          }
        },
        "469c430709ec43c5aa88914244fc9e5d": {
          "model_module": "@jupyter-widgets/controls",
          "model_name": "DescriptionStyleModel",
          "model_module_version": "1.5.0",
          "state": {
            "_model_module": "@jupyter-widgets/controls",
            "_model_module_version": "1.5.0",
            "_model_name": "DescriptionStyleModel",
            "_view_count": null,
            "_view_module": "@jupyter-widgets/base",
            "_view_module_version": "1.2.0",
            "_view_name": "StyleView",
            "description_width": ""
          }
        },
        "db97e0d170174ababbd741235c271bf4": {
          "model_module": "@jupyter-widgets/base",
          "model_name": "LayoutModel",
          "model_module_version": "1.2.0",
          "state": {
            "_model_module": "@jupyter-widgets/base",
            "_model_module_version": "1.2.0",
            "_model_name": "LayoutModel",
            "_view_count": null,
            "_view_module": "@jupyter-widgets/base",
            "_view_module_version": "1.2.0",
            "_view_name": "LayoutView",
            "align_content": null,
            "align_items": null,
            "align_self": null,
            "border": null,
            "bottom": null,
            "display": null,
            "flex": null,
            "flex_flow": null,
            "grid_area": null,
            "grid_auto_columns": null,
            "grid_auto_flow": null,
            "grid_auto_rows": null,
            "grid_column": null,
            "grid_gap": null,
            "grid_row": null,
            "grid_template_areas": null,
            "grid_template_columns": null,
            "grid_template_rows": null,
            "height": null,
            "justify_content": null,
            "justify_items": null,
            "left": null,
            "margin": null,
            "max_height": null,
            "max_width": null,
            "min_height": null,
            "min_width": null,
            "object_fit": null,
            "object_position": null,
            "order": null,
            "overflow": null,
            "overflow_x": null,
            "overflow_y": null,
            "padding": null,
            "right": null,
            "top": null,
            "visibility": null,
            "width": null
          }
        },
        "1f0ae4fd3b404e7f8ec808006fee0f5e": {
          "model_module": "@jupyter-widgets/controls",
          "model_name": "ProgressStyleModel",
          "model_module_version": "1.5.0",
          "state": {
            "_model_module": "@jupyter-widgets/controls",
            "_model_module_version": "1.5.0",
            "_model_name": "ProgressStyleModel",
            "_view_count": null,
            "_view_module": "@jupyter-widgets/base",
            "_view_module_version": "1.2.0",
            "_view_name": "StyleView",
            "bar_color": null,
            "description_width": ""
          }
        },
        "427f2ee33dae4b8698f866042269deb7": {
          "model_module": "@jupyter-widgets/base",
          "model_name": "LayoutModel",
          "model_module_version": "1.2.0",
          "state": {
            "_model_module": "@jupyter-widgets/base",
            "_model_module_version": "1.2.0",
            "_model_name": "LayoutModel",
            "_view_count": null,
            "_view_module": "@jupyter-widgets/base",
            "_view_module_version": "1.2.0",
            "_view_name": "LayoutView",
            "align_content": null,
            "align_items": null,
            "align_self": null,
            "border": null,
            "bottom": null,
            "display": null,
            "flex": null,
            "flex_flow": null,
            "grid_area": null,
            "grid_auto_columns": null,
            "grid_auto_flow": null,
            "grid_auto_rows": null,
            "grid_column": null,
            "grid_gap": null,
            "grid_row": null,
            "grid_template_areas": null,
            "grid_template_columns": null,
            "grid_template_rows": null,
            "height": null,
            "justify_content": null,
            "justify_items": null,
            "left": null,
            "margin": null,
            "max_height": null,
            "max_width": null,
            "min_height": null,
            "min_width": null,
            "object_fit": null,
            "object_position": null,
            "order": null,
            "overflow": null,
            "overflow_x": null,
            "overflow_y": null,
            "padding": null,
            "right": null,
            "top": null,
            "visibility": null,
            "width": null
          }
        },
        "44eeb8e10395459c824e7a2911361562": {
          "model_module": "@jupyter-widgets/controls",
          "model_name": "DescriptionStyleModel",
          "model_module_version": "1.5.0",
          "state": {
            "_model_module": "@jupyter-widgets/controls",
            "_model_module_version": "1.5.0",
            "_model_name": "DescriptionStyleModel",
            "_view_count": null,
            "_view_module": "@jupyter-widgets/base",
            "_view_module_version": "1.2.0",
            "_view_name": "StyleView",
            "description_width": ""
          }
        },
        "159ff9fb34224d3e812ed435ea319c12": {
          "model_module": "@jupyter-widgets/controls",
          "model_name": "HBoxModel",
          "model_module_version": "1.5.0",
          "state": {
            "_dom_classes": [],
            "_model_module": "@jupyter-widgets/controls",
            "_model_module_version": "1.5.0",
            "_model_name": "HBoxModel",
            "_view_count": null,
            "_view_module": "@jupyter-widgets/controls",
            "_view_module_version": "1.5.0",
            "_view_name": "HBoxView",
            "box_style": "",
            "children": [
              "IPY_MODEL_dcd4828afc784f65a30eabe607609999",
              "IPY_MODEL_f2d1c37e0fa34fccbfeaae801825f379",
              "IPY_MODEL_0b8269f4ab2b4db29601936144c57d5d"
            ],
            "layout": "IPY_MODEL_f6aa4cde57d54d1dbcc1fb6d2e54427f"
          }
        },
        "dcd4828afc784f65a30eabe607609999": {
          "model_module": "@jupyter-widgets/controls",
          "model_name": "HTMLModel",
          "model_module_version": "1.5.0",
          "state": {
            "_dom_classes": [],
            "_model_module": "@jupyter-widgets/controls",
            "_model_module_version": "1.5.0",
            "_model_name": "HTMLModel",
            "_view_count": null,
            "_view_module": "@jupyter-widgets/controls",
            "_view_module_version": "1.5.0",
            "_view_name": "HTMLView",
            "description": "",
            "description_tooltip": null,
            "layout": "IPY_MODEL_dd9465f3193645029fab820f60de140c",
            "placeholder": "​",
            "style": "IPY_MODEL_237455ec43dd47d9b5357720bccee5b6",
            "value": "Downloading: 100%"
          }
        },
        "f2d1c37e0fa34fccbfeaae801825f379": {
          "model_module": "@jupyter-widgets/controls",
          "model_name": "FloatProgressModel",
          "model_module_version": "1.5.0",
          "state": {
            "_dom_classes": [],
            "_model_module": "@jupyter-widgets/controls",
            "_model_module_version": "1.5.0",
            "_model_name": "FloatProgressModel",
            "_view_count": null,
            "_view_module": "@jupyter-widgets/controls",
            "_view_module_version": "1.5.0",
            "_view_name": "ProgressView",
            "bar_style": "success",
            "description": "",
            "description_tooltip": null,
            "layout": "IPY_MODEL_949fd5022fb941e79700eb57affe402e",
            "max": 47376696,
            "min": 0,
            "orientation": "horizontal",
            "style": "IPY_MODEL_d23081f1b8c946b1bb0190f68ed5f204",
            "value": 47376696
          }
        },
        "0b8269f4ab2b4db29601936144c57d5d": {
          "model_module": "@jupyter-widgets/controls",
          "model_name": "HTMLModel",
          "model_module_version": "1.5.0",
          "state": {
            "_dom_classes": [],
            "_model_module": "@jupyter-widgets/controls",
            "_model_module_version": "1.5.0",
            "_model_name": "HTMLModel",
            "_view_count": null,
            "_view_module": "@jupyter-widgets/controls",
            "_view_module_version": "1.5.0",
            "_view_name": "HTMLView",
            "description": "",
            "description_tooltip": null,
            "layout": "IPY_MODEL_7499a192a8fe4e6686a82124baa3cba2",
            "placeholder": "​",
            "style": "IPY_MODEL_84df4ace8ebc4519b5d7ea6cfb5b2cfb",
            "value": " 47.4M/47.4M [00:00&lt;00:00, 66.7MB/s]"
          }
        },
        "f6aa4cde57d54d1dbcc1fb6d2e54427f": {
          "model_module": "@jupyter-widgets/base",
          "model_name": "LayoutModel",
          "model_module_version": "1.2.0",
          "state": {
            "_model_module": "@jupyter-widgets/base",
            "_model_module_version": "1.2.0",
            "_model_name": "LayoutModel",
            "_view_count": null,
            "_view_module": "@jupyter-widgets/base",
            "_view_module_version": "1.2.0",
            "_view_name": "LayoutView",
            "align_content": null,
            "align_items": null,
            "align_self": null,
            "border": null,
            "bottom": null,
            "display": null,
            "flex": null,
            "flex_flow": null,
            "grid_area": null,
            "grid_auto_columns": null,
            "grid_auto_flow": null,
            "grid_auto_rows": null,
            "grid_column": null,
            "grid_gap": null,
            "grid_row": null,
            "grid_template_areas": null,
            "grid_template_columns": null,
            "grid_template_rows": null,
            "height": null,
            "justify_content": null,
            "justify_items": null,
            "left": null,
            "margin": null,
            "max_height": null,
            "max_width": null,
            "min_height": null,
            "min_width": null,
            "object_fit": null,
            "object_position": null,
            "order": null,
            "overflow": null,
            "overflow_x": null,
            "overflow_y": null,
            "padding": null,
            "right": null,
            "top": null,
            "visibility": null,
            "width": null
          }
        },
        "dd9465f3193645029fab820f60de140c": {
          "model_module": "@jupyter-widgets/base",
          "model_name": "LayoutModel",
          "model_module_version": "1.2.0",
          "state": {
            "_model_module": "@jupyter-widgets/base",
            "_model_module_version": "1.2.0",
            "_model_name": "LayoutModel",
            "_view_count": null,
            "_view_module": "@jupyter-widgets/base",
            "_view_module_version": "1.2.0",
            "_view_name": "LayoutView",
            "align_content": null,
            "align_items": null,
            "align_self": null,
            "border": null,
            "bottom": null,
            "display": null,
            "flex": null,
            "flex_flow": null,
            "grid_area": null,
            "grid_auto_columns": null,
            "grid_auto_flow": null,
            "grid_auto_rows": null,
            "grid_column": null,
            "grid_gap": null,
            "grid_row": null,
            "grid_template_areas": null,
            "grid_template_columns": null,
            "grid_template_rows": null,
            "height": null,
            "justify_content": null,
            "justify_items": null,
            "left": null,
            "margin": null,
            "max_height": null,
            "max_width": null,
            "min_height": null,
            "min_width": null,
            "object_fit": null,
            "object_position": null,
            "order": null,
            "overflow": null,
            "overflow_x": null,
            "overflow_y": null,
            "padding": null,
            "right": null,
            "top": null,
            "visibility": null,
            "width": null
          }
        },
        "237455ec43dd47d9b5357720bccee5b6": {
          "model_module": "@jupyter-widgets/controls",
          "model_name": "DescriptionStyleModel",
          "model_module_version": "1.5.0",
          "state": {
            "_model_module": "@jupyter-widgets/controls",
            "_model_module_version": "1.5.0",
            "_model_name": "DescriptionStyleModel",
            "_view_count": null,
            "_view_module": "@jupyter-widgets/base",
            "_view_module_version": "1.2.0",
            "_view_name": "StyleView",
            "description_width": ""
          }
        },
        "949fd5022fb941e79700eb57affe402e": {
          "model_module": "@jupyter-widgets/base",
          "model_name": "LayoutModel",
          "model_module_version": "1.2.0",
          "state": {
            "_model_module": "@jupyter-widgets/base",
            "_model_module_version": "1.2.0",
            "_model_name": "LayoutModel",
            "_view_count": null,
            "_view_module": "@jupyter-widgets/base",
            "_view_module_version": "1.2.0",
            "_view_name": "LayoutView",
            "align_content": null,
            "align_items": null,
            "align_self": null,
            "border": null,
            "bottom": null,
            "display": null,
            "flex": null,
            "flex_flow": null,
            "grid_area": null,
            "grid_auto_columns": null,
            "grid_auto_flow": null,
            "grid_auto_rows": null,
            "grid_column": null,
            "grid_gap": null,
            "grid_row": null,
            "grid_template_areas": null,
            "grid_template_columns": null,
            "grid_template_rows": null,
            "height": null,
            "justify_content": null,
            "justify_items": null,
            "left": null,
            "margin": null,
            "max_height": null,
            "max_width": null,
            "min_height": null,
            "min_width": null,
            "object_fit": null,
            "object_position": null,
            "order": null,
            "overflow": null,
            "overflow_x": null,
            "overflow_y": null,
            "padding": null,
            "right": null,
            "top": null,
            "visibility": null,
            "width": null
          }
        },
        "d23081f1b8c946b1bb0190f68ed5f204": {
          "model_module": "@jupyter-widgets/controls",
          "model_name": "ProgressStyleModel",
          "model_module_version": "1.5.0",
          "state": {
            "_model_module": "@jupyter-widgets/controls",
            "_model_module_version": "1.5.0",
            "_model_name": "ProgressStyleModel",
            "_view_count": null,
            "_view_module": "@jupyter-widgets/base",
            "_view_module_version": "1.2.0",
            "_view_name": "StyleView",
            "bar_color": null,
            "description_width": ""
          }
        },
        "7499a192a8fe4e6686a82124baa3cba2": {
          "model_module": "@jupyter-widgets/base",
          "model_name": "LayoutModel",
          "model_module_version": "1.2.0",
          "state": {
            "_model_module": "@jupyter-widgets/base",
            "_model_module_version": "1.2.0",
            "_model_name": "LayoutModel",
            "_view_count": null,
            "_view_module": "@jupyter-widgets/base",
            "_view_module_version": "1.2.0",
            "_view_name": "LayoutView",
            "align_content": null,
            "align_items": null,
            "align_self": null,
            "border": null,
            "bottom": null,
            "display": null,
            "flex": null,
            "flex_flow": null,
            "grid_area": null,
            "grid_auto_columns": null,
            "grid_auto_flow": null,
            "grid_auto_rows": null,
            "grid_column": null,
            "grid_gap": null,
            "grid_row": null,
            "grid_template_areas": null,
            "grid_template_columns": null,
            "grid_template_rows": null,
            "height": null,
            "justify_content": null,
            "justify_items": null,
            "left": null,
            "margin": null,
            "max_height": null,
            "max_width": null,
            "min_height": null,
            "min_width": null,
            "object_fit": null,
            "object_position": null,
            "order": null,
            "overflow": null,
            "overflow_x": null,
            "overflow_y": null,
            "padding": null,
            "right": null,
            "top": null,
            "visibility": null,
            "width": null
          }
        },
        "84df4ace8ebc4519b5d7ea6cfb5b2cfb": {
          "model_module": "@jupyter-widgets/controls",
          "model_name": "DescriptionStyleModel",
          "model_module_version": "1.5.0",
          "state": {
            "_model_module": "@jupyter-widgets/controls",
            "_model_module_version": "1.5.0",
            "_model_name": "DescriptionStyleModel",
            "_view_count": null,
            "_view_module": "@jupyter-widgets/base",
            "_view_module_version": "1.2.0",
            "_view_name": "StyleView",
            "description_width": ""
          }
        }
      }
    }
  },
  "nbformat": 4,
  "nbformat_minor": 0
}