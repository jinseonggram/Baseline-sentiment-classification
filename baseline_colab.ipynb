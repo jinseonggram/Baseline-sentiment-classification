{
  "cells": [
    {
      "cell_type": "markdown",
      "metadata": {
        "id": "TH32rzgprvgM"
      },
      "source": [
        "# Import requirements"
      ]
    },
    {
      "cell_type": "code",
      "execution_count": 1,
      "metadata": {
        "colab": {
          "base_uri": "https://localhost:8080/"
        },
        "id": "G9EvC1HBuf41",
        "outputId": "aefcb7cb-bba7-4f36-bc7c-2167b6a3ab94"
      },
      "outputs": [
        {
          "output_type": "stream",
          "name": "stdout",
          "text": [
            "Looking in indexes: https://pypi.org/simple, https://us-python.pkg.dev/colab-wheels/public/simple/\n",
            "Collecting Sentencepiece\n",
            "  Downloading sentencepiece-0.1.97-cp37-cp37m-manylinux_2_17_x86_64.manylinux2014_x86_64.whl (1.3 MB)\n",
            "\u001b[K     |████████████████████████████████| 1.3 MB 14.0 MB/s \n",
            "\u001b[?25hInstalling collected packages: Sentencepiece\n",
            "Successfully installed Sentencepiece-0.1.97\n",
            "Looking in indexes: https://pypi.org/simple, https://us-python.pkg.dev/colab-wheels/public/simple/\n",
            "Collecting transformers\n",
            "  Downloading transformers-4.22.2-py3-none-any.whl (4.9 MB)\n",
            "\u001b[K     |████████████████████████████████| 4.9 MB 15.3 MB/s \n",
            "\u001b[?25hCollecting tokenizers!=0.11.3,<0.13,>=0.11.1\n",
            "  Downloading tokenizers-0.12.1-cp37-cp37m-manylinux_2_12_x86_64.manylinux2010_x86_64.whl (6.6 MB)\n",
            "\u001b[K     |████████████████████████████████| 6.6 MB 72.5 MB/s \n",
            "\u001b[?25hRequirement already satisfied: tqdm>=4.27 in /usr/local/lib/python3.7/dist-packages (from transformers) (4.64.1)\n",
            "Requirement already satisfied: importlib-metadata in /usr/local/lib/python3.7/dist-packages (from transformers) (4.12.0)\n",
            "Requirement already satisfied: requests in /usr/local/lib/python3.7/dist-packages (from transformers) (2.23.0)\n",
            "Collecting huggingface-hub<1.0,>=0.9.0\n",
            "  Downloading huggingface_hub-0.10.0-py3-none-any.whl (163 kB)\n",
            "\u001b[K     |████████████████████████████████| 163 kB 83.4 MB/s \n",
            "\u001b[?25hRequirement already satisfied: regex!=2019.12.17 in /usr/local/lib/python3.7/dist-packages (from transformers) (2022.6.2)\n",
            "Requirement already satisfied: filelock in /usr/local/lib/python3.7/dist-packages (from transformers) (3.8.0)\n",
            "Requirement already satisfied: packaging>=20.0 in /usr/local/lib/python3.7/dist-packages (from transformers) (21.3)\n",
            "Requirement already satisfied: numpy>=1.17 in /usr/local/lib/python3.7/dist-packages (from transformers) (1.21.6)\n",
            "Requirement already satisfied: pyyaml>=5.1 in /usr/local/lib/python3.7/dist-packages (from transformers) (6.0)\n",
            "Requirement already satisfied: typing-extensions>=3.7.4.3 in /usr/local/lib/python3.7/dist-packages (from huggingface-hub<1.0,>=0.9.0->transformers) (4.1.1)\n",
            "Requirement already satisfied: pyparsing!=3.0.5,>=2.0.2 in /usr/local/lib/python3.7/dist-packages (from packaging>=20.0->transformers) (3.0.9)\n",
            "Requirement already satisfied: zipp>=0.5 in /usr/local/lib/python3.7/dist-packages (from importlib-metadata->transformers) (3.8.1)\n",
            "Requirement already satisfied: certifi>=2017.4.17 in /usr/local/lib/python3.7/dist-packages (from requests->transformers) (2022.6.15)\n",
            "Requirement already satisfied: idna<3,>=2.5 in /usr/local/lib/python3.7/dist-packages (from requests->transformers) (2.10)\n",
            "Requirement already satisfied: chardet<4,>=3.0.2 in /usr/local/lib/python3.7/dist-packages (from requests->transformers) (3.0.4)\n",
            "Requirement already satisfied: urllib3!=1.25.0,!=1.25.1,<1.26,>=1.21.1 in /usr/local/lib/python3.7/dist-packages (from requests->transformers) (1.24.3)\n",
            "Installing collected packages: tokenizers, huggingface-hub, transformers\n",
            "Successfully installed huggingface-hub-0.10.0 tokenizers-0.12.1 transformers-4.22.2\n"
          ]
        }
      ],
      "source": [
        "!pip install Sentencepiece\n",
        "!pip install transformers"
      ]
    },
    {
      "cell_type": "code",
      "execution_count": null,
      "metadata": {
        "id": "AAdLxrUZrvgP"
      },
      "outputs": [],
      "source": [
        "import os\n",
        "import pdb\n",
        "import argparse\n",
        "from dataclasses import dataclass, field\n",
        "from typing import Optional\n",
        "from collections import defaultdict\n",
        "\n",
        "import torch\n",
        "from torch.nn.utils.rnn import pad_sequence\n",
        "\n",
        "import numpy as np\n",
        "from tqdm import tqdm, trange\n",
        "\n",
        "from transformers import (\n",
        "    BertForSequenceClassification,\n",
        "    BertTokenizer,\n",
        "    AutoConfig,\n",
        "    AdamW,\n",
        "    \n",
        "    AlbertTokenizer, AlbertForSequenceClassification\n",
        ")"
      ]
    },
    {
      "cell_type": "markdown",
      "metadata": {
        "id": "ASWOOmXqrvgQ"
      },
      "source": [
        "# 1. Preprocess"
      ]
    },
    {
      "cell_type": "code",
      "execution_count": null,
      "metadata": {
        "id": "RAnU6w29rvgR"
      },
      "outputs": [],
      "source": [
        "def make_id_file(task, tokenizer):\n",
        "    def make_data_strings(file_name):\n",
        "        data_strings = []\n",
        "        with open(os.path.join(file_name), 'r', encoding='utf-8') as f:\n",
        "            id_file_data = [tokenizer.encode(line.lower()) for line in f.readlines()]\n",
        "        for item in id_file_data:\n",
        "            data_strings.append(' '.join([str(k) for k in item]))\n",
        "        return data_strings\n",
        "    \n",
        "    print('it will take some times...')\n",
        "    train_pos = make_data_strings('sentiment.train.1')\n",
        "    train_neg = make_data_strings('sentiment.train.0')\n",
        "    dev_pos = make_data_strings('sentiment.dev.1')\n",
        "    dev_neg = make_data_strings('sentiment.dev.0')\n",
        "\n",
        "    print('make id file finished!')\n",
        "    return train_pos, train_neg, dev_pos, dev_neg"
      ]
    },
    {
      "cell_type": "code",
      "execution_count": null,
      "metadata": {
        "colab": {
          "base_uri": "https://localhost:8080/",
          "height": 81,
          "referenced_widgets": [
            "64619645241944c794dc5deab86a4592",
            "2f216368c0804fdfb9739623a322d265",
            "dd98b42a9d6044ea859b1b1396134d4f",
            "12ca81c652d04a2b884665e11a09367d",
            "da0409b3cb1b4f69a9ee09746765c434",
            "ec0d2cfbfedc42b4be45406b091149c3",
            "37b2c4dfd19349ddad97d0db9e316b8a",
            "e5e4385154404ac1aaee8850f749d1a5",
            "b68459f216a64a26a2556f50063541af",
            "a2a9ffb1d0e64fe094d5cf8c66233258",
            "655eb21fd1bf419982d65fdf83a9ed98",
            "cdd113c8c8394887adafaada1a079aeb",
            "8dd6555926da40f9881fed9f2fcf2fdb",
            "52222a8c19df4ffa915987e1b544f4b7",
            "79e0d65e2582458483276f018761f33b",
            "3bd776ffbeb149efb1336b71fb940f8b",
            "f39f1641bb2f47d2bf5c344939d355c6",
            "2218c764cab04e4aa9e3e9bbbe052fc6",
            "07063e2eed374b6f8010c761d0ed8d09",
            "65ec7e7369cc4182a24f954fafdb9a89",
            "f6ed2b62b1f44d52839d2ae2248afb0e",
            "cbd3dd87b4cb4e2abd4cd1da5bbb9b06"
          ]
        },
        "id": "Ui2HOCflrvgR",
        "outputId": "09266317-cc6a-448e-ce06-78b5c1d1b5d0"
      },
      "outputs": [
        {
          "data": {
            "application/vnd.jupyter.widget-view+json": {
              "model_id": "64619645241944c794dc5deab86a4592",
              "version_major": 2,
              "version_minor": 0
            },
            "text/plain": [
              "Downloading:   0%|          | 0.00/760k [00:00<?, ?B/s]"
            ]
          },
          "metadata": {},
          "output_type": "display_data"
        },
        {
          "data": {
            "application/vnd.jupyter.widget-view+json": {
              "model_id": "cdd113c8c8394887adafaada1a079aeb",
              "version_major": 2,
              "version_minor": 0
            },
            "text/plain": [
              "Downloading:   0%|          | 0.00/684 [00:00<?, ?B/s]"
            ]
          },
          "metadata": {},
          "output_type": "display_data"
        }
      ],
      "source": [
        "# tokenizer = BertTokenizer.from_pretrained('bert-base-uncased')\n",
        "tokenizer = AlbertTokenizer.from_pretrained(\"albert-base-v2\")"
      ]
    },
    {
      "cell_type": "code",
      "execution_count": null,
      "metadata": {
        "colab": {
          "base_uri": "https://localhost:8080/",
          "height": 218
        },
        "id": "4jVuK-V1uq3L",
        "outputId": "8a497b41-5bc5-44cf-b290-8b99479295fe"
      },
      "outputs": [
        {
          "data": {
            "text/html": [
              "\n",
              "     <input type=\"file\" id=\"files-b3fb8ceb-0644-4539-b50b-69abdf539499\" name=\"files[]\" multiple disabled\n",
              "        style=\"border:none\" />\n",
              "     <output id=\"result-b3fb8ceb-0644-4539-b50b-69abdf539499\">\n",
              "      Upload widget is only available when the cell has been executed in the\n",
              "      current browser session. Please rerun this cell to enable.\n",
              "      </output>\n",
              "      <script>// Copyright 2017 Google LLC\n",
              "//\n",
              "// Licensed under the Apache License, Version 2.0 (the \"License\");\n",
              "// you may not use this file except in compliance with the License.\n",
              "// You may obtain a copy of the License at\n",
              "//\n",
              "//      http://www.apache.org/licenses/LICENSE-2.0\n",
              "//\n",
              "// Unless required by applicable law or agreed to in writing, software\n",
              "// distributed under the License is distributed on an \"AS IS\" BASIS,\n",
              "// WITHOUT WARRANTIES OR CONDITIONS OF ANY KIND, either express or implied.\n",
              "// See the License for the specific language governing permissions and\n",
              "// limitations under the License.\n",
              "\n",
              "/**\n",
              " * @fileoverview Helpers for google.colab Python module.\n",
              " */\n",
              "(function(scope) {\n",
              "function span(text, styleAttributes = {}) {\n",
              "  const element = document.createElement('span');\n",
              "  element.textContent = text;\n",
              "  for (const key of Object.keys(styleAttributes)) {\n",
              "    element.style[key] = styleAttributes[key];\n",
              "  }\n",
              "  return element;\n",
              "}\n",
              "\n",
              "// Max number of bytes which will be uploaded at a time.\n",
              "const MAX_PAYLOAD_SIZE = 100 * 1024;\n",
              "\n",
              "function _uploadFiles(inputId, outputId) {\n",
              "  const steps = uploadFilesStep(inputId, outputId);\n",
              "  const outputElement = document.getElementById(outputId);\n",
              "  // Cache steps on the outputElement to make it available for the next call\n",
              "  // to uploadFilesContinue from Python.\n",
              "  outputElement.steps = steps;\n",
              "\n",
              "  return _uploadFilesContinue(outputId);\n",
              "}\n",
              "\n",
              "// This is roughly an async generator (not supported in the browser yet),\n",
              "// where there are multiple asynchronous steps and the Python side is going\n",
              "// to poll for completion of each step.\n",
              "// This uses a Promise to block the python side on completion of each step,\n",
              "// then passes the result of the previous step as the input to the next step.\n",
              "function _uploadFilesContinue(outputId) {\n",
              "  const outputElement = document.getElementById(outputId);\n",
              "  const steps = outputElement.steps;\n",
              "\n",
              "  const next = steps.next(outputElement.lastPromiseValue);\n",
              "  return Promise.resolve(next.value.promise).then((value) => {\n",
              "    // Cache the last promise value to make it available to the next\n",
              "    // step of the generator.\n",
              "    outputElement.lastPromiseValue = value;\n",
              "    return next.value.response;\n",
              "  });\n",
              "}\n",
              "\n",
              "/**\n",
              " * Generator function which is called between each async step of the upload\n",
              " * process.\n",
              " * @param {string} inputId Element ID of the input file picker element.\n",
              " * @param {string} outputId Element ID of the output display.\n",
              " * @return {!Iterable<!Object>} Iterable of next steps.\n",
              " */\n",
              "function* uploadFilesStep(inputId, outputId) {\n",
              "  const inputElement = document.getElementById(inputId);\n",
              "  inputElement.disabled = false;\n",
              "\n",
              "  const outputElement = document.getElementById(outputId);\n",
              "  outputElement.innerHTML = '';\n",
              "\n",
              "  const pickedPromise = new Promise((resolve) => {\n",
              "    inputElement.addEventListener('change', (e) => {\n",
              "      resolve(e.target.files);\n",
              "    });\n",
              "  });\n",
              "\n",
              "  const cancel = document.createElement('button');\n",
              "  inputElement.parentElement.appendChild(cancel);\n",
              "  cancel.textContent = 'Cancel upload';\n",
              "  const cancelPromise = new Promise((resolve) => {\n",
              "    cancel.onclick = () => {\n",
              "      resolve(null);\n",
              "    };\n",
              "  });\n",
              "\n",
              "  // Wait for the user to pick the files.\n",
              "  const files = yield {\n",
              "    promise: Promise.race([pickedPromise, cancelPromise]),\n",
              "    response: {\n",
              "      action: 'starting',\n",
              "    }\n",
              "  };\n",
              "\n",
              "  cancel.remove();\n",
              "\n",
              "  // Disable the input element since further picks are not allowed.\n",
              "  inputElement.disabled = true;\n",
              "\n",
              "  if (!files) {\n",
              "    return {\n",
              "      response: {\n",
              "        action: 'complete',\n",
              "      }\n",
              "    };\n",
              "  }\n",
              "\n",
              "  for (const file of files) {\n",
              "    const li = document.createElement('li');\n",
              "    li.append(span(file.name, {fontWeight: 'bold'}));\n",
              "    li.append(span(\n",
              "        `(${file.type || 'n/a'}) - ${file.size} bytes, ` +\n",
              "        `last modified: ${\n",
              "            file.lastModifiedDate ? file.lastModifiedDate.toLocaleDateString() :\n",
              "                                    'n/a'} - `));\n",
              "    const percent = span('0% done');\n",
              "    li.appendChild(percent);\n",
              "\n",
              "    outputElement.appendChild(li);\n",
              "\n",
              "    const fileDataPromise = new Promise((resolve) => {\n",
              "      const reader = new FileReader();\n",
              "      reader.onload = (e) => {\n",
              "        resolve(e.target.result);\n",
              "      };\n",
              "      reader.readAsArrayBuffer(file);\n",
              "    });\n",
              "    // Wait for the data to be ready.\n",
              "    let fileData = yield {\n",
              "      promise: fileDataPromise,\n",
              "      response: {\n",
              "        action: 'continue',\n",
              "      }\n",
              "    };\n",
              "\n",
              "    // Use a chunked sending to avoid message size limits. See b/62115660.\n",
              "    let position = 0;\n",
              "    do {\n",
              "      const length = Math.min(fileData.byteLength - position, MAX_PAYLOAD_SIZE);\n",
              "      const chunk = new Uint8Array(fileData, position, length);\n",
              "      position += length;\n",
              "\n",
              "      const base64 = btoa(String.fromCharCode.apply(null, chunk));\n",
              "      yield {\n",
              "        response: {\n",
              "          action: 'append',\n",
              "          file: file.name,\n",
              "          data: base64,\n",
              "        },\n",
              "      };\n",
              "\n",
              "      let percentDone = fileData.byteLength === 0 ?\n",
              "          100 :\n",
              "          Math.round((position / fileData.byteLength) * 100);\n",
              "      percent.textContent = `${percentDone}% done`;\n",
              "\n",
              "    } while (position < fileData.byteLength);\n",
              "  }\n",
              "\n",
              "  // All done.\n",
              "  yield {\n",
              "    response: {\n",
              "      action: 'complete',\n",
              "    }\n",
              "  };\n",
              "}\n",
              "\n",
              "scope.google = scope.google || {};\n",
              "scope.google.colab = scope.google.colab || {};\n",
              "scope.google.colab._files = {\n",
              "  _uploadFiles,\n",
              "  _uploadFilesContinue,\n",
              "};\n",
              "})(self);\n",
              "</script> "
            ],
            "text/plain": [
              "<IPython.core.display.HTML object>"
            ]
          },
          "metadata": {},
          "output_type": "display_data"
        },
        {
          "name": "stdout",
          "output_type": "stream",
          "text": [
            "Saving sentiment.train.1 to sentiment.train.1\n",
            "Saving sentiment.train.0 to sentiment.train.0\n",
            "Saving test_no_label.csv to test_no_label.csv\n",
            "Saving sentiment.dev.1 to sentiment.dev.1\n",
            "Saving sentiment.dev.0 to sentiment.dev.0\n"
          ]
        }
      ],
      "source": [
        "from google.colab import files\n",
        "uploaded = files.upload()"
      ]
    },
    {
      "cell_type": "code",
      "execution_count": null,
      "metadata": {
        "colab": {
          "base_uri": "https://localhost:8080/"
        },
        "id": "ttzRlY4Ov0jZ",
        "outputId": "e75882e0-28c4-4b2c-ebe0-a55d547b87fa"
      },
      "outputs": [
        {
          "name": "stdout",
          "output_type": "stream",
          "text": [
            "/bin/bash: ls3: command not found\n"
          ]
        }
      ],
      "source": [
        "!ls"
      ]
    },
    {
      "cell_type": "code",
      "execution_count": null,
      "metadata": {
        "colab": {
          "base_uri": "https://localhost:8080/"
        },
        "id": "BAgztXIBrvgS",
        "outputId": "59595d08-6bd8-43de-cefa-a878e14914c5"
      },
      "outputs": [
        {
          "name": "stdout",
          "output_type": "stream",
          "text": [
            "it will take some times...\n",
            "make id file finished!\n"
          ]
        }
      ],
      "source": [
        "train_pos, train_neg, dev_pos, dev_neg = make_id_file('yelp', tokenizer)"
      ]
    },
    {
      "cell_type": "code",
      "execution_count": null,
      "metadata": {
        "colab": {
          "base_uri": "https://localhost:8080/"
        },
        "id": "wRh2WjGRrvgS",
        "outputId": "cbab0595-9e2e-4387-899b-5568b7809f23"
      },
      "outputs": [
        {
          "data": {
            "text/plain": [
              "['2 5977 950 13 9 3',\n",
              " '2 18656 7705 365 13 9 3',\n",
              " '2 59 67 57 1954 621 18 17 1392 5262 56 25 510 254 13 9 3',\n",
              " '2 32 13 22 18 21 254 13865 69 20538 7298 13 9 3',\n",
              " '2 14 1138 25 4753 13 9 3',\n",
              " '2 254 748 950 13 9 3',\n",
              " '2 254 365 13 9 3',\n",
              " '2 11554 16 208 25 27269 17 7503 16 621 18 13 9 3',\n",
              " '2 374 209 26 4311 54 748 16385 18 17 3911 13 9 3',\n",
              " '2 14 78 978 1879 5289 13 9 3']"
            ]
          },
          "execution_count": 7,
          "metadata": {},
          "output_type": "execute_result"
        }
      ],
      "source": [
        "train_pos[:10]"
      ]
    },
    {
      "cell_type": "code",
      "execution_count": null,
      "metadata": {
        "id": "JdpQQQMUrvgT"
      },
      "outputs": [],
      "source": [
        "class SentimentDataset(object):\n",
        "    def __init__(self, tokenizer, pos, neg):\n",
        "        self.tokenizer = tokenizer\n",
        "        self.data = []\n",
        "        self.label = []\n",
        "\n",
        "        for pos_sent in pos:\n",
        "            self.data += [self._cast_to_int(pos_sent.strip().split())]\n",
        "            self.label += [[1]]\n",
        "            # print('pos_sent: ', self.label, pos_sent)\n",
        "        for neg_sent in neg:\n",
        "            self.data += [self._cast_to_int(neg_sent.strip().split())]\n",
        "            self.label += [[0]]\n",
        "\n",
        "    def _cast_to_int(self, sample):\n",
        "        return [int(word_id) for word_id in sample]\n",
        "\n",
        "    def __len__(self):\n",
        "        return len(self.data)\n",
        "\n",
        "    def __getitem__(self, index):\n",
        "        sample = self.data[index]\n",
        "        return np.array(sample), np.array(self.label[index])"
      ]
    },
    {
      "cell_type": "code",
      "execution_count": null,
      "metadata": {
        "id": "wCz5ey8xrvgU"
      },
      "outputs": [],
      "source": [
        "train_dataset = SentimentDataset(tokenizer, train_pos, train_neg)\n",
        "dev_dataset = SentimentDataset(tokenizer, dev_pos, dev_neg)"
      ]
    },
    {
      "cell_type": "code",
      "execution_count": null,
      "metadata": {
        "id": "UuvkMczvrvgU"
      },
      "outputs": [],
      "source": [
        "# for i, item in reversed(list(enumerate(train_dataset))):\n",
        "#     print(item)\n",
        "#     if i == 1:\n",
        "#         break\n",
        "\n",
        "# for i, item in enumerate(train_dataset):\n",
        "#     print(item)\n",
        "#     if i == 1:\n",
        "#         break"
      ]
    },
    {
      "cell_type": "code",
      "execution_count": null,
      "metadata": {
        "id": "B0wRUBYSrvgU"
      },
      "outputs": [],
      "source": [
        "# def collate_fn_style(samples):\n",
        "#     # print('samples : ',samples)\n",
        "#     input_ids, labels = zip(*samples)\n",
        "#     # print('inputs : ', input_ids)\n",
        "#     # print('labels : ', labels)\n",
        "\n",
        "#     # batch 사이즈중 가장 긴 문장의 길이 추출\n",
        "#     max_len = max(len(input_id) for input_id in input_ids)\n",
        "\n",
        "#     # 조금 더 잘 pad 를 하기 위해 문장 정리\n",
        "#     sorted_indices = np.argsort([len(input_id) for input_id in input_ids])[::-1]\n",
        "    \n",
        "#     # 위에 오류\n",
        "#     # sorted_indices = range(len(input_ids))\n",
        "\n",
        "#     # https://pytorch.org/docs/stable/generated/torch.nn.utils.rnn.pad_sequence.html, 길이를 맞추기 위해 pad 를 해줌. 전체적인 dim 이 같아짐.\n",
        "#     input_ids = pad_sequence([torch.tensor(input_ids[index]) for index in sorted_indices],\n",
        "#                              batch_first=True)\n",
        "    \n",
        "#     # 불필요한 영역에는 attention 을 두지 않도록 attention mask 생성.\n",
        "#     attention_mask = torch.tensor(\n",
        "#         [[1] * len(input_ids[index]) + [0] * (max_len - len(input_ids[index])) for index in\n",
        "#          sorted_indices])\n",
        "\n",
        "#     # attention_mask = []\n",
        "#     # for seq in input_ids:\n",
        "#     #   seq_mask = [float(i>0) for i in seq]\n",
        "#     #   attention_mask.append(seq_mask)\n",
        "    \n",
        "#     # attention_mask = torch.tensor(attention_mask)\n",
        "      \n",
        "#     token_type_ids = torch.tensor([[0] * len(input_ids[index]) for index in sorted_indices])\n",
        "#     position_ids = torch.tensor([list(range(len(input_ids[index]))) for index  in sorted_indices])\n",
        "#     labels = torch.tensor(np.stack(labels, axis=0)[sorted_indices])\n",
        "\n",
        "#     return input_ids, attention_mask, token_type_ids, position_ids, labels\n",
        "\n",
        "\n",
        "def collate_fn_style(samples):\n",
        "    input_ids, labels = zip(*samples)\n",
        "    max_len = max(len(input_id) for input_id in input_ids)\n",
        "    # sorted_indices = np.argsort([len(input_id) for input_id in input_ids])[::-1] \n",
        "    sorted_indices = range(len(input_ids))\n",
        "\n",
        "    # https://pytorch.org/docs/stable/generated/torch.nn.utils.rnn.pad_sequence.html,\n",
        "    # 길이를 맞추기 위해 pad 를 해줌. batch 마다 적용\n",
        "    input_ids = pad_sequence([torch.tensor(input_ids[index]) for index in sorted_indices],\n",
        "                             batch_first=True)\n",
        "    # attention_mask = torch.tensor(\n",
        "    #     [[1] * len(input_ids[index]) + [0] * (max_len - len(input_ids[index])) for index in\n",
        "    #      sorted_indices])\n",
        "\n",
        "    attention_mask = []\n",
        "    for seq in input_ids:\n",
        "      seq_mask = [float(i>0) for i in seq]\n",
        "      attention_mask.append(seq_mask)\n",
        "    attention_mask = torch.tensor(attention_mask)\n",
        "\n",
        "    token_type_ids = torch.tensor([[0] * len(input_ids[index]) for index in sorted_indices])\n",
        "    position_ids = torch.tensor([list(range(len(input_ids[index]))) for index in sorted_indices])\n",
        "    labels = torch.tensor(np.stack(labels, axis=0)[sorted_indices])\n",
        "    \n",
        "\n",
        "    return input_ids, attention_mask, token_type_ids, position_ids, labels"
      ]
    },
    {
      "cell_type": "code",
      "execution_count": null,
      "metadata": {
        "id": "5saagig0rvgV"
      },
      "outputs": [],
      "source": [
        "train_batch_size=128 # 32-> 128\n",
        "eval_batch_size=256 # 64-> 256\n",
        "\n",
        "train_loader = torch.utils.data.DataLoader(train_dataset,\n",
        "                                           batch_size=train_batch_size,\n",
        "                                           shuffle=True, collate_fn=collate_fn_style,\n",
        "                                           pin_memory=True, num_workers=2)\n",
        "dev_loader = torch.utils.data.DataLoader(dev_dataset, batch_size=eval_batch_size,\n",
        "                                         shuffle=False, collate_fn=collate_fn_style,\n",
        "                                         num_workers=2)"
      ]
    },
    {
      "cell_type": "code",
      "execution_count": null,
      "metadata": {
        "colab": {
          "base_uri": "https://localhost:8080/"
        },
        "id": "A9LCKfZPyXd3",
        "outputId": "fd85c312-db16-4de8-8af6-9a4afbe853cf"
      },
      "outputs": [
        {
          "name": "stdout",
          "output_type": "stream",
          "text": [
            "[tensor([[   2,   48,  209,  ...,    0,    0,    0],\n",
            "        [   2, 2170,   14,  ...,    0,    0,    0],\n",
            "        [   2,   13, 1373,  ...,    0,    0,    0],\n",
            "        ...,\n",
            "        [   2,   31, 1905,  ...,    0,    0,    0],\n",
            "        [   2, 1138,   23,  ...,    0,    0,    0],\n",
            "        [   2,  207,   13,  ...,    0,    0,    0]]), tensor([[1., 1., 1.,  ..., 0., 0., 0.],\n",
            "        [1., 1., 1.,  ..., 0., 0., 0.],\n",
            "        [1., 1., 1.,  ..., 0., 0., 0.],\n",
            "        ...,\n",
            "        [1., 1., 1.,  ..., 0., 0., 0.],\n",
            "        [1., 1., 1.,  ..., 0., 0., 0.],\n",
            "        [1., 1., 1.,  ..., 0., 0., 0.]]), tensor([[0, 0, 0,  ..., 0, 0, 0],\n",
            "        [0, 0, 0,  ..., 0, 0, 0],\n",
            "        [0, 0, 0,  ..., 0, 0, 0],\n",
            "        ...,\n",
            "        [0, 0, 0,  ..., 0, 0, 0],\n",
            "        [0, 0, 0,  ..., 0, 0, 0],\n",
            "        [0, 0, 0,  ..., 0, 0, 0]]), tensor([[ 0,  1,  2,  ..., 19, 20, 21],\n",
            "        [ 0,  1,  2,  ..., 19, 20, 21],\n",
            "        [ 0,  1,  2,  ..., 19, 20, 21],\n",
            "        ...,\n",
            "        [ 0,  1,  2,  ..., 19, 20, 21],\n",
            "        [ 0,  1,  2,  ..., 19, 20, 21],\n",
            "        [ 0,  1,  2,  ..., 19, 20, 21]]), tensor([[1],\n",
            "        [1],\n",
            "        [1],\n",
            "        [1],\n",
            "        [1],\n",
            "        [1],\n",
            "        [1],\n",
            "        [1],\n",
            "        [1],\n",
            "        [0],\n",
            "        [0],\n",
            "        [0],\n",
            "        [0],\n",
            "        [0],\n",
            "        [1],\n",
            "        [1],\n",
            "        [1],\n",
            "        [1],\n",
            "        [1],\n",
            "        [1],\n",
            "        [0],\n",
            "        [0],\n",
            "        [0],\n",
            "        [1],\n",
            "        [0],\n",
            "        [1],\n",
            "        [1],\n",
            "        [1],\n",
            "        [0],\n",
            "        [1],\n",
            "        [0],\n",
            "        [1],\n",
            "        [1],\n",
            "        [1],\n",
            "        [1],\n",
            "        [1],\n",
            "        [0],\n",
            "        [1],\n",
            "        [1],\n",
            "        [1],\n",
            "        [1],\n",
            "        [1],\n",
            "        [0],\n",
            "        [1],\n",
            "        [0],\n",
            "        [0],\n",
            "        [0],\n",
            "        [0],\n",
            "        [1],\n",
            "        [1],\n",
            "        [0],\n",
            "        [0],\n",
            "        [1],\n",
            "        [1],\n",
            "        [0],\n",
            "        [1],\n",
            "        [0],\n",
            "        [1],\n",
            "        [1],\n",
            "        [1],\n",
            "        [1],\n",
            "        [1],\n",
            "        [1],\n",
            "        [1],\n",
            "        [1],\n",
            "        [0],\n",
            "        [0],\n",
            "        [0],\n",
            "        [0],\n",
            "        [0],\n",
            "        [1],\n",
            "        [0],\n",
            "        [1],\n",
            "        [0],\n",
            "        [1],\n",
            "        [1],\n",
            "        [1],\n",
            "        [0],\n",
            "        [0],\n",
            "        [1],\n",
            "        [1],\n",
            "        [1],\n",
            "        [1],\n",
            "        [0],\n",
            "        [1],\n",
            "        [0],\n",
            "        [1],\n",
            "        [1],\n",
            "        [1],\n",
            "        [0],\n",
            "        [0],\n",
            "        [0],\n",
            "        [1],\n",
            "        [0],\n",
            "        [1],\n",
            "        [1],\n",
            "        [1],\n",
            "        [1],\n",
            "        [1],\n",
            "        [1],\n",
            "        [0],\n",
            "        [0],\n",
            "        [0],\n",
            "        [0],\n",
            "        [0],\n",
            "        [0],\n",
            "        [1],\n",
            "        [0],\n",
            "        [1],\n",
            "        [0],\n",
            "        [1],\n",
            "        [1],\n",
            "        [1],\n",
            "        [0],\n",
            "        [0],\n",
            "        [0],\n",
            "        [1],\n",
            "        [0],\n",
            "        [0],\n",
            "        [0],\n",
            "        [0],\n",
            "        [1],\n",
            "        [0],\n",
            "        [1],\n",
            "        [0],\n",
            "        [1],\n",
            "        [0],\n",
            "        [0]])]\n"
          ]
        }
      ],
      "source": [
        "# for idx, i in enumerate(train_loader):\n",
        "#     input_ids, attention_mask, token_type_ids, position_ids, labels = i\n",
        "#     print(i)\n",
        "#     if idx == 0:\n",
        "#       break"
      ]
    },
    {
      "cell_type": "code",
      "execution_count": null,
      "metadata": {
        "colab": {
          "base_uri": "https://localhost:8080/",
          "height": 895,
          "referenced_widgets": [
            "a0fb438e88f84a8e94a9f167100bac9c",
            "a5df3095aa34441c91e93b7b2006d0b7",
            "71f8195504e94e94a74eaed1a6943c92",
            "b337ef7b88be4c68923318f3b12d015b",
            "5ee5fac352344d749f6ba1875f8eee0e",
            "d13b153d63f1452daf0d3f5c8cf9f734",
            "35bdcfa8c27b4a1f881e0ee823dcba15",
            "993052ad0b6a4c638d03d55aa9261190",
            "3487dd1aa59940ebb72d1f05083c8fec",
            "dd451b1f7e764fe381e8674c6f497a61",
            "bce28a17ae4d4b5e8cd65e8f986a6af7"
          ]
        },
        "id": "zvFqCaCnrvgW",
        "outputId": "8e8b0d57-7b6b-4ce0-eec4-5edaab8cf087"
      },
      "outputs": [
        {
          "data": {
            "application/vnd.jupyter.widget-view+json": {
              "model_id": "a0fb438e88f84a8e94a9f167100bac9c",
              "version_major": 2,
              "version_minor": 0
            },
            "text/plain": [
              "Downloading:   0%|          | 0.00/47.4M [00:00<?, ?B/s]"
            ]
          },
          "metadata": {},
          "output_type": "display_data"
        },
        {
          "name": "stderr",
          "output_type": "stream",
          "text": [
            "Some weights of the model checkpoint at albert-base-v2 were not used when initializing AlbertForSequenceClassification: ['predictions.decoder.weight', 'predictions.bias', 'predictions.decoder.bias', 'predictions.dense.bias', 'predictions.dense.weight', 'predictions.LayerNorm.bias', 'predictions.LayerNorm.weight']\n",
            "- This IS expected if you are initializing AlbertForSequenceClassification from the checkpoint of a model trained on another task or with another architecture (e.g. initializing a BertForSequenceClassification model from a BertForPreTraining model).\n",
            "- This IS NOT expected if you are initializing AlbertForSequenceClassification from the checkpoint of a model that you expect to be exactly identical (initializing a BertForSequenceClassification model from a BertForSequenceClassification model).\n",
            "Some weights of AlbertForSequenceClassification were not initialized from the model checkpoint at albert-base-v2 and are newly initialized: ['classifier.bias', 'classifier.weight']\n",
            "You should probably TRAIN this model on a down-stream task to be able to use it for predictions and inference.\n"
          ]
        },
        {
          "data": {
            "text/plain": [
              "AlbertForSequenceClassification(\n",
              "  (albert): AlbertModel(\n",
              "    (embeddings): AlbertEmbeddings(\n",
              "      (word_embeddings): Embedding(30000, 128, padding_idx=0)\n",
              "      (position_embeddings): Embedding(512, 128)\n",
              "      (token_type_embeddings): Embedding(2, 128)\n",
              "      (LayerNorm): LayerNorm((128,), eps=1e-12, elementwise_affine=True)\n",
              "      (dropout): Dropout(p=0, inplace=False)\n",
              "    )\n",
              "    (encoder): AlbertTransformer(\n",
              "      (embedding_hidden_mapping_in): Linear(in_features=128, out_features=768, bias=True)\n",
              "      (albert_layer_groups): ModuleList(\n",
              "        (0): AlbertLayerGroup(\n",
              "          (albert_layers): ModuleList(\n",
              "            (0): AlbertLayer(\n",
              "              (full_layer_layer_norm): LayerNorm((768,), eps=1e-12, elementwise_affine=True)\n",
              "              (attention): AlbertAttention(\n",
              "                (query): Linear(in_features=768, out_features=768, bias=True)\n",
              "                (key): Linear(in_features=768, out_features=768, bias=True)\n",
              "                (value): Linear(in_features=768, out_features=768, bias=True)\n",
              "                (attention_dropout): Dropout(p=0, inplace=False)\n",
              "                (output_dropout): Dropout(p=0, inplace=False)\n",
              "                (dense): Linear(in_features=768, out_features=768, bias=True)\n",
              "                (LayerNorm): LayerNorm((768,), eps=1e-12, elementwise_affine=True)\n",
              "              )\n",
              "              (ffn): Linear(in_features=768, out_features=3072, bias=True)\n",
              "              (ffn_output): Linear(in_features=3072, out_features=768, bias=True)\n",
              "              (activation): NewGELUActivation()\n",
              "              (dropout): Dropout(p=0, inplace=False)\n",
              "            )\n",
              "          )\n",
              "        )\n",
              "      )\n",
              "    )\n",
              "    (pooler): Linear(in_features=768, out_features=768, bias=True)\n",
              "    (pooler_activation): Tanh()\n",
              "  )\n",
              "  (dropout): Dropout(p=0.1, inplace=False)\n",
              "  (classifier): Linear(in_features=768, out_features=2, bias=True)\n",
              ")"
            ]
          },
          "execution_count": 12,
          "metadata": {},
          "output_type": "execute_result"
        }
      ],
      "source": [
        "# random seed\n",
        "random_seed=33 # 42 -> 33\n",
        "np.random.seed(random_seed)\n",
        "torch.manual_seed(random_seed)\n",
        "\n",
        "device = torch.device('cuda' if torch.cuda.is_available() else 'cpu')\n",
        "\n",
        "model = AlbertForSequenceClassification.from_pretrained('albert-base-v2')\n",
        "# model = BertForSequenceClassification.from_pretrained('bert-base-uncased')\n",
        "\n",
        "# GPU 에 얹어주는 작업\n",
        "model.to(device)"
      ]
    },
    {
      "cell_type": "code",
      "execution_count": null,
      "metadata": {
        "colab": {
          "base_uri": "https://localhost:8080/"
        },
        "id": "dWwhmyMyrvgW",
        "outputId": "fab4926c-47c6-47cc-dacf-db491de7ce1e"
      },
      "outputs": [
        {
          "name": "stderr",
          "output_type": "stream",
          "text": [
            "/usr/local/lib/python3.7/dist-packages/transformers/optimization.py:310: FutureWarning: This implementation of AdamW is deprecated and will be removed in a future version. Use the PyTorch implementation torch.optim.AdamW instead, or set `no_deprecation_warning=True` to disable this warning\n",
            "  FutureWarning,\n"
          ]
        }
      ],
      "source": [
        "model.train()\n",
        "learning_rate = 5e-5\n",
        "optimizer = AdamW(model.parameters(), lr=learning_rate)"
      ]
    },
    {
      "cell_type": "code",
      "execution_count": null,
      "metadata": {
        "id": "MztU-L83rvgW"
      },
      "outputs": [],
      "source": [
        "def compute_acc(predictions, target_labels):\n",
        "    return (np.array(predictions) == np.array(target_labels)).mean()"
      ]
    },
    {
      "cell_type": "code",
      "execution_count": null,
      "metadata": {
        "colab": {
          "background_save": true,
          "base_uri": "https://localhost:8080/"
        },
        "id": "DuZfvzpGrvgW",
        "outputId": "d19238eb-56b1-4324-a3bc-7a517c7d46cd"
      },
      "outputs": [
        {
          "name": "stderr",
          "output_type": "stream",
          "text": [
            "Epoch 0:  20%|█▉        | 692/3463 [01:57<07:42,  6.00batch/s, loss=0.0767]\n",
            "Eval:   0%|          | 0/16 [00:00<?, ?it/s]\u001b[A\n",
            "Eval:   6%|▋         | 1/16 [00:00<00:03,  4.49it/s]\u001b[A\n",
            "Eval:  12%|█▎        | 2/16 [00:00<00:02,  5.75it/s]\u001b[A\n",
            "Eval:  19%|█▉        | 3/16 [00:00<00:02,  6.41it/s]\u001b[A\n",
            "Eval:  25%|██▌       | 4/16 [00:00<00:01,  6.79it/s]\u001b[A\n",
            "Eval:  31%|███▏      | 5/16 [00:00<00:01,  6.97it/s]\u001b[A\n",
            "Eval:  38%|███▊      | 6/16 [00:00<00:01,  7.03it/s]\u001b[A\n",
            "Eval:  44%|████▍     | 7/16 [00:01<00:01,  7.30it/s]\u001b[A\n",
            "Eval:  50%|█████     | 8/16 [00:01<00:01,  7.48it/s]\u001b[A\n",
            "Eval:  56%|█████▋    | 9/16 [00:01<00:00,  7.53it/s]\u001b[A\n",
            "Eval:  62%|██████▎   | 10/16 [00:01<00:00,  7.05it/s]\u001b[A\n",
            "Eval:  69%|██████▉   | 11/16 [00:01<00:00,  7.18it/s]\u001b[A\n",
            "Eval:  75%|███████▌  | 12/16 [00:01<00:00,  7.21it/s]\u001b[A\n",
            "Eval:  81%|████████▏ | 13/16 [00:01<00:00,  7.25it/s]\u001b[A\n",
            "Eval:  88%|████████▊ | 14/16 [00:02<00:00,  6.86it/s]\u001b[A\n",
            "Eval:  94%|█████████▍| 15/16 [00:02<00:00,  7.04it/s]\u001b[A\n",
            "Epoch 0:  20%|██        | 693/3463 [02:00<41:23,  1.12batch/s, loss=0.0767]"
          ]
        },
        {
          "name": "stdout",
          "output_type": "stream",
          "text": [
            "Acc for model which have lower valid loss:  0.9775 , current loss is 0.06242226355243474 , lowest_valid_loss : 0.06242226355243474\n"
          ]
        },
        {
          "name": "stderr",
          "output_type": "stream",
          "text": [
            "Epoch 0:  40%|███▉      | 1384/3463 [03:57<06:24,  5.41batch/s, loss=0.0125]\n",
            "Eval:   0%|          | 0/16 [00:00<?, ?it/s]\u001b[A\n",
            "Eval:   6%|▋         | 1/16 [00:00<00:03,  4.26it/s]\u001b[A\n",
            "Eval:  12%|█▎        | 2/16 [00:00<00:02,  5.72it/s]\u001b[A\n",
            "Eval:  19%|█▉        | 3/16 [00:00<00:02,  6.38it/s]\u001b[A\n",
            "Eval:  25%|██▌       | 4/16 [00:00<00:01,  6.79it/s]\u001b[A\n",
            "Eval:  31%|███▏      | 5/16 [00:00<00:01,  7.02it/s]\u001b[A\n",
            "Eval:  38%|███▊      | 6/16 [00:00<00:01,  7.09it/s]\u001b[A\n",
            "Eval:  44%|████▍     | 7/16 [00:01<00:01,  7.35it/s]\u001b[A\n",
            "Eval:  50%|█████     | 8/16 [00:01<00:01,  7.54it/s]\u001b[A\n",
            "Eval:  56%|█████▋    | 9/16 [00:01<00:00,  7.56it/s]\u001b[A\n",
            "Eval:  62%|██████▎   | 10/16 [00:01<00:00,  7.10it/s]\u001b[A\n",
            "Eval:  69%|██████▉   | 11/16 [00:01<00:00,  7.23it/s]\u001b[A\n",
            "Eval:  75%|███████▌  | 12/16 [00:01<00:00,  7.28it/s]\u001b[A\n",
            "Eval:  81%|████████▏ | 13/16 [00:01<00:00,  7.27it/s]\u001b[A\n",
            "Eval:  88%|████████▊ | 14/16 [00:02<00:00,  6.81it/s]\u001b[A\n",
            "Eval:  94%|█████████▍| 15/16 [00:02<00:00,  6.96it/s]\u001b[A\n",
            "Epoch 0:  40%|████      | 1386/3463 [04:00<22:56,  1.51batch/s, loss=0.0361]"
          ]
        },
        {
          "name": "stdout",
          "output_type": "stream",
          "text": [
            "Lower than previous accuracy, accuracy is :  0.977 , current loss is 0.06658012693515047\n"
          ]
        },
        {
          "name": "stderr",
          "output_type": "stream",
          "text": [
            "Epoch 0:  60%|█████▉    | 2076/3463 [05:57<03:50,  6.01batch/s, loss=0.0793]\n",
            "Eval:   0%|          | 0/16 [00:00<?, ?it/s]\u001b[A\n",
            "Eval:   6%|▋         | 1/16 [00:00<00:03,  4.48it/s]\u001b[A\n",
            "Eval:  12%|█▎        | 2/16 [00:00<00:02,  5.89it/s]\u001b[A\n",
            "Eval:  19%|█▉        | 3/16 [00:00<00:01,  6.55it/s]\u001b[A\n",
            "Eval:  25%|██▌       | 4/16 [00:00<00:01,  6.94it/s]\u001b[A\n",
            "Eval:  31%|███▏      | 5/16 [00:00<00:01,  7.16it/s]\u001b[A\n",
            "Eval:  38%|███▊      | 6/16 [00:00<00:01,  7.25it/s]\u001b[A\n",
            "Eval:  44%|████▍     | 7/16 [00:01<00:01,  7.45it/s]\u001b[A\n",
            "Eval:  50%|█████     | 8/16 [00:01<00:01,  7.59it/s]\u001b[A\n",
            "Eval:  56%|█████▋    | 9/16 [00:01<00:00,  7.63it/s]\u001b[A\n",
            "Eval:  62%|██████▎   | 10/16 [00:01<00:00,  7.12it/s]\u001b[A\n",
            "Eval:  69%|██████▉   | 11/16 [00:01<00:00,  7.25it/s]\u001b[A\n",
            "Eval:  75%|███████▌  | 12/16 [00:01<00:00,  7.28it/s]\u001b[A\n",
            "Eval:  81%|████████▏ | 13/16 [00:01<00:00,  7.25it/s]\u001b[A\n",
            "Eval:  88%|████████▊ | 14/16 [00:02<00:00,  6.84it/s]\u001b[A\n",
            "Eval:  94%|█████████▍| 15/16 [00:02<00:00,  7.04it/s]\u001b[A\n",
            "Epoch 0:  60%|█████▉    | 2077/3463 [05:59<19:40,  1.17batch/s, loss=0.0719]"
          ]
        },
        {
          "name": "stdout",
          "output_type": "stream",
          "text": [
            "Lower than previous accuracy, accuracy is :  0.968 , current loss is 0.08190078008919954\n"
          ]
        },
        {
          "name": "stderr",
          "output_type": "stream",
          "text": [
            "Epoch 0:  80%|███████▉  | 2768/3463 [07:56<01:58,  5.84batch/s, loss=0.0342]\n",
            "Eval:   0%|          | 0/16 [00:00<?, ?it/s]\u001b[A\n",
            "Eval:   6%|▋         | 1/16 [00:00<00:03,  4.59it/s]\u001b[A\n",
            "Eval:  12%|█▎        | 2/16 [00:00<00:02,  5.95it/s]\u001b[A\n",
            "Eval:  19%|█▉        | 3/16 [00:00<00:01,  6.57it/s]\u001b[A\n",
            "Eval:  25%|██▌       | 4/16 [00:00<00:01,  6.93it/s]\u001b[A\n",
            "Eval:  31%|███▏      | 5/16 [00:00<00:01,  7.07it/s]\u001b[A\n",
            "Eval:  38%|███▊      | 6/16 [00:00<00:01,  7.19it/s]\u001b[A\n",
            "Eval:  44%|████▍     | 7/16 [00:01<00:01,  7.42it/s]\u001b[A\n",
            "Eval:  50%|█████     | 8/16 [00:01<00:01,  7.56it/s]\u001b[A\n",
            "Eval:  56%|█████▋    | 9/16 [00:01<00:00,  7.58it/s]\u001b[A\n",
            "Eval:  62%|██████▎   | 10/16 [00:01<00:00,  7.07it/s]\u001b[A\n",
            "Eval:  69%|██████▉   | 11/16 [00:01<00:00,  7.19it/s]\u001b[A\n",
            "Eval:  75%|███████▌  | 12/16 [00:01<00:00,  7.23it/s]\u001b[A\n",
            "Eval:  81%|████████▏ | 13/16 [00:01<00:00,  7.19it/s]\u001b[A\n",
            "Eval:  88%|████████▊ | 14/16 [00:02<00:00,  6.76it/s]\u001b[A\n",
            "Eval:  94%|█████████▍| 15/16 [00:02<00:00,  6.95it/s]\u001b[A\n",
            "Epoch 0:  80%|███████▉  | 2769/3463 [07:59<10:22,  1.12batch/s, loss=0.0342]"
          ]
        },
        {
          "name": "stdout",
          "output_type": "stream",
          "text": [
            "Acc for model which have lower valid loss:  0.97875 , current loss is 0.057931277668103576 , lowest_valid_loss : 0.057931277668103576\n"
          ]
        },
        {
          "name": "stderr",
          "output_type": "stream",
          "text": [
            "Epoch 0: 100%|█████████▉| 3460/3463 [09:56<00:00,  5.59batch/s, loss=0.0435]\n",
            "Eval:   0%|          | 0/16 [00:00<?, ?it/s]\u001b[A\n",
            "Eval:   6%|▋         | 1/16 [00:00<00:03,  4.54it/s]\u001b[A\n",
            "Eval:  12%|█▎        | 2/16 [00:00<00:02,  5.92it/s]\u001b[A\n",
            "Eval:  19%|█▉        | 3/16 [00:00<00:02,  6.50it/s]\u001b[A\n",
            "Eval:  25%|██▌       | 4/16 [00:00<00:01,  6.91it/s]\u001b[A\n",
            "Eval:  31%|███▏      | 5/16 [00:00<00:01,  7.15it/s]\u001b[A\n",
            "Eval:  38%|███▊      | 6/16 [00:00<00:01,  7.16it/s]\u001b[A\n",
            "Eval:  44%|████▍     | 7/16 [00:01<00:01,  7.37it/s]\u001b[A\n",
            "Eval:  50%|█████     | 8/16 [00:01<00:01,  7.53it/s]\u001b[A\n",
            "Eval:  56%|█████▋    | 9/16 [00:01<00:00,  7.59it/s]\u001b[A\n",
            "Eval:  62%|██████▎   | 10/16 [00:01<00:00,  7.05it/s]\u001b[A\n",
            "Eval:  69%|██████▉   | 11/16 [00:01<00:00,  7.19it/s]\u001b[A\n",
            "Eval:  75%|███████▌  | 12/16 [00:01<00:00,  7.20it/s]\u001b[A\n",
            "Eval:  81%|████████▏ | 13/16 [00:01<00:00,  7.20it/s]\u001b[A\n",
            "Eval:  88%|████████▊ | 14/16 [00:02<00:00,  6.78it/s]\u001b[A\n",
            "Eval:  94%|█████████▍| 15/16 [00:02<00:00,  6.94it/s]\u001b[A\n",
            "Epoch 0: 100%|█████████▉| 3462/3463 [09:58<00:00,  1.52batch/s, loss=0.0216]"
          ]
        },
        {
          "name": "stdout",
          "output_type": "stream",
          "text": [
            "Lower than previous accuracy, accuracy is :  0.97575 , current loss is 0.060932592721655965\n"
          ]
        },
        {
          "name": "stderr",
          "output_type": "stream",
          "text": [
            "Epoch 0: 100%|██████████| 3463/3463 [09:59<00:00,  5.78batch/s, loss=0.0481]\n",
            "Epoch 1:  20%|█▉        | 692/3463 [01:57<08:11,  5.64batch/s, loss=0.0735]\n",
            "Eval:   0%|          | 0/16 [00:00<?, ?it/s]\u001b[A\n",
            "Eval:   6%|▋         | 1/16 [00:00<00:03,  4.19it/s]\u001b[A\n",
            "Eval:  12%|█▎        | 2/16 [00:00<00:02,  5.71it/s]\u001b[A\n",
            "Eval:  19%|█▉        | 3/16 [00:00<00:02,  6.31it/s]\u001b[A\n",
            "Eval:  25%|██▌       | 4/16 [00:00<00:01,  6.81it/s]\u001b[A\n",
            "Eval:  31%|███▏      | 5/16 [00:00<00:01,  7.06it/s]\u001b[A\n",
            "Eval:  38%|███▊      | 6/16 [00:00<00:01,  7.09it/s]\u001b[A\n",
            "Eval:  44%|████▍     | 7/16 [00:01<00:01,  7.33it/s]\u001b[A\n",
            "Eval:  50%|█████     | 8/16 [00:01<00:01,  7.54it/s]\u001b[A\n",
            "Eval:  56%|█████▋    | 9/16 [00:01<00:00,  7.58it/s]\u001b[A\n",
            "Eval:  62%|██████▎   | 10/16 [00:01<00:00,  7.08it/s]\u001b[A\n",
            "Eval:  69%|██████▉   | 11/16 [00:01<00:00,  7.17it/s]\u001b[A\n",
            "Eval:  75%|███████▌  | 12/16 [00:01<00:00,  7.18it/s]\u001b[A\n",
            "Eval:  81%|████████▏ | 13/16 [00:01<00:00,  7.23it/s]\u001b[A\n",
            "Eval:  88%|████████▊ | 14/16 [00:02<00:00,  6.86it/s]\u001b[A\n",
            "Eval:  94%|█████████▍| 15/16 [00:02<00:00,  7.04it/s]\u001b[A\n",
            "Epoch 1:  20%|██        | 694/3463 [01:59<30:15,  1.52batch/s, loss=0.104]"
          ]
        },
        {
          "name": "stdout",
          "output_type": "stream",
          "text": [
            "Lower than previous accuracy, accuracy is :  0.979 , current loss is 0.06464705849066377\n"
          ]
        },
        {
          "name": "stderr",
          "output_type": "stream",
          "text": [
            "Epoch 1:  40%|███▉      | 1384/3463 [03:56<05:32,  6.24batch/s, loss=0.0539]\n",
            "Eval:   0%|          | 0/16 [00:00<?, ?it/s]\u001b[A\n",
            "Eval:   6%|▋         | 1/16 [00:00<00:03,  4.51it/s]\u001b[A\n",
            "Eval:  12%|█▎        | 2/16 [00:00<00:02,  5.75it/s]\u001b[A\n",
            "Eval:  19%|█▉        | 3/16 [00:00<00:02,  6.37it/s]\u001b[A\n",
            "Eval:  25%|██▌       | 4/16 [00:00<00:01,  6.74it/s]\u001b[A\n",
            "Eval:  31%|███▏      | 5/16 [00:00<00:01,  6.99it/s]\u001b[A\n",
            "Eval:  38%|███▊      | 6/16 [00:00<00:01,  7.11it/s]\u001b[A\n",
            "Eval:  44%|████▍     | 7/16 [00:01<00:01,  7.36it/s]\u001b[A\n",
            "Eval:  50%|█████     | 8/16 [00:01<00:01,  7.54it/s]\u001b[A\n",
            "Eval:  56%|█████▋    | 9/16 [00:01<00:00,  7.51it/s]\u001b[A\n",
            "Eval:  62%|██████▎   | 10/16 [00:01<00:00,  7.06it/s]\u001b[A\n",
            "Eval:  69%|██████▉   | 11/16 [00:01<00:00,  7.18it/s]\u001b[A\n",
            "Eval:  75%|███████▌  | 12/16 [00:01<00:00,  7.21it/s]\u001b[A\n",
            "Eval:  81%|████████▏ | 13/16 [00:01<00:00,  7.21it/s]\u001b[A\n",
            "Eval:  88%|████████▊ | 14/16 [00:02<00:00,  6.80it/s]\u001b[A\n",
            "Eval:  94%|█████████▍| 15/16 [00:02<00:00,  7.01it/s]\u001b[A\n",
            "Epoch 1:  40%|████      | 1386/3463 [03:59<22:39,  1.53batch/s, loss=0.0688]"
          ]
        },
        {
          "name": "stdout",
          "output_type": "stream",
          "text": [
            "Lower than previous accuracy, accuracy is :  0.9755 , current loss is 0.07133784180041403\n"
          ]
        },
        {
          "name": "stderr",
          "output_type": "stream",
          "text": [
            "Epoch 1:  60%|█████▉    | 2076/3463 [05:56<03:59,  5.79batch/s, loss=0.0116]\n",
            "Eval:   0%|          | 0/16 [00:00<?, ?it/s]\u001b[A\n",
            "Eval:   6%|▋         | 1/16 [00:00<00:03,  4.33it/s]\u001b[A\n",
            "Eval:  12%|█▎        | 2/16 [00:00<00:02,  5.79it/s]\u001b[A\n",
            "Eval:  19%|█▉        | 3/16 [00:00<00:02,  6.45it/s]\u001b[A\n",
            "Eval:  25%|██▌       | 4/16 [00:00<00:01,  6.89it/s]\u001b[A\n",
            "Eval:  31%|███▏      | 5/16 [00:00<00:01,  7.12it/s]\u001b[A\n",
            "Eval:  38%|███▊      | 6/16 [00:00<00:01,  7.22it/s]\u001b[A\n",
            "Eval:  44%|████▍     | 7/16 [00:01<00:01,  7.44it/s]\u001b[A\n",
            "Eval:  50%|█████     | 8/16 [00:01<00:01,  7.52it/s]\u001b[A\n",
            "Eval:  56%|█████▋    | 9/16 [00:01<00:00,  7.50it/s]\u001b[A\n",
            "Eval:  62%|██████▎   | 10/16 [00:01<00:00,  7.05it/s]\u001b[A\n",
            "Eval:  69%|██████▉   | 11/16 [00:01<00:00,  7.13it/s]\u001b[A\n",
            "Eval:  75%|███████▌  | 12/16 [00:01<00:00,  7.15it/s]\u001b[A\n",
            "Eval:  81%|████████▏ | 13/16 [00:01<00:00,  7.21it/s]\u001b[A\n",
            "Eval:  88%|████████▊ | 14/16 [00:02<00:00,  6.85it/s]\u001b[A\n",
            "Eval:  94%|█████████▍| 15/16 [00:02<00:00,  6.96it/s]\u001b[A\n",
            "Epoch 1:  60%|██████    | 2078/3463 [05:58<15:08,  1.52batch/s, loss=0.0242]"
          ]
        },
        {
          "name": "stdout",
          "output_type": "stream",
          "text": [
            "Lower than previous accuracy, accuracy is :  0.978 , current loss is 0.06003027851693332\n"
          ]
        },
        {
          "name": "stderr",
          "output_type": "stream",
          "text": [
            "Epoch 1:  80%|███████▉  | 2768/3463 [07:56<01:57,  5.90batch/s, loss=0.0151] \n",
            "Eval:   0%|          | 0/16 [00:00<?, ?it/s]\u001b[A\n",
            "Eval:   6%|▋         | 1/16 [00:00<00:03,  4.40it/s]\u001b[A\n",
            "Eval:  12%|█▎        | 2/16 [00:00<00:02,  5.79it/s]\u001b[A\n",
            "Eval:  19%|█▉        | 3/16 [00:00<00:02,  6.44it/s]\u001b[A\n",
            "Eval:  25%|██▌       | 4/16 [00:00<00:01,  6.90it/s]\u001b[A\n",
            "Eval:  31%|███▏      | 5/16 [00:00<00:01,  7.14it/s]\u001b[A\n",
            "Eval:  38%|███▊      | 6/16 [00:00<00:01,  7.22it/s]\u001b[A\n",
            "Eval:  44%|████▍     | 7/16 [00:01<00:01,  7.40it/s]\u001b[A\n",
            "Eval:  50%|█████     | 8/16 [00:01<00:01,  7.44it/s]\u001b[A\n",
            "Eval:  56%|█████▋    | 9/16 [00:01<00:00,  7.49it/s]\u001b[A\n",
            "Eval:  62%|██████▎   | 10/16 [00:01<00:00,  7.03it/s]\u001b[A\n",
            "Eval:  69%|██████▉   | 11/16 [00:01<00:00,  7.09it/s]\u001b[A\n",
            "Eval:  75%|███████▌  | 12/16 [00:01<00:00,  7.09it/s]\u001b[A\n",
            "Eval:  81%|████████▏ | 13/16 [00:01<00:00,  7.09it/s]\u001b[A\n",
            "Eval:  88%|████████▊ | 14/16 [00:02<00:00,  6.73it/s]\u001b[A\n",
            "Eval:  94%|█████████▍| 15/16 [00:02<00:00,  6.94it/s]\u001b[A\n",
            "Epoch 1:  80%|███████▉  | 2770/3463 [07:58<07:32,  1.53batch/s, loss=0.037]"
          ]
        },
        {
          "name": "stdout",
          "output_type": "stream",
          "text": [
            "Lower than previous accuracy, accuracy is :  0.9795 , current loss is 0.06021966290427372\n"
          ]
        },
        {
          "name": "stderr",
          "output_type": "stream",
          "text": [
            "Epoch 1: 100%|█████████▉| 3460/3463 [09:55<00:00,  5.65batch/s, loss=0.0781]\n",
            "Eval:   0%|          | 0/16 [00:00<?, ?it/s]\u001b[A\n",
            "Eval:   6%|▋         | 1/16 [00:00<00:03,  4.59it/s]\u001b[A\n",
            "Eval:  12%|█▎        | 2/16 [00:00<00:02,  5.99it/s]\u001b[A\n",
            "Eval:  19%|█▉        | 3/16 [00:00<00:01,  6.61it/s]\u001b[A\n",
            "Eval:  25%|██▌       | 4/16 [00:00<00:01,  6.96it/s]\u001b[A\n",
            "Eval:  31%|███▏      | 5/16 [00:00<00:01,  7.16it/s]\u001b[A\n",
            "Eval:  38%|███▊      | 6/16 [00:00<00:01,  7.22it/s]\u001b[A\n",
            "Eval:  44%|████▍     | 7/16 [00:01<00:01,  7.45it/s]\u001b[A\n",
            "Eval:  50%|█████     | 8/16 [00:01<00:01,  7.51it/s]\u001b[A\n",
            "Eval:  56%|█████▋    | 9/16 [00:01<00:00,  7.55it/s]\u001b[A\n",
            "Eval:  62%|██████▎   | 10/16 [00:01<00:00,  7.06it/s]\u001b[A\n",
            "Eval:  69%|██████▉   | 11/16 [00:01<00:00,  7.13it/s]\u001b[A\n",
            "Eval:  75%|███████▌  | 12/16 [00:01<00:00,  7.13it/s]\u001b[A\n",
            "Eval:  81%|████████▏ | 13/16 [00:01<00:00,  7.19it/s]\u001b[A\n",
            "Eval:  88%|████████▊ | 14/16 [00:02<00:00,  6.78it/s]\u001b[A\n",
            "Eval:  94%|█████████▍| 15/16 [00:02<00:00,  6.96it/s]\u001b[A\n",
            "Epoch 1: 100%|█████████▉| 3462/3463 [09:58<00:00,  1.53batch/s, loss=0.139]"
          ]
        },
        {
          "name": "stdout",
          "output_type": "stream",
          "text": [
            "Lower than previous accuracy, accuracy is :  0.97075 , current loss is 0.08041687426157296\n"
          ]
        },
        {
          "name": "stderr",
          "output_type": "stream",
          "text": [
            "Epoch 1: 100%|██████████| 3463/3463 [09:58<00:00,  5.79batch/s, loss=0.0482]\n",
            "Epoch 2:  20%|█▉        | 692/3463 [01:57<07:43,  5.98batch/s, loss=0.0444]\n",
            "Eval:   0%|          | 0/16 [00:00<?, ?it/s]\u001b[A\n",
            "Eval:   6%|▋         | 1/16 [00:00<00:03,  4.44it/s]\u001b[A\n",
            "Eval:  12%|█▎        | 2/16 [00:00<00:02,  5.74it/s]\u001b[A\n",
            "Eval:  19%|█▉        | 3/16 [00:00<00:02,  6.41it/s]\u001b[A\n",
            "Eval:  25%|██▌       | 4/16 [00:00<00:01,  6.78it/s]\u001b[A\n",
            "Eval:  31%|███▏      | 5/16 [00:00<00:01,  7.03it/s]\u001b[A\n",
            "Eval:  38%|███▊      | 6/16 [00:00<00:01,  7.08it/s]\u001b[A\n",
            "Eval:  44%|████▍     | 7/16 [00:01<00:01,  7.33it/s]\u001b[A\n",
            "Eval:  50%|█████     | 8/16 [00:01<00:01,  7.50it/s]\u001b[A\n",
            "Eval:  56%|█████▋    | 9/16 [00:01<00:00,  7.47it/s]\u001b[A\n",
            "Eval:  62%|██████▎   | 10/16 [00:01<00:00,  7.02it/s]\u001b[A\n",
            "Eval:  69%|██████▉   | 11/16 [00:01<00:00,  7.08it/s]\u001b[A\n",
            "Eval:  75%|███████▌  | 12/16 [00:01<00:00,  7.10it/s]\u001b[A\n",
            "Eval:  81%|████████▏ | 13/16 [00:01<00:00,  7.18it/s]\u001b[A\n",
            "Eval:  88%|████████▊ | 14/16 [00:02<00:00,  6.82it/s]\u001b[A\n",
            "Eval:  94%|█████████▍| 15/16 [00:02<00:00,  7.01it/s]\u001b[A\n",
            "Epoch 2:  20%|██        | 694/3463 [02:00<30:08,  1.53batch/s, loss=0.0233]"
          ]
        },
        {
          "name": "stdout",
          "output_type": "stream",
          "text": [
            "Lower than previous accuracy, accuracy is :  0.97425 , current loss is 0.06766957091167569\n"
          ]
        },
        {
          "name": "stderr",
          "output_type": "stream",
          "text": [
            "Epoch 2:  40%|███▉      | 1384/3463 [03:57<06:00,  5.76batch/s, loss=0.0129]\n",
            "Eval:   0%|          | 0/16 [00:00<?, ?it/s]\u001b[A\n",
            "Eval:   6%|▋         | 1/16 [00:00<00:03,  4.36it/s]\u001b[A\n",
            "Eval:  12%|█▎        | 2/16 [00:00<00:02,  5.88it/s]\u001b[A\n",
            "Eval:  19%|█▉        | 3/16 [00:00<00:01,  6.52it/s]\u001b[A\n",
            "Eval:  25%|██▌       | 4/16 [00:00<00:01,  6.92it/s]\u001b[A\n",
            "Eval:  31%|███▏      | 5/16 [00:00<00:01,  7.15it/s]\u001b[A\n",
            "Eval:  38%|███▊      | 6/16 [00:00<00:01,  7.22it/s]\u001b[A\n",
            "Eval:  44%|████▍     | 7/16 [00:01<00:01,  7.46it/s]\u001b[A\n",
            "Eval:  50%|█████     | 8/16 [00:01<00:01,  7.62it/s]\u001b[A\n",
            "Eval:  56%|█████▋    | 9/16 [00:01<00:00,  7.64it/s]\u001b[A\n",
            "Eval:  62%|██████▎   | 10/16 [00:01<00:00,  7.14it/s]\u001b[A\n",
            "Eval:  69%|██████▉   | 11/16 [00:01<00:00,  7.25it/s]\u001b[A\n",
            "Eval:  75%|███████▌  | 12/16 [00:01<00:00,  7.26it/s]\u001b[A\n",
            "Eval:  81%|████████▏ | 13/16 [00:01<00:00,  7.29it/s]\u001b[A\n",
            "Eval:  88%|████████▊ | 14/16 [00:02<00:00,  6.89it/s]\u001b[A\n",
            "Eval:  94%|█████████▍| 15/16 [00:02<00:00,  7.09it/s]\u001b[A\n",
            "Epoch 2:  40%|████      | 1386/3463 [03:59<22:35,  1.53batch/s, loss=0.0181]"
          ]
        },
        {
          "name": "stdout",
          "output_type": "stream",
          "text": [
            "Lower than previous accuracy, accuracy is :  0.97575 , current loss is 0.06255476688966155\n"
          ]
        },
        {
          "name": "stderr",
          "output_type": "stream",
          "text": [
            "Epoch 2:  60%|█████▉    | 2076/3463 [05:56<03:55,  5.90batch/s, loss=0.0565]\n",
            "Eval:   0%|          | 0/16 [00:00<?, ?it/s]\u001b[A\n",
            "Eval:   6%|▋         | 1/16 [00:00<00:03,  3.99it/s]\u001b[A\n",
            "Eval:  12%|█▎        | 2/16 [00:00<00:02,  5.55it/s]\u001b[A\n",
            "Eval:  19%|█▉        | 3/16 [00:00<00:02,  6.27it/s]\u001b[A\n",
            "Eval:  25%|██▌       | 4/16 [00:00<00:01,  6.78it/s]\u001b[A\n",
            "Eval:  31%|███▏      | 5/16 [00:00<00:01,  7.06it/s]\u001b[A\n",
            "Eval:  38%|███▊      | 6/16 [00:00<00:01,  7.17it/s]\u001b[A\n",
            "Eval:  44%|████▍     | 7/16 [00:01<00:01,  7.39it/s]\u001b[A\n",
            "Eval:  50%|█████     | 8/16 [00:01<00:01,  7.47it/s]\u001b[A\n",
            "Eval:  56%|█████▋    | 9/16 [00:01<00:00,  7.55it/s]\u001b[A\n",
            "Eval:  62%|██████▎   | 10/16 [00:01<00:00,  7.08it/s]\u001b[A\n",
            "Eval:  69%|██████▉   | 11/16 [00:01<00:00,  7.21it/s]\u001b[A\n",
            "Eval:  75%|███████▌  | 12/16 [00:01<00:00,  7.28it/s]\u001b[A\n",
            "Eval:  81%|████████▏ | 13/16 [00:01<00:00,  7.33it/s]\u001b[A\n",
            "Eval:  88%|████████▊ | 14/16 [00:02<00:00,  6.93it/s]\u001b[A\n",
            "Eval:  94%|█████████▍| 15/16 [00:02<00:00,  7.03it/s]\u001b[A\n",
            "Epoch 2:  60%|██████    | 2078/3463 [05:58<14:57,  1.54batch/s, loss=0.0445]"
          ]
        },
        {
          "name": "stdout",
          "output_type": "stream",
          "text": [
            "Lower than previous accuracy, accuracy is :  0.97825 , current loss is 0.06794207583880052\n"
          ]
        },
        {
          "name": "stderr",
          "output_type": "stream",
          "text": [
            "Epoch 2:  80%|███████▉  | 2768/3463 [07:56<01:58,  5.86batch/s, loss=0.0194]\n",
            "Eval:   0%|          | 0/16 [00:00<?, ?it/s]\u001b[A\n",
            "Eval:   6%|▋         | 1/16 [00:00<00:03,  4.54it/s]\u001b[A\n",
            "Eval:  12%|█▎        | 2/16 [00:00<00:02,  5.95it/s]\u001b[A\n",
            "Eval:  19%|█▉        | 3/16 [00:00<00:01,  6.60it/s]\u001b[A\n",
            "Eval:  25%|██▌       | 4/16 [00:00<00:01,  6.97it/s]\u001b[A\n",
            "Eval:  31%|███▏      | 5/16 [00:00<00:01,  7.19it/s]\u001b[A\n",
            "Eval:  38%|███▊      | 6/16 [00:00<00:01,  7.25it/s]\u001b[A\n",
            "Eval:  44%|████▍     | 7/16 [00:01<00:01,  7.46it/s]\u001b[A\n",
            "Eval:  50%|█████     | 8/16 [00:01<00:01,  7.54it/s]\u001b[A\n",
            "Eval:  56%|█████▋    | 9/16 [00:01<00:00,  7.60it/s]\u001b[A\n",
            "Eval:  62%|██████▎   | 10/16 [00:01<00:00,  7.11it/s]\u001b[A\n",
            "Eval:  69%|██████▉   | 11/16 [00:01<00:00,  7.24it/s]\u001b[A\n",
            "Eval:  75%|███████▌  | 12/16 [00:01<00:00,  7.28it/s]\u001b[A\n",
            "Eval:  81%|████████▏ | 13/16 [00:01<00:00,  7.30it/s]\u001b[A\n",
            "Eval:  88%|████████▊ | 14/16 [00:01<00:00,  6.91it/s]\u001b[A\n",
            "Eval:  94%|█████████▍| 15/16 [00:02<00:00,  7.04it/s]\u001b[A\n",
            "Epoch 2:  80%|███████▉  | 2770/3463 [07:58<07:29,  1.54batch/s, loss=0.0543]"
          ]
        },
        {
          "name": "stdout",
          "output_type": "stream",
          "text": [
            "Lower than previous accuracy, accuracy is :  0.97825 , current loss is 0.060896553099155426\n"
          ]
        },
        {
          "name": "stderr",
          "output_type": "stream",
          "text": [
            "Epoch 2: 100%|█████████▉| 3460/3463 [09:55<00:00,  5.23batch/s, loss=0.0983]\n",
            "Eval:   0%|          | 0/16 [00:00<?, ?it/s]\u001b[A\n",
            "Eval:   6%|▋         | 1/16 [00:00<00:03,  4.57it/s]\u001b[A\n",
            "Eval:  12%|█▎        | 2/16 [00:00<00:02,  5.93it/s]\u001b[A\n",
            "Eval:  19%|█▉        | 3/16 [00:00<00:01,  6.55it/s]\u001b[A\n",
            "Eval:  25%|██▌       | 4/16 [00:00<00:01,  6.91it/s]\u001b[A\n",
            "Eval:  31%|███▏      | 5/16 [00:00<00:01,  7.05it/s]\u001b[A\n",
            "Eval:  38%|███▊      | 6/16 [00:00<00:01,  7.10it/s]\u001b[A\n",
            "Eval:  44%|████▍     | 7/16 [00:01<00:01,  7.39it/s]\u001b[A\n",
            "Eval:  50%|█████     | 8/16 [00:01<00:01,  7.48it/s]\u001b[A\n",
            "Eval:  56%|█████▋    | 9/16 [00:01<00:00,  7.54it/s]\u001b[A\n",
            "Eval:  62%|██████▎   | 10/16 [00:01<00:00,  7.07it/s]\u001b[A\n",
            "Eval:  69%|██████▉   | 11/16 [00:01<00:00,  7.21it/s]\u001b[A\n",
            "Eval:  75%|███████▌  | 12/16 [00:01<00:00,  7.19it/s]\u001b[A\n",
            "Eval:  81%|████████▏ | 13/16 [00:01<00:00,  7.26it/s]\u001b[A\n",
            "Eval:  88%|████████▊ | 14/16 [00:02<00:00,  6.87it/s]\u001b[A\n",
            "Eval:  94%|█████████▍| 15/16 [00:02<00:00,  7.05it/s]\u001b[A\n",
            "Epoch 2: 100%|█████████▉| 3462/3463 [09:58<00:00,  1.51batch/s, loss=0.00831]"
          ]
        },
        {
          "name": "stdout",
          "output_type": "stream",
          "text": [
            "Lower than previous accuracy, accuracy is :  0.97725 , current loss is 0.062197313411161304\n"
          ]
        },
        {
          "name": "stderr",
          "output_type": "stream",
          "text": [
            "Epoch 2: 100%|██████████| 3463/3463 [09:58<00:00,  5.79batch/s, loss=0.0509]\n"
          ]
        }
      ],
      "source": [
        "train_epoch = 3\n",
        "lowest_valid_loss = 9999.\n",
        "\n",
        "# early stopping\n",
        "patience_limit = 2\n",
        "patience_check = 0\n",
        "\n",
        "\n",
        "for epoch in range(train_epoch):\n",
        "\n",
        "    # tqdm 은 Bar 형태로 학습량을 알려주는 module.\n",
        "    with tqdm(train_loader, unit=\"batch\") as tepoch:\n",
        "\n",
        "\n",
        "        for iteration, (input_ids, attention_mask, token_type_ids, position_ids, labels) in enumerate(tepoch):\n",
        "            tepoch.set_description(f\"Epoch {epoch}\")\n",
        "\n",
        "            # 모든 데이터를 GPU 로 옮겨줌.\n",
        "            input_ids = input_ids.to(device)\n",
        "            attention_mask = attention_mask.to(device)\n",
        "            token_type_ids = token_type_ids.to(device)\n",
        "            position_ids = position_ids.to(device)\n",
        "            labels = labels.to(device, dtype=torch.long)\n",
        "\n",
        "            optimizer.zero_grad()\n",
        "\n",
        "            # forward-propagation 연산 진행\n",
        "            output = model(input_ids=input_ids,\n",
        "                           attention_mask=attention_mask,\n",
        "                           token_type_ids=token_type_ids,\n",
        "                           position_ids=position_ids,\n",
        "                           labels=labels)\n",
        "\n",
        "            loss = output.loss\n",
        "\n",
        "            # back-propagation 연산\n",
        "            loss.backward()\n",
        "\n",
        "            # 가중치 update\n",
        "            optimizer.step()  \n",
        "\n",
        "            # tqdm 에서 loss 를 출력하기 위해 loss 를 넣어줌.\n",
        "            tepoch.set_postfix(loss=loss.item())\n",
        "\n",
        "\n",
        "            # int(len(train_loader) / 5) == 0 마다 validation set 으로 evaluate.\n",
        "            if iteration != 0 and iteration % int(len(train_loader) / 5) == 0:\n",
        "                # Evaluate the model five times per epoch\n",
        "                with torch.no_grad():\n",
        "                    model.eval()\n",
        "                    valid_losses = []\n",
        "                    predictions = []\n",
        "                    target_labels = []\n",
        "                    for input_ids, attention_mask, token_type_ids, position_ids, labels in tqdm(dev_loader,\n",
        "                                                                                                desc='Eval',\n",
        "                                                                                                position=1,\n",
        "                                                                                                leave=None):\n",
        "                        input_ids = input_ids.to(device)\n",
        "                        attention_mask = attention_mask.to(device)\n",
        "                        token_type_ids = token_type_ids.to(device)\n",
        "                        position_ids = position_ids.to(device)\n",
        "                        labels = labels.to(device, dtype=torch.long)\n",
        "\n",
        "                        output = model(input_ids=input_ids,\n",
        "                                       attention_mask=attention_mask,\n",
        "                                       token_type_ids=token_type_ids,\n",
        "                                       position_ids=position_ids,\n",
        "                                       labels=labels)\n",
        "\n",
        "                        # logits : tensor([[ 2.0392, -1.4302], [-1.1802,  2.7419], ...])\n",
        "                        logits = output.logits\n",
        "\n",
        "                        # loss :  tensor(0.1518, device='cuda:0', grad_fn=<NllLossBackward0>)\n",
        "                        loss = output.loss\n",
        "                        valid_losses.append(loss.item())\n",
        "\n",
        "                        batch_predictions = [0 if example[0] > example[1] else 1 for example in logits]\n",
        "                        batch_labels = [int(example) for example in labels]\n",
        "\n",
        "                        predictions += batch_predictions\n",
        "                        target_labels += batch_labels\n",
        "\n",
        "\n",
        "                # valid_losses : [0.07377569377422333, 0.0990561693906784, ..., 0.02395477145910263], len == 16\n",
        "                # predictions :  [0, 0, 0, ..., 0] , len == 4000\n",
        "                # target_labels : [1, 1, 1, ..., 0] , len == 4000\n",
        "                # np.array(predictions) == np.array(target_labels) : [ True ...  True  True  True]\n",
        "                # (np.array(predictions) == np.array(target_labels)).mean() : 0.9705\n",
        "\n",
        "                acc = compute_acc(predictions, target_labels)\n",
        "                valid_loss = sum(valid_losses) / len(valid_losses)\n",
        "                if lowest_valid_loss > valid_loss:\n",
        "                    lowest_valid_loss = valid_loss\n",
        "                    print('Acc for model which have lower valid loss: ', acc, ', current loss is', valid_loss, ', lowest_valid_loss :', lowest_valid_loss)\n",
        "                    torch.save(model.state_dict(), \"./pytorch_model.bin\")\n",
        "\n",
        "                # early stopping 코드 추가\n",
        "                    patience_check = 0\n",
        "                else:\n",
        "                    print('Lower than previous accuracy, accuracy is : ', acc, ', current loss is', valid_loss)\n",
        "                    patience_limit += 1\n",
        "                    if patience_check >= patience_limit: # early stopping 조건 만족 시 조기 종료\n",
        "                        print('Ended training for bigger patience_check than limit')\n",
        "                        break\n"
      ]
    },
    {
      "cell_type": "code",
      "execution_count": null,
      "metadata": {
        "id": "P95gtlnurvgX"
      },
      "outputs": [],
      "source": [
        "import pandas as pd\n",
        "test_df = pd.read_csv('test_no_label.csv')"
      ]
    },
    {
      "cell_type": "code",
      "execution_count": null,
      "metadata": {
        "id": "cLDzC10ErvgX"
      },
      "outputs": [],
      "source": [
        "test_dataset = test_df['Id']"
      ]
    },
    {
      "cell_type": "code",
      "execution_count": null,
      "metadata": {
        "id": "jnt693N0rvgX"
      },
      "outputs": [],
      "source": [
        "def make_id_file_test(tokenizer, test_dataset):\n",
        "    data_strings = []\n",
        "    id_file_data = [tokenizer.encode(sent.lower()) for sent in test_dataset]\n",
        "    for item in id_file_data:\n",
        "        data_strings.append(' '.join([str(k) for k in item]))\n",
        "    return data_strings"
      ]
    },
    {
      "cell_type": "code",
      "execution_count": null,
      "metadata": {
        "id": "7C5PpXtlrvgY"
      },
      "outputs": [],
      "source": [
        "test = make_id_file_test(tokenizer, test_dataset)"
      ]
    },
    {
      "cell_type": "code",
      "execution_count": null,
      "metadata": {
        "colab": {
          "base_uri": "https://localhost:8080/"
        },
        "id": "1aqse7SHrvgY",
        "outputId": "a3580541-865c-4b1a-a22f-7cd0c0e53a31"
      },
      "outputs": [
        {
          "data": {
            "text/plain": [
              "['2 32 13 22 18 21 979 78 1496 17 78 11974 18 206 85 42 162 13 9 3',\n",
              " '2 86 17841 37 40 315 3839 13 9 3',\n",
              " '2 32 25 14 127 14351 7804 19 14 1152 13 9 3',\n",
              " '2 107 52 1676 21 9140 29 158 148 13 9 3',\n",
              " '2 31 23 4741 17 39 117 55 583 86 5733 17 5575 13 9 3',\n",
              " '2 14 104 584 95 420 30 23 1047 23 14 2364 13 9 3',\n",
              " '2 90 13 15 52 14 53 18 35 28 291 13 15 14 53 18 19 1630 183 13 9 3',\n",
              " '2 59 1499 32 70 431 26 42 17 50 253 15600 13 9 3',\n",
              " '2 3123 14 13533 144 13 103 22 38 166 143 184 20 170 14 1428 13 9 3',\n",
              " '2 59 57 40 5977 3155 16 22621 18 20 3538 37 13 9 3']"
            ]
          },
          "execution_count": 21,
          "metadata": {},
          "output_type": "execute_result"
        }
      ],
      "source": [
        "test[:10]"
      ]
    },
    {
      "cell_type": "code",
      "execution_count": null,
      "metadata": {
        "id": "cZi14gnnrvgY"
      },
      "outputs": [],
      "source": [
        "class SentimentTestDataset(object):\n",
        "    def __init__(self, tokenizer, test):\n",
        "        self.tokenizer = tokenizer\n",
        "        self.data = []\n",
        "\n",
        "        for sent in test:\n",
        "            self.data += [self._cast_to_int(sent.strip().split())]\n",
        "\n",
        "    def _cast_to_int(self, sample):\n",
        "        return [int(word_id) for word_id in sample]\n",
        "\n",
        "    def __len__(self):\n",
        "        return len(self.data)\n",
        "\n",
        "    def __getitem__(self, index):\n",
        "        sample = self.data[index]\n",
        "        return np.array(sample)"
      ]
    },
    {
      "cell_type": "code",
      "execution_count": null,
      "metadata": {
        "id": "erHjGE9rrvgY"
      },
      "outputs": [],
      "source": [
        "test_dataset = SentimentTestDataset(tokenizer, test)"
      ]
    },
    {
      "cell_type": "code",
      "execution_count": null,
      "metadata": {
        "id": "y03-nDX9rvgZ"
      },
      "outputs": [],
      "source": [
        "def collate_fn_style_test(samples):\n",
        "    input_ids = samples\n",
        "    max_len = max(len(input_id) for input_id in input_ids)\n",
        "\n",
        "    # 버그.\n",
        "    # smaples 가 input id 만 가지고 있음. trainset 은 input_ids 와 labels 둘 다 가졌음. test_dataset 은 labels 이 없음.\n",
        "    # input 의 순서를 바꿔주면 kaggle 에 내가 모르는 labels set 과 순서가 얻 바뀌게 된다.\n",
        "    # sorted_indices = np.argsort([len(input_id) for input_id in input_ids])[::-1]\n",
        "    sorted_indices = range(len(input_ids))\n",
        "\n",
        "    input_ids = pad_sequence([torch.tensor(input_ids[index]) for index in sorted_indices],\n",
        "                             batch_first=True)\n",
        "    # attention_mask = torch.tensor(\n",
        "    #     [[1] * len(input_ids[index]) + [0] * (max_len - len(input_ids[index])) for index in\n",
        "    #      sorted_indices])\n",
        "\n",
        "    attention_mask = []\n",
        "    for seq in input_ids:\n",
        "        seq_mask = [float(i>0) for i in seq]\n",
        "        attention_mask.append(seq_mask)\n",
        "    attention_mask = torch.tensor(attention_mask)\n",
        "\n",
        "    token_type_ids = torch.tensor([[0] * len(input_ids[index]) for index in sorted_indices])\n",
        "    position_ids = torch.tensor([list(range(len(input_ids[index]))) for index in sorted_indices])\n",
        "\n",
        "    return input_ids, attention_mask, token_type_ids, position_ids"
      ]
    },
    {
      "cell_type": "code",
      "execution_count": null,
      "metadata": {
        "id": "gZ0l1HparvgZ"
      },
      "outputs": [],
      "source": [
        "test_batch_size = 32\n",
        "test_loader = torch.utils.data.DataLoader(test_dataset, batch_size=test_batch_size,\n",
        "                                          shuffle=False, collate_fn=collate_fn_style_test,\n",
        "                                          num_workers=2)"
      ]
    },
    {
      "cell_type": "code",
      "execution_count": null,
      "metadata": {
        "colab": {
          "base_uri": "https://localhost:8080/"
        },
        "id": "XoSHTbJUrvgZ",
        "outputId": "9c7d3a13-82cd-4822-ce51-67e0e33a916d"
      },
      "outputs": [
        {
          "name": "stderr",
          "output_type": "stream",
          "text": [
            "\n",
            "Test:   0%|          | 0/32 [00:00<?, ?it/s]\u001b[A\n",
            "Test:   3%|▎         | 1/32 [00:00<00:03,  9.20it/s]\u001b[A\n",
            "Test:  19%|█▉        | 6/32 [00:00<00:00, 29.91it/s]\u001b[A\n",
            "Test:  34%|███▍      | 11/32 [00:00<00:00, 36.96it/s]\u001b[A\n",
            "Test:  53%|█████▎    | 17/32 [00:00<00:00, 42.48it/s]\u001b[A\n",
            "Test:  69%|██████▉   | 22/32 [00:00<00:00, 44.44it/s]\u001b[A\n",
            "Test:  88%|████████▊ | 28/32 [00:00<00:00, 46.60it/s]\u001b[A\n",
            "                                                     \u001b[A"
          ]
        }
      ],
      "source": [
        "with torch.no_grad():\n",
        "    model.eval()\n",
        "    predictions = []\n",
        "    for input_ids, attention_mask, token_type_ids, position_ids in tqdm(test_loader,\n",
        "                                                                        desc='Test',\n",
        "                                                                        position=1,\n",
        "                                                                        leave=None):\n",
        "\n",
        "        input_ids = input_ids.to(device)\n",
        "        attention_mask = attention_mask.to(device)\n",
        "        token_type_ids = token_type_ids.to(device)\n",
        "        position_ids = position_ids.to(device)\n",
        "\n",
        "        output = model(input_ids=input_ids,\n",
        "                       attention_mask=attention_mask,\n",
        "                       token_type_ids=token_type_ids,\n",
        "                       position_ids=position_ids)\n",
        "\n",
        "        logits = output.logits\n",
        "        batch_predictions = [0 if example[0] > example[1] else 1 for example in logits]\n",
        "        predictions += batch_predictions"
      ]
    },
    {
      "cell_type": "code",
      "execution_count": null,
      "metadata": {
        "id": "tGO3aS-VrvgZ"
      },
      "outputs": [],
      "source": [
        "test_df['Category'] = predictions"
      ]
    },
    {
      "cell_type": "code",
      "execution_count": null,
      "metadata": {
        "id": "VndXxal3rvgZ"
      },
      "outputs": [],
      "source": [
        "test_df.to_csv('submission2.csv', index=False)"
      ]
    },
    {
      "cell_type": "markdown",
      "metadata": {
        "id": "UOKGZyyAGcxx"
      },
      "source": [
        "# 새 섹션"
      ]
    }
  ],
  "metadata": {
    "accelerator": "GPU",
    "colab": {
      "background_execution": "on",
      "collapsed_sections": [],
      "machine_shape": "hm",
      "provenance": []
    },
    "kernelspec": {
      "display_name": "Python 3",
      "language": "python",
      "name": "python3"
    },
    "language_info": {
      "codemirror_mode": {
        "name": "ipython",
        "version": 3
      },
      "file_extension": ".py",
      "mimetype": "text/x-python",
      "name": "python",
      "nbconvert_exporter": "python",
      "pygments_lexer": "ipython3",
      "version": "3.6.4"
    },
    "widgets": {
      "application/vnd.jupyter.widget-state+json": {
        "07063e2eed374b6f8010c761d0ed8d09": {
          "model_module": "@jupyter-widgets/base",
          "model_module_version": "1.2.0",
          "model_name": "LayoutModel",
          "state": {
            "_model_module": "@jupyter-widgets/base",
            "_model_module_version": "1.2.0",
            "_model_name": "LayoutModel",
            "_view_count": null,
            "_view_module": "@jupyter-widgets/base",
            "_view_module_version": "1.2.0",
            "_view_name": "LayoutView",
            "align_content": null,
            "align_items": null,
            "align_self": null,
            "border": null,
            "bottom": null,
            "display": null,
            "flex": null,
            "flex_flow": null,
            "grid_area": null,
            "grid_auto_columns": null,
            "grid_auto_flow": null,
            "grid_auto_rows": null,
            "grid_column": null,
            "grid_gap": null,
            "grid_row": null,
            "grid_template_areas": null,
            "grid_template_columns": null,
            "grid_template_rows": null,
            "height": null,
            "justify_content": null,
            "justify_items": null,
            "left": null,
            "margin": null,
            "max_height": null,
            "max_width": null,
            "min_height": null,
            "min_width": null,
            "object_fit": null,
            "object_position": null,
            "order": null,
            "overflow": null,
            "overflow_x": null,
            "overflow_y": null,
            "padding": null,
            "right": null,
            "top": null,
            "visibility": null,
            "width": null
          }
        },
        "12ca81c652d04a2b884665e11a09367d": {
          "model_module": "@jupyter-widgets/controls",
          "model_module_version": "1.5.0",
          "model_name": "HTMLModel",
          "state": {
            "_dom_classes": [],
            "_model_module": "@jupyter-widgets/controls",
            "_model_module_version": "1.5.0",
            "_model_name": "HTMLModel",
            "_view_count": null,
            "_view_module": "@jupyter-widgets/controls",
            "_view_module_version": "1.5.0",
            "_view_name": "HTMLView",
            "description": "",
            "description_tooltip": null,
            "layout": "IPY_MODEL_a2a9ffb1d0e64fe094d5cf8c66233258",
            "placeholder": "​",
            "style": "IPY_MODEL_655eb21fd1bf419982d65fdf83a9ed98",
            "value": " 760k/760k [00:00&lt;00:00, 567kB/s]"
          }
        },
        "2218c764cab04e4aa9e3e9bbbe052fc6": {
          "model_module": "@jupyter-widgets/controls",
          "model_module_version": "1.5.0",
          "model_name": "DescriptionStyleModel",
          "state": {
            "_model_module": "@jupyter-widgets/controls",
            "_model_module_version": "1.5.0",
            "_model_name": "DescriptionStyleModel",
            "_view_count": null,
            "_view_module": "@jupyter-widgets/base",
            "_view_module_version": "1.2.0",
            "_view_name": "StyleView",
            "description_width": ""
          }
        },
        "2f216368c0804fdfb9739623a322d265": {
          "model_module": "@jupyter-widgets/controls",
          "model_module_version": "1.5.0",
          "model_name": "HTMLModel",
          "state": {
            "_dom_classes": [],
            "_model_module": "@jupyter-widgets/controls",
            "_model_module_version": "1.5.0",
            "_model_name": "HTMLModel",
            "_view_count": null,
            "_view_module": "@jupyter-widgets/controls",
            "_view_module_version": "1.5.0",
            "_view_name": "HTMLView",
            "description": "",
            "description_tooltip": null,
            "layout": "IPY_MODEL_ec0d2cfbfedc42b4be45406b091149c3",
            "placeholder": "​",
            "style": "IPY_MODEL_37b2c4dfd19349ddad97d0db9e316b8a",
            "value": "Downloading: 100%"
          }
        },
        "3487dd1aa59940ebb72d1f05083c8fec": {
          "model_module": "@jupyter-widgets/controls",
          "model_module_version": "1.5.0",
          "model_name": "ProgressStyleModel",
          "state": {
            "_model_module": "@jupyter-widgets/controls",
            "_model_module_version": "1.5.0",
            "_model_name": "ProgressStyleModel",
            "_view_count": null,
            "_view_module": "@jupyter-widgets/base",
            "_view_module_version": "1.2.0",
            "_view_name": "StyleView",
            "bar_color": null,
            "description_width": ""
          }
        },
        "35bdcfa8c27b4a1f881e0ee823dcba15": {
          "model_module": "@jupyter-widgets/controls",
          "model_module_version": "1.5.0",
          "model_name": "DescriptionStyleModel",
          "state": {
            "_model_module": "@jupyter-widgets/controls",
            "_model_module_version": "1.5.0",
            "_model_name": "DescriptionStyleModel",
            "_view_count": null,
            "_view_module": "@jupyter-widgets/base",
            "_view_module_version": "1.2.0",
            "_view_name": "StyleView",
            "description_width": ""
          }
        },
        "37b2c4dfd19349ddad97d0db9e316b8a": {
          "model_module": "@jupyter-widgets/controls",
          "model_module_version": "1.5.0",
          "model_name": "DescriptionStyleModel",
          "state": {
            "_model_module": "@jupyter-widgets/controls",
            "_model_module_version": "1.5.0",
            "_model_name": "DescriptionStyleModel",
            "_view_count": null,
            "_view_module": "@jupyter-widgets/base",
            "_view_module_version": "1.2.0",
            "_view_name": "StyleView",
            "description_width": ""
          }
        },
        "3bd776ffbeb149efb1336b71fb940f8b": {
          "model_module": "@jupyter-widgets/base",
          "model_module_version": "1.2.0",
          "model_name": "LayoutModel",
          "state": {
            "_model_module": "@jupyter-widgets/base",
            "_model_module_version": "1.2.0",
            "_model_name": "LayoutModel",
            "_view_count": null,
            "_view_module": "@jupyter-widgets/base",
            "_view_module_version": "1.2.0",
            "_view_name": "LayoutView",
            "align_content": null,
            "align_items": null,
            "align_self": null,
            "border": null,
            "bottom": null,
            "display": null,
            "flex": null,
            "flex_flow": null,
            "grid_area": null,
            "grid_auto_columns": null,
            "grid_auto_flow": null,
            "grid_auto_rows": null,
            "grid_column": null,
            "grid_gap": null,
            "grid_row": null,
            "grid_template_areas": null,
            "grid_template_columns": null,
            "grid_template_rows": null,
            "height": null,
            "justify_content": null,
            "justify_items": null,
            "left": null,
            "margin": null,
            "max_height": null,
            "max_width": null,
            "min_height": null,
            "min_width": null,
            "object_fit": null,
            "object_position": null,
            "order": null,
            "overflow": null,
            "overflow_x": null,
            "overflow_y": null,
            "padding": null,
            "right": null,
            "top": null,
            "visibility": null,
            "width": null
          }
        },
        "52222a8c19df4ffa915987e1b544f4b7": {
          "model_module": "@jupyter-widgets/controls",
          "model_module_version": "1.5.0",
          "model_name": "FloatProgressModel",
          "state": {
            "_dom_classes": [],
            "_model_module": "@jupyter-widgets/controls",
            "_model_module_version": "1.5.0",
            "_model_name": "FloatProgressModel",
            "_view_count": null,
            "_view_module": "@jupyter-widgets/controls",
            "_view_module_version": "1.5.0",
            "_view_name": "ProgressView",
            "bar_style": "success",
            "description": "",
            "description_tooltip": null,
            "layout": "IPY_MODEL_07063e2eed374b6f8010c761d0ed8d09",
            "max": 684,
            "min": 0,
            "orientation": "horizontal",
            "style": "IPY_MODEL_65ec7e7369cc4182a24f954fafdb9a89",
            "value": 684
          }
        },
        "5ee5fac352344d749f6ba1875f8eee0e": {
          "model_module": "@jupyter-widgets/base",
          "model_module_version": "1.2.0",
          "model_name": "LayoutModel",
          "state": {
            "_model_module": "@jupyter-widgets/base",
            "_model_module_version": "1.2.0",
            "_model_name": "LayoutModel",
            "_view_count": null,
            "_view_module": "@jupyter-widgets/base",
            "_view_module_version": "1.2.0",
            "_view_name": "LayoutView",
            "align_content": null,
            "align_items": null,
            "align_self": null,
            "border": null,
            "bottom": null,
            "display": null,
            "flex": null,
            "flex_flow": null,
            "grid_area": null,
            "grid_auto_columns": null,
            "grid_auto_flow": null,
            "grid_auto_rows": null,
            "grid_column": null,
            "grid_gap": null,
            "grid_row": null,
            "grid_template_areas": null,
            "grid_template_columns": null,
            "grid_template_rows": null,
            "height": null,
            "justify_content": null,
            "justify_items": null,
            "left": null,
            "margin": null,
            "max_height": null,
            "max_width": null,
            "min_height": null,
            "min_width": null,
            "object_fit": null,
            "object_position": null,
            "order": null,
            "overflow": null,
            "overflow_x": null,
            "overflow_y": null,
            "padding": null,
            "right": null,
            "top": null,
            "visibility": null,
            "width": null
          }
        },
        "64619645241944c794dc5deab86a4592": {
          "model_module": "@jupyter-widgets/controls",
          "model_module_version": "1.5.0",
          "model_name": "HBoxModel",
          "state": {
            "_dom_classes": [],
            "_model_module": "@jupyter-widgets/controls",
            "_model_module_version": "1.5.0",
            "_model_name": "HBoxModel",
            "_view_count": null,
            "_view_module": "@jupyter-widgets/controls",
            "_view_module_version": "1.5.0",
            "_view_name": "HBoxView",
            "box_style": "",
            "children": [
              "IPY_MODEL_2f216368c0804fdfb9739623a322d265",
              "IPY_MODEL_dd98b42a9d6044ea859b1b1396134d4f",
              "IPY_MODEL_12ca81c652d04a2b884665e11a09367d"
            ],
            "layout": "IPY_MODEL_da0409b3cb1b4f69a9ee09746765c434"
          }
        },
        "655eb21fd1bf419982d65fdf83a9ed98": {
          "model_module": "@jupyter-widgets/controls",
          "model_module_version": "1.5.0",
          "model_name": "DescriptionStyleModel",
          "state": {
            "_model_module": "@jupyter-widgets/controls",
            "_model_module_version": "1.5.0",
            "_model_name": "DescriptionStyleModel",
            "_view_count": null,
            "_view_module": "@jupyter-widgets/base",
            "_view_module_version": "1.2.0",
            "_view_name": "StyleView",
            "description_width": ""
          }
        },
        "65ec7e7369cc4182a24f954fafdb9a89": {
          "model_module": "@jupyter-widgets/controls",
          "model_module_version": "1.5.0",
          "model_name": "ProgressStyleModel",
          "state": {
            "_model_module": "@jupyter-widgets/controls",
            "_model_module_version": "1.5.0",
            "_model_name": "ProgressStyleModel",
            "_view_count": null,
            "_view_module": "@jupyter-widgets/base",
            "_view_module_version": "1.2.0",
            "_view_name": "StyleView",
            "bar_color": null,
            "description_width": ""
          }
        },
        "71f8195504e94e94a74eaed1a6943c92": {
          "model_module": "@jupyter-widgets/controls",
          "model_module_version": "1.5.0",
          "model_name": "FloatProgressModel",
          "state": {
            "_dom_classes": [],
            "_model_module": "@jupyter-widgets/controls",
            "_model_module_version": "1.5.0",
            "_model_name": "FloatProgressModel",
            "_view_count": null,
            "_view_module": "@jupyter-widgets/controls",
            "_view_module_version": "1.5.0",
            "_view_name": "ProgressView",
            "bar_style": "success",
            "description": "",
            "description_tooltip": null,
            "layout": "IPY_MODEL_993052ad0b6a4c638d03d55aa9261190",
            "max": 47376696,
            "min": 0,
            "orientation": "horizontal",
            "style": "IPY_MODEL_3487dd1aa59940ebb72d1f05083c8fec",
            "value": 47376696
          }
        },
        "79e0d65e2582458483276f018761f33b": {
          "model_module": "@jupyter-widgets/controls",
          "model_module_version": "1.5.0",
          "model_name": "HTMLModel",
          "state": {
            "_dom_classes": [],
            "_model_module": "@jupyter-widgets/controls",
            "_model_module_version": "1.5.0",
            "_model_name": "HTMLModel",
            "_view_count": null,
            "_view_module": "@jupyter-widgets/controls",
            "_view_module_version": "1.5.0",
            "_view_name": "HTMLView",
            "description": "",
            "description_tooltip": null,
            "layout": "IPY_MODEL_f6ed2b62b1f44d52839d2ae2248afb0e",
            "placeholder": "​",
            "style": "IPY_MODEL_cbd3dd87b4cb4e2abd4cd1da5bbb9b06",
            "value": " 684/684 [00:00&lt;00:00, 26.7kB/s]"
          }
        },
        "8dd6555926da40f9881fed9f2fcf2fdb": {
          "model_module": "@jupyter-widgets/controls",
          "model_module_version": "1.5.0",
          "model_name": "HTMLModel",
          "state": {
            "_dom_classes": [],
            "_model_module": "@jupyter-widgets/controls",
            "_model_module_version": "1.5.0",
            "_model_name": "HTMLModel",
            "_view_count": null,
            "_view_module": "@jupyter-widgets/controls",
            "_view_module_version": "1.5.0",
            "_view_name": "HTMLView",
            "description": "",
            "description_tooltip": null,
            "layout": "IPY_MODEL_f39f1641bb2f47d2bf5c344939d355c6",
            "placeholder": "​",
            "style": "IPY_MODEL_2218c764cab04e4aa9e3e9bbbe052fc6",
            "value": "Downloading: 100%"
          }
        },
        "993052ad0b6a4c638d03d55aa9261190": {
          "model_module": "@jupyter-widgets/base",
          "model_module_version": "1.2.0",
          "model_name": "LayoutModel",
          "state": {
            "_model_module": "@jupyter-widgets/base",
            "_model_module_version": "1.2.0",
            "_model_name": "LayoutModel",
            "_view_count": null,
            "_view_module": "@jupyter-widgets/base",
            "_view_module_version": "1.2.0",
            "_view_name": "LayoutView",
            "align_content": null,
            "align_items": null,
            "align_self": null,
            "border": null,
            "bottom": null,
            "display": null,
            "flex": null,
            "flex_flow": null,
            "grid_area": null,
            "grid_auto_columns": null,
            "grid_auto_flow": null,
            "grid_auto_rows": null,
            "grid_column": null,
            "grid_gap": null,
            "grid_row": null,
            "grid_template_areas": null,
            "grid_template_columns": null,
            "grid_template_rows": null,
            "height": null,
            "justify_content": null,
            "justify_items": null,
            "left": null,
            "margin": null,
            "max_height": null,
            "max_width": null,
            "min_height": null,
            "min_width": null,
            "object_fit": null,
            "object_position": null,
            "order": null,
            "overflow": null,
            "overflow_x": null,
            "overflow_y": null,
            "padding": null,
            "right": null,
            "top": null,
            "visibility": null,
            "width": null
          }
        },
        "a0fb438e88f84a8e94a9f167100bac9c": {
          "model_module": "@jupyter-widgets/controls",
          "model_module_version": "1.5.0",
          "model_name": "HBoxModel",
          "state": {
            "_dom_classes": [],
            "_model_module": "@jupyter-widgets/controls",
            "_model_module_version": "1.5.0",
            "_model_name": "HBoxModel",
            "_view_count": null,
            "_view_module": "@jupyter-widgets/controls",
            "_view_module_version": "1.5.0",
            "_view_name": "HBoxView",
            "box_style": "",
            "children": [
              "IPY_MODEL_a5df3095aa34441c91e93b7b2006d0b7",
              "IPY_MODEL_71f8195504e94e94a74eaed1a6943c92",
              "IPY_MODEL_b337ef7b88be4c68923318f3b12d015b"
            ],
            "layout": "IPY_MODEL_5ee5fac352344d749f6ba1875f8eee0e"
          }
        },
        "a2a9ffb1d0e64fe094d5cf8c66233258": {
          "model_module": "@jupyter-widgets/base",
          "model_module_version": "1.2.0",
          "model_name": "LayoutModel",
          "state": {
            "_model_module": "@jupyter-widgets/base",
            "_model_module_version": "1.2.0",
            "_model_name": "LayoutModel",
            "_view_count": null,
            "_view_module": "@jupyter-widgets/base",
            "_view_module_version": "1.2.0",
            "_view_name": "LayoutView",
            "align_content": null,
            "align_items": null,
            "align_self": null,
            "border": null,
            "bottom": null,
            "display": null,
            "flex": null,
            "flex_flow": null,
            "grid_area": null,
            "grid_auto_columns": null,
            "grid_auto_flow": null,
            "grid_auto_rows": null,
            "grid_column": null,
            "grid_gap": null,
            "grid_row": null,
            "grid_template_areas": null,
            "grid_template_columns": null,
            "grid_template_rows": null,
            "height": null,
            "justify_content": null,
            "justify_items": null,
            "left": null,
            "margin": null,
            "max_height": null,
            "max_width": null,
            "min_height": null,
            "min_width": null,
            "object_fit": null,
            "object_position": null,
            "order": null,
            "overflow": null,
            "overflow_x": null,
            "overflow_y": null,
            "padding": null,
            "right": null,
            "top": null,
            "visibility": null,
            "width": null
          }
        },
        "a5df3095aa34441c91e93b7b2006d0b7": {
          "model_module": "@jupyter-widgets/controls",
          "model_module_version": "1.5.0",
          "model_name": "HTMLModel",
          "state": {
            "_dom_classes": [],
            "_model_module": "@jupyter-widgets/controls",
            "_model_module_version": "1.5.0",
            "_model_name": "HTMLModel",
            "_view_count": null,
            "_view_module": "@jupyter-widgets/controls",
            "_view_module_version": "1.5.0",
            "_view_name": "HTMLView",
            "description": "",
            "description_tooltip": null,
            "layout": "IPY_MODEL_d13b153d63f1452daf0d3f5c8cf9f734",
            "placeholder": "​",
            "style": "IPY_MODEL_35bdcfa8c27b4a1f881e0ee823dcba15",
            "value": "Downloading: 100%"
          }
        },
        "b337ef7b88be4c68923318f3b12d015b": {
          "model_module": "@jupyter-widgets/controls",
          "model_module_version": "1.5.0",
          "model_name": "HTMLModel",
          "state": {
            "_dom_classes": [],
            "_model_module": "@jupyter-widgets/controls",
            "_model_module_version": "1.5.0",
            "_model_name": "HTMLModel",
            "_view_count": null,
            "_view_module": "@jupyter-widgets/controls",
            "_view_module_version": "1.5.0",
            "_view_name": "HTMLView",
            "description": "",
            "description_tooltip": null,
            "layout": "IPY_MODEL_dd451b1f7e764fe381e8674c6f497a61",
            "placeholder": "​",
            "style": "IPY_MODEL_bce28a17ae4d4b5e8cd65e8f986a6af7",
            "value": " 47.4M/47.4M [00:01&lt;00:00, 50.4MB/s]"
          }
        },
        "b68459f216a64a26a2556f50063541af": {
          "model_module": "@jupyter-widgets/controls",
          "model_module_version": "1.5.0",
          "model_name": "ProgressStyleModel",
          "state": {
            "_model_module": "@jupyter-widgets/controls",
            "_model_module_version": "1.5.0",
            "_model_name": "ProgressStyleModel",
            "_view_count": null,
            "_view_module": "@jupyter-widgets/base",
            "_view_module_version": "1.2.0",
            "_view_name": "StyleView",
            "bar_color": null,
            "description_width": ""
          }
        },
        "bce28a17ae4d4b5e8cd65e8f986a6af7": {
          "model_module": "@jupyter-widgets/controls",
          "model_module_version": "1.5.0",
          "model_name": "DescriptionStyleModel",
          "state": {
            "_model_module": "@jupyter-widgets/controls",
            "_model_module_version": "1.5.0",
            "_model_name": "DescriptionStyleModel",
            "_view_count": null,
            "_view_module": "@jupyter-widgets/base",
            "_view_module_version": "1.2.0",
            "_view_name": "StyleView",
            "description_width": ""
          }
        },
        "cbd3dd87b4cb4e2abd4cd1da5bbb9b06": {
          "model_module": "@jupyter-widgets/controls",
          "model_module_version": "1.5.0",
          "model_name": "DescriptionStyleModel",
          "state": {
            "_model_module": "@jupyter-widgets/controls",
            "_model_module_version": "1.5.0",
            "_model_name": "DescriptionStyleModel",
            "_view_count": null,
            "_view_module": "@jupyter-widgets/base",
            "_view_module_version": "1.2.0",
            "_view_name": "StyleView",
            "description_width": ""
          }
        },
        "cdd113c8c8394887adafaada1a079aeb": {
          "model_module": "@jupyter-widgets/controls",
          "model_module_version": "1.5.0",
          "model_name": "HBoxModel",
          "state": {
            "_dom_classes": [],
            "_model_module": "@jupyter-widgets/controls",
            "_model_module_version": "1.5.0",
            "_model_name": "HBoxModel",
            "_view_count": null,
            "_view_module": "@jupyter-widgets/controls",
            "_view_module_version": "1.5.0",
            "_view_name": "HBoxView",
            "box_style": "",
            "children": [
              "IPY_MODEL_8dd6555926da40f9881fed9f2fcf2fdb",
              "IPY_MODEL_52222a8c19df4ffa915987e1b544f4b7",
              "IPY_MODEL_79e0d65e2582458483276f018761f33b"
            ],
            "layout": "IPY_MODEL_3bd776ffbeb149efb1336b71fb940f8b"
          }
        },
        "d13b153d63f1452daf0d3f5c8cf9f734": {
          "model_module": "@jupyter-widgets/base",
          "model_module_version": "1.2.0",
          "model_name": "LayoutModel",
          "state": {
            "_model_module": "@jupyter-widgets/base",
            "_model_module_version": "1.2.0",
            "_model_name": "LayoutModel",
            "_view_count": null,
            "_view_module": "@jupyter-widgets/base",
            "_view_module_version": "1.2.0",
            "_view_name": "LayoutView",
            "align_content": null,
            "align_items": null,
            "align_self": null,
            "border": null,
            "bottom": null,
            "display": null,
            "flex": null,
            "flex_flow": null,
            "grid_area": null,
            "grid_auto_columns": null,
            "grid_auto_flow": null,
            "grid_auto_rows": null,
            "grid_column": null,
            "grid_gap": null,
            "grid_row": null,
            "grid_template_areas": null,
            "grid_template_columns": null,
            "grid_template_rows": null,
            "height": null,
            "justify_content": null,
            "justify_items": null,
            "left": null,
            "margin": null,
            "max_height": null,
            "max_width": null,
            "min_height": null,
            "min_width": null,
            "object_fit": null,
            "object_position": null,
            "order": null,
            "overflow": null,
            "overflow_x": null,
            "overflow_y": null,
            "padding": null,
            "right": null,
            "top": null,
            "visibility": null,
            "width": null
          }
        },
        "da0409b3cb1b4f69a9ee09746765c434": {
          "model_module": "@jupyter-widgets/base",
          "model_module_version": "1.2.0",
          "model_name": "LayoutModel",
          "state": {
            "_model_module": "@jupyter-widgets/base",
            "_model_module_version": "1.2.0",
            "_model_name": "LayoutModel",
            "_view_count": null,
            "_view_module": "@jupyter-widgets/base",
            "_view_module_version": "1.2.0",
            "_view_name": "LayoutView",
            "align_content": null,
            "align_items": null,
            "align_self": null,
            "border": null,
            "bottom": null,
            "display": null,
            "flex": null,
            "flex_flow": null,
            "grid_area": null,
            "grid_auto_columns": null,
            "grid_auto_flow": null,
            "grid_auto_rows": null,
            "grid_column": null,
            "grid_gap": null,
            "grid_row": null,
            "grid_template_areas": null,
            "grid_template_columns": null,
            "grid_template_rows": null,
            "height": null,
            "justify_content": null,
            "justify_items": null,
            "left": null,
            "margin": null,
            "max_height": null,
            "max_width": null,
            "min_height": null,
            "min_width": null,
            "object_fit": null,
            "object_position": null,
            "order": null,
            "overflow": null,
            "overflow_x": null,
            "overflow_y": null,
            "padding": null,
            "right": null,
            "top": null,
            "visibility": null,
            "width": null
          }
        },
        "dd451b1f7e764fe381e8674c6f497a61": {
          "model_module": "@jupyter-widgets/base",
          "model_module_version": "1.2.0",
          "model_name": "LayoutModel",
          "state": {
            "_model_module": "@jupyter-widgets/base",
            "_model_module_version": "1.2.0",
            "_model_name": "LayoutModel",
            "_view_count": null,
            "_view_module": "@jupyter-widgets/base",
            "_view_module_version": "1.2.0",
            "_view_name": "LayoutView",
            "align_content": null,
            "align_items": null,
            "align_self": null,
            "border": null,
            "bottom": null,
            "display": null,
            "flex": null,
            "flex_flow": null,
            "grid_area": null,
            "grid_auto_columns": null,
            "grid_auto_flow": null,
            "grid_auto_rows": null,
            "grid_column": null,
            "grid_gap": null,
            "grid_row": null,
            "grid_template_areas": null,
            "grid_template_columns": null,
            "grid_template_rows": null,
            "height": null,
            "justify_content": null,
            "justify_items": null,
            "left": null,
            "margin": null,
            "max_height": null,
            "max_width": null,
            "min_height": null,
            "min_width": null,
            "object_fit": null,
            "object_position": null,
            "order": null,
            "overflow": null,
            "overflow_x": null,
            "overflow_y": null,
            "padding": null,
            "right": null,
            "top": null,
            "visibility": null,
            "width": null
          }
        },
        "dd98b42a9d6044ea859b1b1396134d4f": {
          "model_module": "@jupyter-widgets/controls",
          "model_module_version": "1.5.0",
          "model_name": "FloatProgressModel",
          "state": {
            "_dom_classes": [],
            "_model_module": "@jupyter-widgets/controls",
            "_model_module_version": "1.5.0",
            "_model_name": "FloatProgressModel",
            "_view_count": null,
            "_view_module": "@jupyter-widgets/controls",
            "_view_module_version": "1.5.0",
            "_view_name": "ProgressView",
            "bar_style": "success",
            "description": "",
            "description_tooltip": null,
            "layout": "IPY_MODEL_e5e4385154404ac1aaee8850f749d1a5",
            "max": 760289,
            "min": 0,
            "orientation": "horizontal",
            "style": "IPY_MODEL_b68459f216a64a26a2556f50063541af",
            "value": 760289
          }
        },
        "e5e4385154404ac1aaee8850f749d1a5": {
          "model_module": "@jupyter-widgets/base",
          "model_module_version": "1.2.0",
          "model_name": "LayoutModel",
          "state": {
            "_model_module": "@jupyter-widgets/base",
            "_model_module_version": "1.2.0",
            "_model_name": "LayoutModel",
            "_view_count": null,
            "_view_module": "@jupyter-widgets/base",
            "_view_module_version": "1.2.0",
            "_view_name": "LayoutView",
            "align_content": null,
            "align_items": null,
            "align_self": null,
            "border": null,
            "bottom": null,
            "display": null,
            "flex": null,
            "flex_flow": null,
            "grid_area": null,
            "grid_auto_columns": null,
            "grid_auto_flow": null,
            "grid_auto_rows": null,
            "grid_column": null,
            "grid_gap": null,
            "grid_row": null,
            "grid_template_areas": null,
            "grid_template_columns": null,
            "grid_template_rows": null,
            "height": null,
            "justify_content": null,
            "justify_items": null,
            "left": null,
            "margin": null,
            "max_height": null,
            "max_width": null,
            "min_height": null,
            "min_width": null,
            "object_fit": null,
            "object_position": null,
            "order": null,
            "overflow": null,
            "overflow_x": null,
            "overflow_y": null,
            "padding": null,
            "right": null,
            "top": null,
            "visibility": null,
            "width": null
          }
        },
        "ec0d2cfbfedc42b4be45406b091149c3": {
          "model_module": "@jupyter-widgets/base",
          "model_module_version": "1.2.0",
          "model_name": "LayoutModel",
          "state": {
            "_model_module": "@jupyter-widgets/base",
            "_model_module_version": "1.2.0",
            "_model_name": "LayoutModel",
            "_view_count": null,
            "_view_module": "@jupyter-widgets/base",
            "_view_module_version": "1.2.0",
            "_view_name": "LayoutView",
            "align_content": null,
            "align_items": null,
            "align_self": null,
            "border": null,
            "bottom": null,
            "display": null,
            "flex": null,
            "flex_flow": null,
            "grid_area": null,
            "grid_auto_columns": null,
            "grid_auto_flow": null,
            "grid_auto_rows": null,
            "grid_column": null,
            "grid_gap": null,
            "grid_row": null,
            "grid_template_areas": null,
            "grid_template_columns": null,
            "grid_template_rows": null,
            "height": null,
            "justify_content": null,
            "justify_items": null,
            "left": null,
            "margin": null,
            "max_height": null,
            "max_width": null,
            "min_height": null,
            "min_width": null,
            "object_fit": null,
            "object_position": null,
            "order": null,
            "overflow": null,
            "overflow_x": null,
            "overflow_y": null,
            "padding": null,
            "right": null,
            "top": null,
            "visibility": null,
            "width": null
          }
        },
        "f39f1641bb2f47d2bf5c344939d355c6": {
          "model_module": "@jupyter-widgets/base",
          "model_module_version": "1.2.0",
          "model_name": "LayoutModel",
          "state": {
            "_model_module": "@jupyter-widgets/base",
            "_model_module_version": "1.2.0",
            "_model_name": "LayoutModel",
            "_view_count": null,
            "_view_module": "@jupyter-widgets/base",
            "_view_module_version": "1.2.0",
            "_view_name": "LayoutView",
            "align_content": null,
            "align_items": null,
            "align_self": null,
            "border": null,
            "bottom": null,
            "display": null,
            "flex": null,
            "flex_flow": null,
            "grid_area": null,
            "grid_auto_columns": null,
            "grid_auto_flow": null,
            "grid_auto_rows": null,
            "grid_column": null,
            "grid_gap": null,
            "grid_row": null,
            "grid_template_areas": null,
            "grid_template_columns": null,
            "grid_template_rows": null,
            "height": null,
            "justify_content": null,
            "justify_items": null,
            "left": null,
            "margin": null,
            "max_height": null,
            "max_width": null,
            "min_height": null,
            "min_width": null,
            "object_fit": null,
            "object_position": null,
            "order": null,
            "overflow": null,
            "overflow_x": null,
            "overflow_y": null,
            "padding": null,
            "right": null,
            "top": null,
            "visibility": null,
            "width": null
          }
        },
        "f6ed2b62b1f44d52839d2ae2248afb0e": {
          "model_module": "@jupyter-widgets/base",
          "model_module_version": "1.2.0",
          "model_name": "LayoutModel",
          "state": {
            "_model_module": "@jupyter-widgets/base",
            "_model_module_version": "1.2.0",
            "_model_name": "LayoutModel",
            "_view_count": null,
            "_view_module": "@jupyter-widgets/base",
            "_view_module_version": "1.2.0",
            "_view_name": "LayoutView",
            "align_content": null,
            "align_items": null,
            "align_self": null,
            "border": null,
            "bottom": null,
            "display": null,
            "flex": null,
            "flex_flow": null,
            "grid_area": null,
            "grid_auto_columns": null,
            "grid_auto_flow": null,
            "grid_auto_rows": null,
            "grid_column": null,
            "grid_gap": null,
            "grid_row": null,
            "grid_template_areas": null,
            "grid_template_columns": null,
            "grid_template_rows": null,
            "height": null,
            "justify_content": null,
            "justify_items": null,
            "left": null,
            "margin": null,
            "max_height": null,
            "max_width": null,
            "min_height": null,
            "min_width": null,
            "object_fit": null,
            "object_position": null,
            "order": null,
            "overflow": null,
            "overflow_x": null,
            "overflow_y": null,
            "padding": null,
            "right": null,
            "top": null,
            "visibility": null,
            "width": null
          }
        }
      }
    }
  },
  "nbformat": 4,
  "nbformat_minor": 0
}